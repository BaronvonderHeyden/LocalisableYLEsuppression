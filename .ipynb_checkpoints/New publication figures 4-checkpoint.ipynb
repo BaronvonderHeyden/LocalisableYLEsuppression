{
 "cells": [
  {
   "cell_type": "markdown",
   "metadata": {},
   "source": [
    "# Setup"
   ]
  },
  {
   "cell_type": "markdown",
   "metadata": {},
   "source": [
    "First we need to run all the functions and data types that make up the model:"
   ]
  },
  {
   "cell_type": "code",
   "execution_count": null,
   "metadata": {},
   "outputs": [],
   "source": [
    "include(\"new model v9.jl\");"
   ]
  },
  {
   "cell_type": "markdown",
   "metadata": {},
   "source": [
    "Then, we define the parameter values we want to use in our simulations:"
   ]
  },
  {
   "cell_type": "code",
   "execution_count": null,
   "metadata": {},
   "outputs": [],
   "source": [
    "new_baseline_parameters = deepcopy(Parameters_set_standard);\n",
    "\n",
    "\n",
    "#editing efficiency\n",
    "new_baseline_parameters[\"e_e\"] = 0.95;\n",
    "\n",
    "#shredding efficiency\n",
    "new_baseline_parameters[\"e_h\"] = 0.95;\n",
    "\n",
    "#shredding activity is perfectly dominant\n",
    "new_baseline_parameters[\"h_e2\"] = 1.0;\n",
    "\n",
    "#homing efficiency\n",
    "new_baseline_parameters[\"e_s\"] = 0.90;\n",
    "\n",
    "\n",
    "#no resistance occuring at target sites\n",
    "new_baseline_parameters[\"er_1\"] = 0.0;\n",
    "new_baseline_parameters[\"er_2\"] = 0.0;\n",
    "new_baseline_parameters[\"er_3\"] = 0.0;\n",
    "\n",
    "\n",
    "#no loss of function mutations\n",
    "new_baseline_parameters[\"m_1\"] = 0.0;\n",
    "new_baseline_parameters[\"m_2\"] = 0.0;\n",
    "\n",
    "\n",
    "#ideal intended fitness costs are perfect\n",
    "new_baseline_parameters[\"s_f\"] = 1.0;\n",
    "new_baseline_parameters[\"h_f\"] = 1.0;\n",
    "\n",
    "\n",
    "#no unintended fitness costs\n",
    "new_baseline_parameters[\"s_a\"] = 0.0;\n",
    "new_baseline_parameters[\"s_b\"] = 0.0;\n",
    "new_baseline_parameters[\"s_c\"] = 0.0;\n",
    "new_baseline_parameters[\"s_d\"] = 0.0;\n",
    "new_baseline_parameters[\"s_e\"] = 0.0;\n",
    "new_baseline_parameters[\"h_e\"] = 0.0;\n",
    "new_baseline_parameters[\"s_m\"] = 0.0;\n",
    "\n",
    "\n",
    "#recombination rate (of X-linked loci; ie editing gene and shredding target site)\n",
    "new_baseline_parameters[\"r\"] = 0.5\n",
    "\n",
    "\n",
    "#intrinsic rate of population increase of 6\n",
    "new_baseline_parameters[\"Rm\"] = 6\n",
    "\n",
    "\n",
    "\n",
    "#first we initiate a vector that represents a normal wild-type population (no resistances, no transgenes present)\n",
    "genotype_standard = generate_population();\n",
    "\n",
    "#then we will assume heterozygous releases (YLE (= \"AB\") and 1 ASD (= \"CD\")/1 wt autosome (=\"cd\")) are added into the population\n",
    "genotype_standard[return_i([\"AB\" \"ef\" \"CD\" \"cd\"], genotypes_detailed)] = BigFloat(\"0.001\");\n",
    "\n",
    "\n",
    "#for a better understanding of the symbolic representation of genetic elements please have a look \n",
    "#at the beginning of the model code in the model file (\"new model v9.jl\")\n",
    "#all types of alleles and chromosomes are listed there"
   ]
  },
  {
   "cell_type": "markdown",
   "metadata": {},
   "source": [
    "# What happens if constructs are released individually? (Sup Fig XXX)"
   ]
  },
  {
   "cell_type": "code",
   "execution_count": null,
   "metadata": {},
   "outputs": [],
   "source": [
    "#assume YLE released in population at 0.1%\n",
    "YLE_release = generate_population();\n",
    "YLE_release[return_i([\"AB\" \"ef\" \"cd\" \"cd\"], genotypes_detailed)] = BigFloat(\"0.001\");\n",
    "\n",
    "YLE_run1 = timecourse(5000, YLE_release)"
   ]
  },
  {
   "cell_type": "code",
   "execution_count": null,
   "metadata": {},
   "outputs": [],
   "source": [
    "SupFig1a = plot_run_comprehensive(YLE_run1, yle_total_bool = true, given_dpi = 300, given_size = (325,150))\n",
    "plot!(legend=false, ytickfontsize = 10, xtickfontsize = 10, yaxis=:log, ylims = (1e-7,1.5))\n",
    "\n",
    "savefig(\"SupFig1a.svg\")\n",
    "\n",
    "SupFig1a"
   ]
  },
  {
   "cell_type": "markdown",
   "metadata": {},
   "source": [
    "Under ideal circumstances the YLE does not have much affect on population because it is so infrequent. It also does not disappear, as long as there is no fitness cost."
   ]
  },
  {
   "cell_type": "code",
   "execution_count": null,
   "metadata": {},
   "outputs": [],
   "source": [
    "#assume X-Shredder is released in population at 0.1%\n",
    "Shr_release = generate_population();\n",
    "Shr_release[return_i([\"ab\" \"ef\" \"CD\" \"cd\"], genotypes_detailed)] = BigFloat(\"0.001\");\n",
    "\n",
    "Shr_run1 = timecourse(5000, Shr_release)"
   ]
  },
  {
   "cell_type": "code",
   "execution_count": null,
   "metadata": {},
   "outputs": [],
   "source": [
    "SupFig1b = plot_run_comprehensive(Shr_run1, shredder_total_all_bool = true, given_dpi = 300, given_size = (325,150))\n",
    "plot!(legend=false, ytickfontsize = 10, xtickfontsize = 10, yaxis=:log, ylims = (1e-7,1.5))\n",
    "\n",
    "savefig(\"SupFig1b.svg\")\n",
    "\n",
    "SupFig1b"
   ]
  },
  {
   "cell_type": "markdown",
   "metadata": {},
   "source": [
    "The X-Shredder would disappear even under ideal circumstances, because it is distorts the sex ratio to its own disadvantage.\n",
    "\n",
    "\n",
    "In reality there would be mutations and potentially even (small) fitness costs. Then both would disappear and much faster. Overall, the constructs themselves cannot spread or supress (relevantly) if they are released individually."
   ]
  },
  {
   "cell_type": "markdown",
   "metadata": {},
   "source": [
    "# Idealised release (Figure 2a)"
   ]
  },
  {
   "cell_type": "code",
   "execution_count": null,
   "metadata": {},
   "outputs": [],
   "source": [
    "apply_parameters_set(new_baseline_parameters);\n",
    "\n",
    "run_baseline_scenario = timecourse(100, genotype_standard);"
   ]
  },
  {
   "cell_type": "code",
   "execution_count": null,
   "metadata": {},
   "outputs": [],
   "source": [
    "newfig1a = plot_run_comprehensive(run_baseline_scenario, yle_total_bool = true, shredder_total_male_bool = true, correlation_bool = true,\n",
    "            given_dpi = 300, given_size = (325,150), dCas9_bool = true, dgRNA1_bool = true, dgRNA2_bool = true, \n",
    "            dshredder_bool = true)\n",
    "plot!(legend=false, ytickfontsize = 10, xtickfontsize = 10)\n",
    "\n",
    "savefig(newfig1a, \"newfig1a.svg\")\n",
    "\n",
    "newfig1a"
   ]
  },
  {
   "cell_type": "markdown",
   "metadata": {},
   "source": [
    "# Idealised release in separate males (Figure 2b)"
   ]
  },
  {
   "cell_type": "code",
   "execution_count": null,
   "metadata": {},
   "outputs": [],
   "source": [
    "separate_release = generate_population();\n",
    "separate_release[return_i([\"AB\" \"ef\" \"cd\" \"cd\"], genotypes_detailed)] = 0.001;\n",
    "separate_release[return_i([\"ab\" \"ef\" \"CD\" \"cd\"], genotypes_detailed)] = 0.001;\n",
    "\n",
    "separte_run = timecourse(100, separate_release);"
   ]
  },
  {
   "cell_type": "code",
   "execution_count": null,
   "metadata": {},
   "outputs": [],
   "source": [
    "newfig1b = plot_run_comprehensive(separte_run, yle_total_bool = true, shredder_total_male_bool = true, correlation_bool = true,\n",
    "            given_dpi = 300, given_size = (325,150), dCas9_bool = true, dgRNA1_bool = true, dgRNA2_bool = true, \n",
    "            dshredder_bool = true)\n",
    "plot!(legend=false, ytickfontsize = 10, xtickfontsize = 10)\n",
    "\n",
    "savefig(newfig1b, \"newfig1b.svg\")\n",
    "\n",
    "newfig1b"
   ]
  },
  {
   "cell_type": "markdown",
   "metadata": {},
   "source": [
    "# Allowing Loss-of-Function mutations (Figure 2c+d)"
   ]
  },
  {
   "cell_type": "code",
   "execution_count": null,
   "metadata": {},
   "outputs": [],
   "source": [
    "#now we turn mutations on\n",
    "mutations_parameters = deepcopy(new_baseline_parameters);\n",
    "\n",
    "\n",
    "#no mutation\n",
    "mutations_parameters[\"m_1\"] = 1e-3;\n",
    "mutations_parameters[\"m_2\"] = 1e-6;\n",
    "\n",
    "\n",
    "apply_parameters_set(mutations_parameters);"
   ]
  },
  {
   "cell_type": "code",
   "execution_count": null,
   "metadata": {},
   "outputs": [],
   "source": [
    "mutations_run = timecourse(150, genotype_standard);"
   ]
  },
  {
   "cell_type": "code",
   "execution_count": null,
   "metadata": {},
   "outputs": [],
   "source": [
    "newfig1c = plot_run_comprehensive(mutations_run, yle_total_bool = true, shredder_total_male_bool = true, correlation_bool = true,\n",
    "            given_dpi = 300, given_size = (325,150), dCas9_bool = true, dgRNA1_bool = true, dgRNA2_bool = true, \n",
    "            dshredder_bool = true)\n",
    "plot!(legend=false, ytickfontsize = 10, xtickfontsize = 10)\n",
    "\n",
    "savefig(newfig1c, \"newfig1c.svg\")\n",
    "\n",
    "newfig1c"
   ]
  },
  {
   "cell_type": "code",
   "execution_count": null,
   "metadata": {},
   "outputs": [],
   "source": [
    "newfig1d = plot_run_comprehensive(mutations_run,\n",
    "            given_dpi = 300, given_size = (325,150), dCas9_bool = true, dgRNA1_bool = true, dgRNA2_bool = true, \n",
    "            dshredder_bool = true, log_safe = true)\n",
    "plot!(legend=false, ytickfontsize = 10, xtickfontsize = 10, yaxis=:log, ylims = (1e-8, 1.5), yticks = [1, 1e-2, 1e-4, 1e-6, 1e-8])\n",
    "\n",
    "savefig(newfig1d, \"newfig1d.svg\")\n",
    "\n",
    "newfig1d"
   ]
  },
  {
   "cell_type": "markdown",
   "metadata": {},
   "source": [
    "## Including target site resistance (end-joining repair) (Figure 2e-g)"
   ]
  },
  {
   "cell_type": "code",
   "execution_count": null,
   "metadata": {},
   "outputs": [],
   "source": [
    "er1_resistance_parameters = deepcopy(mutations_parameters);\n",
    "er2_resistance_parameters = deepcopy(mutations_parameters);\n",
    "er3_resistance_parameters = deepcopy(mutations_parameters);\n",
    "\n",
    "\n",
    "#no resistance occuring at target sites\n",
    "er1_resistance_parameters[\"er_1\"] = 0.05;\n",
    "er2_resistance_parameters[\"er_2\"] = 0.05;\n",
    "er3_resistance_parameters[\"er_3\"] = 0.05;"
   ]
  },
  {
   "cell_type": "code",
   "execution_count": null,
   "metadata": {},
   "outputs": [],
   "source": [
    "apply_parameters_set(er1_resistance_parameters);\n",
    "\n",
    "er1_run = timecourse(150, genotype_standard);"
   ]
  },
  {
   "cell_type": "code",
   "execution_count": null,
   "metadata": {},
   "outputs": [],
   "source": [
    "newfig1e = plot_run_comprehensive(er1_run, yle_total_bool = true, shredder_total_male_bool = true, correlation_bool = true,\n",
    "            given_dpi = 300, given_size = (350,150), dCas9_bool = true, dgRNA1_bool = true, dgRNA2_bool = true, \n",
    "            dshredder_bool = true, res1_bool = true, allfemales_log = true, second_y_log_lims = [1e-8, 1.5])\n",
    "plot!(legend=false, ytickfontsize = 10, xtickfontsize = 10)\n",
    "\n",
    "savefig(newfig1e, \"newfig1g.svg\")\n",
    "\n",
    "newfig1e"
   ]
  },
  {
   "cell_type": "code",
   "execution_count": null,
   "metadata": {},
   "outputs": [],
   "source": [
    "return_min_population_size_and_max_transgenic_freq(er1_run)"
   ]
  },
  {
   "cell_type": "code",
   "execution_count": null,
   "metadata": {},
   "outputs": [],
   "source": [
    "apply_parameters_set(er2_resistance_parameters);\n",
    "\n",
    "er2_run = timecourse(150, genotype_standard);"
   ]
  },
  {
   "cell_type": "code",
   "execution_count": null,
   "metadata": {},
   "outputs": [],
   "source": [
    "newfig1f =  plot_run_comprehensive(er2_run, yle_total_bool = true, shredder_total_male_bool = true, correlation_bool = true,\n",
    "            given_dpi = 300, given_size = (350,150), dCas9_bool = true, dgRNA1_bool = true, dgRNA2_bool = true, \n",
    "            dshredder_bool = true, res2_bool = true, allfemales_log = true, second_y_log_lims = [1e-8, 1.5])\n",
    "plot!(legend=false, ytickfontsize = 10, xtickfontsize = 10)\n",
    "\n",
    "\n",
    "savefig(newfig1f, \"newfig1f.svg\")\n",
    "\n",
    "newfig1f"
   ]
  },
  {
   "cell_type": "code",
   "execution_count": null,
   "metadata": {},
   "outputs": [],
   "source": [
    "apply_parameters_set(er3_resistance_parameters);\n",
    "\n",
    "er3_run = timecourse(150, genotype_standard);"
   ]
  },
  {
   "cell_type": "code",
   "execution_count": null,
   "metadata": {},
   "outputs": [],
   "source": [
    "newfig1g =  plot_run_comprehensive(er3_run, yle_total_bool = true, shredder_total_male_bool = true, correlation_bool = true,\n",
    "            given_dpi = 300, given_size = (350,150), dCas9_bool = true, dgRNA1_bool = true, dgRNA2_bool = true, \n",
    "            dshredder_bool = true, res3_bool = true, allfemales_log = true, second_y_log_lims = [1e-8, 1.5])\n",
    "plot!(legend=false, ytickfontsize = 10, xtickfontsize = 10)\n",
    "\n",
    "savefig(newfig1g, \"newfig1e.svg\")\n",
    "\n",
    "newfig1g"
   ]
  },
  {
   "cell_type": "markdown",
   "metadata": {},
   "source": [
    "# Resistance parameter scans (Figure 3)"
   ]
  },
  {
   "cell_type": "markdown",
   "metadata": {},
   "source": [
    "This is the code for the scans, running it takes quite some time. The actual results as stored in csv files which can be read quickly to reproduce plots. "
   ]
  },
  {
   "cell_type": "code",
   "execution_count": null,
   "metadata": {},
   "outputs": [],
   "source": [
    "# er1 = Any[\"value\" \"sup\" \"dur\" \"Y\" \"S\"]\n",
    "# er2 = Any[\"value\" \"sup\" \"dur\" \"Y\" \"S\"]\n",
    "# er3 = Any[\"value\" \"sup\" \"dur\" \"Y\" \"S\"]\n",
    "\n",
    "\n",
    "# apply_parameters_set(Parameters_set_sensitivity2)\n",
    "\n",
    "# save_current_matrices = deepcopy(current_matrices)\n",
    "# save_current_Parameters = deepcopy(Parameters_set_sensitivity2)\n",
    "\n",
    "# current_matrices = deepcopy(save_current_matrices)\n",
    "# current_Parameters = deepcopy(save_current_Parameters)\n",
    "\n",
    "\n",
    "\n",
    "# for i in -6:0.05:0\n",
    "#     global er1\n",
    "#     current_Parameters[\"er_1\"] = 10^(i)\n",
    "\n",
    "#     editing_matrix0 = deepcopy(editing_matrix_num)\n",
    "\n",
    "#     for i in 1:length(editing_matrix[:,1])\n",
    "#         for j in editing_symbols[i]\n",
    "#             editing_matrix0[i,j] = BigFloat(float.(editing_matrix0[i,j].evalf(subs = current_Parameters, given_precision)))\n",
    "#         end\n",
    "#     end\n",
    "\n",
    "#     current_matrices[\"editing_matrix\"] = editing_matrix0\n",
    "#     sup, dur, Y, S = timecourse_parameterscan_comprehensive(150, genotype_standard)\n",
    "#     add = [i sup dur Y S]\n",
    "#     er1 = vcat(er1, add)\n",
    "\n",
    "# end\n",
    "\n",
    "# writedlm(\"er1_scan_005\",  er1, ',')\n",
    "\n",
    "\n",
    "\n",
    "# current_matrices = copy(save_current_matrices)\n",
    "# current_Parameters = deepcopy(save_current_Parameters)\n",
    "\n",
    "\n",
    "# for i in 0:0.01:1\n",
    "#     global er2\n",
    "#     current_Parameters[\"er_2\"] = i\n",
    "#     sperm_matrix0 = deepcopy(sperm_matrix_num)\n",
    "\n",
    "#     for i in 1:length(sperm_matrix[:,1])\n",
    "#         for j in sperm_symbols[i]\n",
    "#             sperm_matrix0[i,j] = BigFloat(float.(sperm_matrix0[i,j].evalf(subs = current_Parameters, given_precision)))\n",
    "#         end\n",
    "#     end\n",
    "#     current_matrices[\"sperm_matrix\"] = sperm_matrix0\n",
    "#     sup, dur, Y, S = timecourse_parameterscan_comprehensive(150, genotype_standard)\n",
    "#     add = [i sup dur Y S]\n",
    "#     er2 = vcat(er2, add)\n",
    "# end\n",
    "# writedlm(\"er2_scan_005\",  er2, ',')\n",
    "\n",
    "\n",
    "\n",
    "# #--------------------------------------\n",
    "# #--------------------------------------\n",
    "\n",
    "# er1 = Any[\"value\" \"sup\" \"dur\" \"Y\" \"S\"]\n",
    "# er2 = Any[\"value\" \"sup\" \"dur\" \"Y\" \"S\"]\n",
    "# er3 = Any[\"value\" \"sup\" \"dur\" \"Y\" \"S\"]\n",
    "\n",
    "\n",
    "\n",
    "# apply_parameters_set(Parameters_set_sensitivity3)\n",
    "# save_current_matrices = deepcopy(current_matrices)\n",
    "# save_current_Parameters = deepcopy(Parameters_set_sensitivity3)\n",
    "\n",
    "# current_matrices = deepcopy(save_current_matrices)\n",
    "# current_Parameters = deepcopy(save_current_Parameters)\n",
    "\n",
    "\n",
    "# for i in -6:0.05:0\n",
    "#     global er1\n",
    "#     current_Parameters[\"er_1\"] = 10^(i)\n",
    "\n",
    "#     editing_matrix0 = deepcopy(editing_matrix_num)\n",
    "\n",
    "#     for i in 1:length(editing_matrix[:,1])\n",
    "#         for j in editing_symbols[i]\n",
    "#             editing_matrix0[i,j] = BigFloat(float.(editing_matrix0[i,j].evalf(subs = current_Parameters, given_precision)))\n",
    "#         end\n",
    "#     end\n",
    "\n",
    "#     current_matrices[\"editing_matrix\"] = editing_matrix0\n",
    "#     sup, dur, Y, S = timecourse_parameterscan_comprehensive(150, genotype_standard)\n",
    "#     add = [i sup dur Y S]\n",
    "#     er1 = vcat(er1, add)\n",
    "\n",
    "# end\n",
    "\n",
    "# writedlm(\"er1_scan_06\",  er1, ',')\n",
    "\n",
    "\n",
    "\n",
    "# current_matrices = copy(save_current_matrices)\n",
    "# current_Parameters = deepcopy(save_current_Parameters)\n",
    "\n",
    "\n",
    "# for i in 0:0.01:1\n",
    "#     global er2\n",
    "#     current_Parameters[\"er_2\"] = i\n",
    "#     sperm_matrix0 = deepcopy(sperm_matrix_num)\n",
    "\n",
    "#     for i in 1:length(sperm_matrix[:,1])\n",
    "#         for j in sperm_symbols[i]\n",
    "#             sperm_matrix0[i,j] = BigFloat(float.(sperm_matrix0[i,j].evalf(subs = current_Parameters, given_precision)))\n",
    "#         end\n",
    "#     end\n",
    "#     current_matrices[\"sperm_matrix\"] = sperm_matrix0\n",
    "#     sup, dur, Y, S = timecourse_parameterscan_comprehensive(150, genotype_standard)\n",
    "#     add = [i sup dur Y S]\n",
    "#     er2 = vcat(er2, add)\n",
    "# end\n",
    "# writedlm(\"er2_scan_06\",  er2, ',')\n",
    "\n",
    "\n",
    "# current_matrices = copy(save_current_matrices)\n",
    "# current_Parameters = deepcopy(save_current_Parameters)\n",
    "\n",
    "\n",
    "# for i in 0.5:0.01:1\n",
    "#     global er3\n",
    "#     current_Parameters[\"er_3\"] = i\n",
    "#     homing_matrix0 = deepcopy(homing_matrix_num)\n",
    "\n",
    "#     for i in 1:length(homing_matrix[:,1])\n",
    "#         for j in homing_symbols[i]\n",
    "#             homing_matrix0[i,j] = BigFloat(float.(homing_matrix0[i,j].evalf(subs = current_Parameters, given_precision)))\n",
    "#         end\n",
    "#     end\n",
    "\n",
    "#     current_matrices[\"homing_matrix\"] = homing_matrix0\n",
    "#     sup, dur, Y, S = timecourse_parameterscan_comprehensive(150, genotype_standard)\n",
    "#     add = [i sup dur Y S]\n",
    "#     er3 = vcat(er3, add)\n",
    "# end\n",
    "# writedlm(\"er3_scan\",  er3, ',')\n",
    "\n"
   ]
  },
  {
   "cell_type": "markdown",
   "metadata": {},
   "source": [
    "After running, the results can be read from the saved CSV files:"
   ]
  },
  {
   "cell_type": "code",
   "execution_count": null,
   "metadata": {},
   "outputs": [],
   "source": [
    "er1_005 = readdlm(\"er1_scan_005\", ',')\n",
    "er1_06 = readdlm(\"er1_scan_06\", ',')\n",
    "\n",
    "\n",
    "er2_005 = readdlm(\"er2_scan_005\", ',')\n",
    "er2_06 = readdlm(\"er2_scan_06\", ',')\n",
    "\n",
    "\n",
    "er3 = readdlm(\"er3_scan\", ',')"
   ]
  },
  {
   "cell_type": "markdown",
   "metadata": {},
   "source": [
    "Now, we can plot the minimal population size for different parameter values against time:"
   ]
  },
  {
   "cell_type": "markdown",
   "metadata": {},
   "source": [
    "# Homing resistance scan"
   ]
  },
  {
   "cell_type": "code",
   "execution_count": null,
   "metadata": {},
   "outputs": [],
   "source": [
    "er3_plot = plot(er3[2:end,1], (er3[2:end,2]), lw = 4, label = \"min pop size\", colour=:black,\n",
    "    dpi = 300, size = (300,200), legend = false, ylims = (1e-10, 5), yaxis =:log)\n",
    "plot!(ytickfontsize = 10, xtickfontsize = 10, grid = false, xlims = (0,1))\n",
    "\n",
    "savefig(er3_plot, \"er3_scan_figure3.svg\")\n",
    "\n",
    "er3_plot"
   ]
  },
  {
   "cell_type": "markdown",
   "metadata": {},
   "source": [
    "# Shredding resistance scan"
   ]
  },
  {
   "cell_type": "code",
   "execution_count": null,
   "metadata": {},
   "outputs": [],
   "source": [
    "er2_plot = sensitivity_plot2(er2_005, er2_06, given_size = (300,200))\n",
    "plot!(xlims = (0,1))\n",
    "\n",
    "savefig(er2_plot, \"er2_scan_figure3.svg\")\n",
    "\n",
    "\n",
    "er2_plot"
   ]
  },
  {
   "cell_type": "markdown",
   "metadata": {},
   "source": [
    "# Editing resistance scan"
   ]
  },
  {
   "cell_type": "code",
   "execution_count": null,
   "metadata": {},
   "outputs": [],
   "source": [
    "er1_plot = sensitivity_plot2(er1_005, er1_06, given_size = (300,200))\n",
    "plot!(xlims = (-6,0))\n",
    "\n",
    "savefig(er1_plot, \"er1_scan_figure3.svg\")\n",
    "\n",
    "\n",
    "er1_plot"
   ]
  },
  {
   "cell_type": "markdown",
   "metadata": {},
   "source": [
    "# Parameter sensitivity analysis (local)"
   ]
  },
  {
   "cell_type": "markdown",
   "metadata": {},
   "source": [
    "Next we investigate the impact of changes in parameter values on minimal population size.\n",
    "\n",
    "Again, the following code is used to calculate outcomes for different parameter values. This will take a lot of computational time. Eventually, results are saved in CSV files which can be accessed readily: "
   ]
  },
  {
   "cell_type": "code",
   "execution_count": null,
   "metadata": {},
   "outputs": [],
   "source": [
    "# sf = Any[\"value\" \"sup\" \"dur\" \"Y\" \"S\"]\n",
    "# hf = Any[\"value\" \"sup\" \"dur\" \"Y\" \"S\"]\n",
    "\n",
    "# sa = Any[\"value\" \"sup\" \"dur\" \"Y\" \"S\"]\n",
    "# sb = Any[\"value\" \"sup\" \"dur\" \"Y\" \"S\"]\n",
    "# sc = Any[\"value\" \"sup\" \"dur\" \"Y\" \"S\"]\n",
    "# sd = Any[\"value\" \"sup\" \"dur\" \"Y\" \"S\"]\n",
    "# se = Any[\"value\" \"sup\" \"dur\" \"Y\" \"S\"]\n",
    "# he = Any[\"value\" \"sup\" \"dur\" \"Y\" \"S\"]\n",
    "\n",
    "# prot_expression_cost = Any[\"value\" \"sup\" \"dur\" \"Y\" \"S\"]\n",
    "\n",
    "# sm = Any[\"value\" \"sup\" \"dur\" \"Y\" \"S\"]\n",
    "\n",
    "# ee = Any[\"value\" \"sup\" \"dur\" \"Y\" \"S\"]\n",
    "# eh = Any[\"value\" \"sup\" \"dur\" \"Y\" \"S\"]\n",
    "# es = Any[\"value\" \"sup\" \"dur\" \"Y\" \"S\"]\n",
    "# he2 = Any[\"value\" \"sup\" \"dur\" \"Y\" \"S\"]\n",
    "\n",
    "# shredding_activity_cost = Any[\"value\" \"sup\" \"dur\" \"Y\" \"S\"]\n",
    "\n",
    "# m1 = Any[\"value\" \"sup\" \"dur\" \"Y\" \"S\"]\n",
    "# m2 = Any[\"value\" \"sup\" \"dur\" \"Y\" \"S\"]\n",
    "\n",
    "# er1 = Any[\"value\" \"sup\" \"dur\" \"Y\" \"S\"]\n",
    "# er2 = Any[\"value\" \"sup\" \"dur\" \"Y\" \"S\"]\n",
    "# er3 = Any[\"value\" \"sup\" \"dur\" \"Y\" \"S\"]\n",
    "\n",
    "\n",
    "\n",
    "\n",
    "# apply_parameters_set(Parameters_set_sensitivity2)\n",
    "# save_current_matrices = deepcopy(current_matrices)\n",
    "# save_current_Parameters = deepcopy(Parameters_set_sensitivity2)\n",
    "\n",
    "# current_matrices = deepcopy(save_current_matrices)\n",
    "# current_Parameters = deepcopy(save_current_Parameters)\n",
    "\n",
    "\n",
    "# for i in 1:-0.01:0\n",
    "#     global sf\n",
    "#     current_Parameters[\"s_f\"] = i\n",
    "#     current_matrices[\"selection_matrix\"] = BigFloat.(float.(selection_matrix.evalf(subs = current_Parameters, given_precision)))\n",
    "#     sup, dur, Y, S = timecourse_parameterscan_comprehensive(150, genotype_standard)\n",
    "#     add = [i sup dur Y S]\n",
    "#     sf = vcat(sf, add)\n",
    "\n",
    "# end\n",
    "\n",
    "# writedlm(\"sf_scan72\",  sf, ',')\n",
    "\n",
    "# current_matrices = deepcopy(save_current_matrices)\n",
    "# current_Parameters = deepcopy(save_current_Parameters)\n",
    "\n",
    "\n",
    "# for i in 1:-0.01:0\n",
    "#     global hf\n",
    "#     current_Parameters[\"h_f\"] = i\n",
    "#     current_matrices[\"selection_matrix\"] = BigFloat.(float.(selection_matrix.evalf(subs = current_Parameters, given_precision)))\n",
    "#     sup, dur, Y, S = timecourse_parameterscan_comprehensive(150, genotype_standard)\n",
    "#     add = [i sup dur Y S]\n",
    "#     hf = vcat(hf, add)\n",
    "\n",
    "# end\n",
    "# writedlm(\"hf_scan72\",  hf, ',')\n",
    "\n",
    "\n",
    "# current_matrices = copy(save_current_matrices)\n",
    "# current_Parameters = deepcopy(save_current_Parameters)\n",
    "\n",
    "\n",
    "# for i in 0:0.005:1\n",
    "#     global sa\n",
    "#     current_Parameters[\"s_a\"] = i\n",
    "#     current_matrices[\"selection_matrix\"] = BigFloat.(float.(selection_matrix.evalf(subs = current_Parameters, given_precision)))\n",
    "#     sup, dur, Y, S = timecourse_parameterscan_comprehensive(150, genotype_standard)\n",
    "#     add = [i sup dur Y S]\n",
    "#     sa = vcat(sa, add)\n",
    "\n",
    "# end\n",
    "# writedlm(\"sa_scan72\",  sa, ',')\n",
    "\n",
    "\n",
    "# current_matrices = copy(save_current_matrices)\n",
    "# current_Parameters = deepcopy(save_current_Parameters)\n",
    "\n",
    "\n",
    "# for i in 0:0.005:1\n",
    "#     global sb\n",
    "#     current_Parameters[\"s_b\"] = i\n",
    "#     current_matrices[\"selection_matrix\"] = BigFloat.(float.(selection_matrix.evalf(subs = current_Parameters, given_precision)))\n",
    "#     sup, dur, Y, S = timecourse_parameterscan_comprehensive(150, genotype_standard)\n",
    "#     add = [i sup dur Y S]\n",
    "#     sb = vcat(sb, add)\n",
    "\n",
    "# end\n",
    "# writedlm(\"sb_scan72\",  sb, ',')\n",
    "\n",
    "\n",
    "# current_matrices = copy(save_current_matrices)\n",
    "# current_Parameters = deepcopy(save_current_Parameters)\n",
    "\n",
    "\n",
    "\n",
    "# for i in 0:0.005:1\n",
    "#     global sc\n",
    "#     current_Parameters[\"s_c\"] = i\n",
    "#     current_matrices[\"selection_matrix\"] = BigFloat.(float.(selection_matrix.evalf(subs = current_Parameters, given_precision)))\n",
    "#     sup, dur, Y, S = timecourse_parameterscan_comprehensive(150, genotype_standard)\n",
    "#     add = [i sup dur Y S]\n",
    "#     sc = vcat(sc, add)\n",
    "\n",
    "# end\n",
    "# writedlm(\"sc_scan72\",  sc, ',')\n",
    "\n",
    "\n",
    "\n",
    "# current_matrices = copy(save_current_matrices)\n",
    "# current_Parameters = deepcopy(save_current_Parameters)\n",
    "\n",
    "\n",
    "# for i in 0:0.005:1\n",
    "#     global sd\n",
    "#     current_Parameters[\"s_d\"] = i\n",
    "#     current_matrices[\"selection_matrix\"] = BigFloat.(float.(selection_matrix.evalf(subs = current_Parameters, given_precision)))\n",
    "#     sup, dur, Y, S = timecourse_parameterscan_comprehensive(150, genotype_standard)\n",
    "#     add = [i sup dur Y S]\n",
    "#     sd = vcat(sd, add)\n",
    "\n",
    "# end\n",
    "# writedlm(\"sd_scan72\",  sd, ',')\n",
    "\n",
    "\n",
    "\n",
    "# current_matrices = copy(save_current_matrices)\n",
    "# current_Parameters = deepcopy(save_current_Parameters)\n",
    "\n",
    "\n",
    "# for i in 0:0.005:1\n",
    "#     global se\n",
    "#     current_Parameters[\"s_e\"] = i\n",
    "#     current_matrices[\"selection_matrix\"] = BigFloat.(float.(selection_matrix.evalf(subs = current_Parameters, given_precision)))\n",
    "#     sup, dur, Y, S = timecourse_parameterscan_comprehensive(150, genotype_standard)\n",
    "#     add = [i sup dur Y S]\n",
    "#     se = vcat(se, add)\n",
    "\n",
    "\n",
    "# end\n",
    "# writedlm(\"se_scan72\",  se, ',')\n",
    "\n",
    "\n",
    "\n",
    "# current_matrices = copy(save_current_matrices)\n",
    "# current_Parameters = deepcopy(save_current_Parameters)\n",
    "\n",
    "\n",
    "# for i in 0:0.005:1\n",
    "#     global he\n",
    "#     current_Parameters[\"h_e\"] = i\n",
    "#     current_matrices[\"selection_matrix\"] = BigFloat.(float.(selection_matrix.evalf(subs = current_Parameters, given_precision)))\n",
    "#     sup, dur, Y, S = timecourse_parameterscan_comprehensive(150, genotype_standard)\n",
    "#     add = [i sup dur Y S]\n",
    "#     he = vcat(he, add)\n",
    "\n",
    "# end\n",
    "# writedlm(\"he_scan72\",  he, ',')\n",
    "\n",
    "\n",
    "# current_matrices = copy(save_current_matrices)\n",
    "# current_Parameters = deepcopy(save_current_Parameters)\n",
    "\n",
    "\n",
    "\n",
    "# for i in 0:0.005:1\n",
    "#     global prot_expression_cost\n",
    "#     current_Parameters[\"s_a\"] = i\n",
    "#     current_Parameters[\"s_c\"] = i\n",
    "#     current_matrices[\"selection_matrix\"] = BigFloat.(float.(selection_matrix.evalf(subs = current_Parameters, given_precision)))\n",
    "#     sup, dur, Y, S = timecourse_parameterscan_comprehensive(150, genotype_standard)\n",
    "#     add = [i sup dur Y S]\n",
    "#     prot_expression_cost = vcat(prot_expression_cost, add)\n",
    "\n",
    "# end\n",
    "# writedlm(\"prot_expression_cost_scan72\",  prot_expression_cost, ',')\n",
    "\n",
    "\n",
    "\n",
    "# current_matrices = copy(save_current_matrices)\n",
    "# current_Parameters = deepcopy(save_current_Parameters)\n",
    "\n",
    "\n",
    "# for i in 0:0.02:1\n",
    "#     global sm\n",
    "#     current_Parameters[\"s_m\"] = i\n",
    "#     current_matrices[\"selection_matrix\"] = BigFloat.(float.(selection_matrix.evalf(subs = current_Parameters, given_precision)))\n",
    "#     sup, dur, Y, S = timecourse_parameterscan_comprehensive(150, genotype_standard)\n",
    "#     add = [i sup dur Y S]\n",
    "#     sm = vcat(sm, add)\n",
    "\n",
    "\n",
    "# end\n",
    "# writedlm(\"sm_scan72\",  sm, ',')\n",
    "\n",
    "\n",
    "# current_matrices = copy(save_current_matrices)\n",
    "# current_Parameters = deepcopy(save_current_Parameters)\n",
    "\n",
    "\n",
    "# for i in 1:-0.01:0\n",
    "#     global ee\n",
    "#     current_Parameters[\"e_e\"] = i\n",
    "\n",
    "#     editing_matrix0 = deepcopy(editing_matrix_num)\n",
    "\n",
    "#     for i in 1:length(editing_matrix[:,1])\n",
    "#         for j in editing_symbols[i]\n",
    "#             editing_matrix0[i,j] = BigFloat(float.(editing_matrix0[i,j].evalf(subs = current_Parameters, given_precision)))\n",
    "#         end\n",
    "#     end\n",
    "\n",
    "#     current_matrices[\"editing_matrix\"] = editing_matrix0\n",
    "#     sup, dur, Y, S = timecourse_parameterscan_comprehensive(150, genotype_standard)\n",
    "#     add = [i sup dur Y S]\n",
    "#     ee = vcat(ee, add)\n",
    "\n",
    "# end\n",
    "# writedlm(\"ee_scan72\",  ee, ',')\n",
    "\n",
    "\n",
    "\n",
    "# current_matrices = copy(save_current_matrices)\n",
    "# current_Parameters = deepcopy(save_current_Parameters)\n",
    "\n",
    "\n",
    "# for i in 1:-0.01:0\n",
    "#     global eh\n",
    "#     current_Parameters[\"e_h\"] = i\n",
    "\n",
    "#     homing_matrix0 = deepcopy(homing_matrix_num)\n",
    "\n",
    "#     for i in 1:length(homing_matrix[:,1])\n",
    "#         for j in homing_symbols[i]\n",
    "#             homing_matrix0[i,j] = BigFloat(float.(homing_matrix0[i,j].evalf(subs = current_Parameters, given_precision)))\n",
    "#         end\n",
    "#     end\n",
    "\n",
    "#     current_matrices[\"homing_matrix\"] = homing_matrix0\n",
    "#     sup, dur, Y, S = timecourse_parameterscan_comprehensive(150, genotype_standard)\n",
    "#     add = [i sup dur Y S]\n",
    "#     eh = vcat(eh, add)\n",
    "# end\n",
    "# writedlm(\"eh_scan72\",  eh, ',')\n",
    "\n",
    "\n",
    "\n",
    "\n",
    "# current_matrices = copy(save_current_matrices)\n",
    "# current_Parameters = deepcopy(save_current_Parameters)\n",
    "\n",
    "# for i in 1:-0.01:0\n",
    "#     global es\n",
    "#     current_Parameters[\"e_s\"] = i\n",
    "\n",
    "#     sperm_matrix0 = deepcopy(sperm_matrix_num)\n",
    "\n",
    "#     for i in 1:length(sperm_matrix[:,1])\n",
    "#         for j in sperm_symbols[i]\n",
    "#             sperm_matrix0[i,j] = BigFloat(float.(sperm_matrix0[i,j].evalf(subs = current_Parameters, given_precision)))\n",
    "#         end\n",
    "#     end\n",
    "\n",
    "#     current_matrices[\"sperm_matrix\"] = sperm_matrix0\n",
    "#     sup, dur, Y, S = timecourse_parameterscan_comprehensive(150, genotype_standard)\n",
    "#     add = [i sup dur Y S]\n",
    "#     es = vcat(es, add)\n",
    "\n",
    "# end\n",
    "# writedlm(\"es_scan72\",  es, ',')\n",
    "\n",
    "\n",
    "# current_matrices = copy(save_current_matrices)\n",
    "# current_Parameters = deepcopy(save_current_Parameters)\n",
    "\n",
    "\n",
    "# for i in 1:-0.01:0\n",
    "#     global he2\n",
    "#     current_Parameters[\"h_e2\"] = i\n",
    "\n",
    "#     sperm_matrix0 = deepcopy(sperm_matrix_num)\n",
    "\n",
    "#     for i in 1:length(sperm_matrix[:,1])\n",
    "#         for j in sperm_symbols[i]\n",
    "#             sperm_matrix0[i,j] = BigFloat(float.(sperm_matrix0[i,j].evalf(subs = current_Parameters, given_precision)))\n",
    "#         end\n",
    "#     end\n",
    "\n",
    "#     current_matrices[\"sperm_matrix\"] = sperm_matrix0\n",
    "#     sup, dur, Y, S = timecourse_parameterscan_comprehensive(150, genotype_standard)\n",
    "#     add = [i sup dur Y S]\n",
    "#     he2 = vcat(he2, add)\n",
    "# end\n",
    "\n",
    "# writedlm(\"he2_scan72\",  he2, ',')\n",
    "\n",
    "# current_matrices = copy(save_current_matrices)\n",
    "# current_Parameters = deepcopy(save_current_Parameters)\n",
    "\n",
    "\n",
    "# for i in 1:-0.01:0\n",
    "#     global shredding_activity_cost\n",
    "#     current_Parameters[\"h_e\"] = i\n",
    "#     current_Parameters[\"h_e2\"] = i\n",
    "\n",
    "#     current_matrices[\"selection_matrix\"] = BigFloat.(float.(selection_matrix.evalf(subs = current_Parameters, given_precision)))\n",
    "\n",
    "#     sperm_matrix0 = deepcopy(sperm_matrix_num)\n",
    "\n",
    "#     for i in 1:length(sperm_matrix[:,1])\n",
    "#         for j in sperm_symbols[i]\n",
    "#             sperm_matrix0[i,j] = BigFloat(float.(sperm_matrix0[i,j].evalf(subs = current_Parameters, given_precision)))\n",
    "#         end\n",
    "#     end\n",
    "\n",
    "#     current_matrices[\"sperm_matrix\"] = sperm_matrix0\n",
    "#     sup, dur, Y, S = timecourse_parameterscan_comprehensive(150, genotype_standard)\n",
    "#     add = [i sup dur Y S]\n",
    "#     shredding_activity_cost = vcat(shredding_activity_cost, add)\n",
    "# end\n",
    "\n",
    "# writedlm(\"shredding_activity_cost_scan72\",  shredding_activity_cost, ',')\n",
    "\n",
    "\n",
    "# current_matrices = deepcopy(save_current_matrices)\n",
    "# current_Parameters = deepcopy(save_current_Parameters)\n",
    "\n",
    "\n",
    "# for i in -3:0.05:0\n",
    "#     global m1\n",
    "#     current_Parameters[\"m_1\"] = 10^(i)\n",
    "#     homing_matrix0 = deepcopy(homing_matrix_num)\n",
    "\n",
    "#     for i in 1:length(homing_matrix[:,1])\n",
    "#         for j in homing_symbols[i]\n",
    "#             homing_matrix0[i,j] = BigFloat(float.(homing_matrix0[i,j].evalf(subs = current_Parameters, given_precision)))\n",
    "#         end\n",
    "#     end\n",
    "\n",
    "#     current_matrices[\"homing_matrix\"] = homing_matrix0\n",
    "#     sup, dur, Y, S = timecourse_parameterscan_comprehensive(150, genotype_standard)\n",
    "#     add = [i sup dur Y S]\n",
    "#     m1 = vcat(m1, add)\n",
    "\n",
    "# end\n",
    "\n",
    "# writedlm(\"m1_scan72\",  m1, ',')\n",
    "\n",
    "# current_matrices = copy(save_current_matrices)\n",
    "# current_Parameters = deepcopy(save_current_Parameters)\n",
    "\n",
    "# for i in -3:0.05:0\n",
    "#     global m2\n",
    "#     current_Parameters[\"m_2\"] = 10^(i)\n",
    "#     mutation_matrix0 = deepcopy(mutation_matrix_num)\n",
    "\n",
    "#     for i in 1:length(mutation_matrix[:,1])\n",
    "#         for j in mutation_symbols[i]\n",
    "#             mutation_matrix0[i,j] = BigFloat(float.(mutation_matrix0[i,j].evalf(subs = current_Parameters, given_precision)))\n",
    "#         end\n",
    "#     end\n",
    "\n",
    "#     current_matrices[\"mutation_matrix\"] = mutation_matrix0\n",
    "#     sup, dur, Y, S = timecourse_parameterscan_comprehensive(150, genotype_standard)\n",
    "#     add = [i sup dur Y S]\n",
    "#     m2 = vcat(m2, add)\n",
    "\n",
    "# end\n",
    "\n",
    "# writedlm(\"m2_scan72\",  m2, ',')\n",
    "\n",
    "# current_matrices = copy(save_current_matrices)\n",
    "# current_Parameters = deepcopy(save_current_Parameters)\n",
    "\n",
    "\n",
    "# for i in -6:0.05:0\n",
    "#     global er1\n",
    "#     current_Parameters[\"er_1\"] = 10^(i)\n",
    "\n",
    "#     editing_matrix0 = deepcopy(editing_matrix_num)\n",
    "\n",
    "#     for i in 1:length(editing_matrix[:,1])\n",
    "#         for j in editing_symbols[i]\n",
    "#             editing_matrix0[i,j] = BigFloat(float.(editing_matrix0[i,j].evalf(subs = current_Parameters, given_precision)))\n",
    "#         end\n",
    "#     end\n",
    "\n",
    "#     current_matrices[\"editing_matrix\"] = editing_matrix0\n",
    "#     sup, dur, Y, S = timecourse_parameterscan_comprehensive(150, genotype_standard)\n",
    "#     add = [i sup dur Y S]\n",
    "#     er1 = vcat(er1, add)\n",
    "\n",
    "# end\n",
    "\n",
    "# writedlm(\"er1_scan72\",  er1, ',')\n",
    "\n",
    "\n",
    "\n",
    "# current_matrices = copy(save_current_matrices)\n",
    "# current_Parameters = deepcopy(save_current_Parameters)\n",
    "\n",
    "\n",
    "# for i in 0:0.01:1\n",
    "#     global er2\n",
    "#     current_Parameters[\"er_2\"] = i\n",
    "#     sperm_matrix0 = deepcopy(sperm_matrix_num)\n",
    "\n",
    "#     for i in 1:length(sperm_matrix[:,1])\n",
    "#         for j in sperm_symbols[i]\n",
    "#             sperm_matrix0[i,j] = BigFloat(float.(sperm_matrix0[i,j].evalf(subs = current_Parameters, given_precision)))\n",
    "#         end\n",
    "#     end\n",
    "#     current_matrices[\"sperm_matrix\"] = sperm_matrix0\n",
    "#     sup, dur, Y, S = timecourse_parameterscan_comprehensive(150, genotype_standard)\n",
    "#     add = [i sup dur Y S]\n",
    "#     er2 = vcat(er2, add)\n",
    "# end\n",
    "# writedlm(\"er2_scan72\",  er2, ',')\n",
    "\n",
    "\n",
    "# current_matrices = copy(save_current_matrices)\n",
    "# current_Parameters = deepcopy(save_current_Parameters)\n",
    "\n",
    "\n",
    "# for i in 0:0.01:1\n",
    "#     global er3\n",
    "#     current_Parameters[\"er_3\"] = i\n",
    "#     homing_matrix0 = deepcopy(homing_matrix_num)\n",
    "\n",
    "#     for i in 1:length(homing_matrix[:,1])\n",
    "#         for j in homing_symbols[i]\n",
    "#             homing_matrix0[i,j] = BigFloat(float.(homing_matrix0[i,j].evalf(subs = current_Parameters, given_precision)))\n",
    "#         end\n",
    "#     end\n",
    "\n",
    "#     current_matrices[\"homing_matrix\"] = homing_matrix0\n",
    "#     sup, dur, Y, S = timecourse_parameterscan_comprehensive(150, genotype_standard)\n",
    "#     add = [i sup dur Y S]\n",
    "#     er3 = vcat(er3, add)\n",
    "# end\n",
    "# writedlm(\"er3_scan72\",  er3, ',')\n",
    "\n",
    "\n",
    "\n",
    "# #- -------\n",
    "\n",
    "\n",
    "# sf = Any[\"value\" \"sup\" \"dur\" \"Y\" \"S\"]\n",
    "# hf = Any[\"value\" \"sup\" \"dur\" \"Y\" \"S\"]\n",
    "\n",
    "# sa = Any[\"value\" \"sup\" \"dur\" \"Y\" \"S\"]\n",
    "# sb = Any[\"value\" \"sup\" \"dur\" \"Y\" \"S\"]\n",
    "# sc = Any[\"value\" \"sup\" \"dur\" \"Y\" \"S\"]\n",
    "# sd = Any[\"value\" \"sup\" \"dur\" \"Y\" \"S\"]\n",
    "# se = Any[\"value\" \"sup\" \"dur\" \"Y\" \"S\"]\n",
    "# he = Any[\"value\" \"sup\" \"dur\" \"Y\" \"S\"]\n",
    "\n",
    "# prot_expression_cost = Any[\"value\" \"sup\" \"dur\" \"Y\" \"S\"]\n",
    "\n",
    "# sm = Any[\"value\" \"sup\" \"dur\" \"Y\" \"S\"]\n",
    "\n",
    "# ee = Any[\"value\" \"sup\" \"dur\" \"Y\" \"S\"]\n",
    "# eh = Any[\"value\" \"sup\" \"dur\" \"Y\" \"S\"]\n",
    "# es = Any[\"value\" \"sup\" \"dur\" \"Y\" \"S\"]\n",
    "# he2 = Any[\"value\" \"sup\" \"dur\" \"Y\" \"S\"]\n",
    "\n",
    "# shredding_activity_cost = Any[\"value\" \"sup\" \"dur\" \"Y\" \"S\"]\n",
    "\n",
    "# m1 = Any[\"value\" \"sup\" \"dur\" \"Y\" \"S\"]\n",
    "# m2 = Any[\"value\" \"sup\" \"dur\" \"Y\" \"S\"]\n",
    "\n",
    "# er1 = Any[\"value\" \"sup\" \"dur\" \"Y\" \"S\"]\n",
    "# er2 = Any[\"value\" \"sup\" \"dur\" \"Y\" \"S\"]\n",
    "# er3 = Any[\"value\" \"sup\" \"dur\" \"Y\" \"S\"]\n",
    "\n",
    "\n",
    "\n",
    "\n",
    "# apply_parameters_set(Parameters_set_sensitivity3)\n",
    "# save_current_matrices = deepcopy(current_matrices)\n",
    "# save_current_Parameters = deepcopy(Parameters_set_sensitivity3)\n",
    "\n",
    "# current_matrices = deepcopy(save_current_matrices)\n",
    "# current_Parameters = deepcopy(save_current_Parameters)\n",
    "\n",
    "\n",
    "# for i in 1:-0.01:0\n",
    "#     global sf\n",
    "#     current_Parameters[\"s_f\"] = i\n",
    "#     current_matrices[\"selection_matrix\"] = BigFloat.(float.(selection_matrix.evalf(subs = current_Parameters, given_precision)))\n",
    "#     sup, dur, Y, S = timecourse_parameterscan_comprehensive(150, genotype_standard)\n",
    "#     add = [i sup dur Y S]\n",
    "#     sf = vcat(sf, add)\n",
    "\n",
    "# end\n",
    "\n",
    "# writedlm(\"sf_scan73\",  sf, ',')\n",
    "\n",
    "# current_matrices = deepcopy(save_current_matrices)\n",
    "# current_Parameters = deepcopy(save_current_Parameters)\n",
    "\n",
    "\n",
    "# for i in 1:-0.01:0\n",
    "#     global hf\n",
    "#     current_Parameters[\"h_f\"] = i\n",
    "#     current_matrices[\"selection_matrix\"] = BigFloat.(float.(selection_matrix.evalf(subs = current_Parameters, given_precision)))\n",
    "#     sup, dur, Y, S = timecourse_parameterscan_comprehensive(150, genotype_standard)\n",
    "#     add = [i sup dur Y S]\n",
    "#     hf = vcat(hf, add)\n",
    "\n",
    "# end\n",
    "# writedlm(\"hf_scan73\",  hf, ',')\n",
    "\n",
    "\n",
    "# current_matrices = copy(save_current_matrices)\n",
    "# current_Parameters = deepcopy(save_current_Parameters)\n",
    "\n",
    "\n",
    "# for i in 0:0.005:1\n",
    "#     global sa\n",
    "#     current_Parameters[\"s_a\"] = i\n",
    "#     current_matrices[\"selection_matrix\"] = BigFloat.(float.(selection_matrix.evalf(subs = current_Parameters, given_precision)))\n",
    "#     sup, dur, Y, S = timecourse_parameterscan_comprehensive(150, genotype_standard)\n",
    "#     add = [i sup dur Y S]\n",
    "#     sa = vcat(sa, add)\n",
    "\n",
    "# end\n",
    "# writedlm(\"sa_scan73\",  sa, ',')\n",
    "\n",
    "\n",
    "# current_matrices = copy(save_current_matrices)\n",
    "# current_Parameters = deepcopy(save_current_Parameters)\n",
    "\n",
    "\n",
    "# for i in 0:0.005:1\n",
    "#     global sb\n",
    "#     current_Parameters[\"s_b\"] = i\n",
    "#     current_matrices[\"selection_matrix\"] = BigFloat.(float.(selection_matrix.evalf(subs = current_Parameters, given_precision)))\n",
    "#     sup, dur, Y, S = timecourse_parameterscan_comprehensive(150, genotype_standard)\n",
    "#     add = [i sup dur Y S]\n",
    "#     sb = vcat(sb, add)\n",
    "\n",
    "# end\n",
    "# writedlm(\"sb_scan73\",  sb, ',')\n",
    "\n",
    "\n",
    "# current_matrices = copy(save_current_matrices)\n",
    "# current_Parameters = deepcopy(save_current_Parameters)\n",
    "\n",
    "\n",
    "\n",
    "# for i in 0:0.005:1\n",
    "#     global sc\n",
    "#     current_Parameters[\"s_c\"] = i\n",
    "#     current_matrices[\"selection_matrix\"] = BigFloat.(float.(selection_matrix.evalf(subs = current_Parameters, given_precision)))\n",
    "#     sup, dur, Y, S = timecourse_parameterscan_comprehensive(150, genotype_standard)\n",
    "#     add = [i sup dur Y S]\n",
    "#     sc = vcat(sc, add)\n",
    "\n",
    "# end\n",
    "# writedlm(\"sc_scan73\",  sc, ',')\n",
    "\n",
    "\n",
    "\n",
    "# current_matrices = copy(save_current_matrices)\n",
    "# current_Parameters = deepcopy(save_current_Parameters)\n",
    "\n",
    "\n",
    "# for i in 0:0.005:1\n",
    "#     global sd\n",
    "#     current_Parameters[\"s_d\"] = i\n",
    "#     current_matrices[\"selection_matrix\"] = BigFloat.(float.(selection_matrix.evalf(subs = current_Parameters, given_precision)))\n",
    "#     sup, dur, Y, S = timecourse_parameterscan_comprehensive(150, genotype_standard)\n",
    "#     add = [i sup dur Y S]\n",
    "#     sd = vcat(sd, add)\n",
    "\n",
    "# end\n",
    "# writedlm(\"sd_scan73\",  sd, ',')\n",
    "\n",
    "\n",
    "\n",
    "# current_matrices = copy(save_current_matrices)\n",
    "# current_Parameters = deepcopy(save_current_Parameters)\n",
    "\n",
    "\n",
    "# for i in 0:0.005:1\n",
    "#     global se\n",
    "#     current_Parameters[\"s_e\"] = i\n",
    "#     current_matrices[\"selection_matrix\"] = BigFloat.(float.(selection_matrix.evalf(subs = current_Parameters, given_precision)))\n",
    "#     sup, dur, Y, S = timecourse_parameterscan_comprehensive(150, genotype_standard)\n",
    "#     add = [i sup dur Y S]\n",
    "#     se = vcat(se, add)\n",
    "\n",
    "\n",
    "# end\n",
    "# writedlm(\"se_scan73\",  se, ',')\n",
    "\n",
    "\n",
    "\n",
    "# current_matrices = copy(save_current_matrices)\n",
    "# current_Parameters = deepcopy(save_current_Parameters)\n",
    "\n",
    "\n",
    "# for i in 0:0.005:1\n",
    "#     global he\n",
    "#     current_Parameters[\"h_e\"] = i\n",
    "#     current_matrices[\"selection_matrix\"] = BigFloat.(float.(selection_matrix.evalf(subs = current_Parameters, given_precision)))\n",
    "#     sup, dur, Y, S = timecourse_parameterscan_comprehensive(150, genotype_standard)\n",
    "#     add = [i sup dur Y S]\n",
    "#     he = vcat(he, add)\n",
    "\n",
    "# end\n",
    "# writedlm(\"he_scan73\",  he, ',')\n",
    "\n",
    "\n",
    "# current_matrices = copy(save_current_matrices)\n",
    "# current_Parameters = deepcopy(save_current_Parameters)\n",
    "\n",
    "\n",
    "\n",
    "# for i in 0:0.005:1\n",
    "#     global prot_expression_cost\n",
    "#     current_Parameters[\"s_a\"] = i\n",
    "#     current_Parameters[\"s_c\"] = i\n",
    "#     current_matrices[\"selection_matrix\"] = BigFloat.(float.(selection_matrix.evalf(subs = current_Parameters, given_precision)))\n",
    "#     sup, dur, Y, S = timecourse_parameterscan_comprehensive(150, genotype_standard)\n",
    "#     add = [i sup dur Y S]\n",
    "#     prot_expression_cost = vcat(prot_expression_cost, add)\n",
    "\n",
    "# end\n",
    "# writedlm(\"prot_expression_cost_scan73\",  prot_expression_cost, ',')\n",
    "\n",
    "\n",
    "\n",
    "# current_matrices = copy(save_current_matrices)\n",
    "# current_Parameters = deepcopy(save_current_Parameters)\n",
    "\n",
    "\n",
    "# for i in 0:0.02:1\n",
    "#     global sm\n",
    "#     current_Parameters[\"s_m\"] = i\n",
    "#     current_matrices[\"selection_matrix\"] = BigFloat.(float.(selection_matrix.evalf(subs = current_Parameters, given_precision)))\n",
    "#     sup, dur, Y, S = timecourse_parameterscan_comprehensive(150, genotype_standard)\n",
    "#     add = [i sup dur Y S]\n",
    "#     sm = vcat(sm, add)\n",
    "\n",
    "\n",
    "# end\n",
    "# writedlm(\"sm_scan73\",  sm, ',')\n",
    "\n",
    "\n",
    "# current_matrices = copy(save_current_matrices)\n",
    "# current_Parameters = deepcopy(save_current_Parameters)\n",
    "\n",
    "\n",
    "# for i in 1:-0.01:0\n",
    "#     global ee\n",
    "#     current_Parameters[\"e_e\"] = i\n",
    "\n",
    "#     editing_matrix0 = deepcopy(editing_matrix_num)\n",
    "\n",
    "#     for i in 1:length(editing_matrix[:,1])\n",
    "#         for j in editing_symbols[i]\n",
    "#             editing_matrix0[i,j] = BigFloat(float.(editing_matrix0[i,j].evalf(subs = current_Parameters, given_precision)))\n",
    "#         end\n",
    "#     end\n",
    "\n",
    "#     current_matrices[\"editing_matrix\"] = editing_matrix0\n",
    "#     sup, dur, Y, S = timecourse_parameterscan_comprehensive(150, genotype_standard)\n",
    "#     add = [i sup dur Y S]\n",
    "#     ee = vcat(ee, add)\n",
    "\n",
    "# end\n",
    "# writedlm(\"ee_scan73\",  ee, ',')\n",
    "\n",
    "\n",
    "\n",
    "# current_matrices = copy(save_current_matrices)\n",
    "# current_Parameters = deepcopy(save_current_Parameters)\n",
    "\n",
    "\n",
    "# for i in 1:-0.01:0\n",
    "#     global eh\n",
    "#     current_Parameters[\"e_h\"] = i\n",
    "\n",
    "#     homing_matrix0 = deepcopy(homing_matrix_num)\n",
    "\n",
    "#     for i in 1:length(homing_matrix[:,1])\n",
    "#         for j in homing_symbols[i]\n",
    "#             homing_matrix0[i,j] = BigFloat(float.(homing_matrix0[i,j].evalf(subs = current_Parameters, given_precision)))\n",
    "#         end\n",
    "#     end\n",
    "\n",
    "#     current_matrices[\"homing_matrix\"] = homing_matrix0\n",
    "#     sup, dur, Y, S = timecourse_parameterscan_comprehensive(150, genotype_standard)\n",
    "#     add = [i sup dur Y S]\n",
    "#     eh = vcat(eh, add)\n",
    "# end\n",
    "# writedlm(\"eh_scan73\",  eh, ',')\n",
    "\n",
    "\n",
    "\n",
    "\n",
    "# current_matrices = copy(save_current_matrices)\n",
    "# current_Parameters = deepcopy(save_current_Parameters)\n",
    "\n",
    "# for i in 1:-0.01:0\n",
    "#     global es\n",
    "#     current_Parameters[\"e_s\"] = i\n",
    "\n",
    "#     sperm_matrix0 = deepcopy(sperm_matrix_num)\n",
    "\n",
    "#     for i in 1:length(sperm_matrix[:,1])\n",
    "#         for j in sperm_symbols[i]\n",
    "#             sperm_matrix0[i,j] = BigFloat(float.(sperm_matrix0[i,j].evalf(subs = current_Parameters, given_precision)))\n",
    "#         end\n",
    "#     end\n",
    "\n",
    "#     current_matrices[\"sperm_matrix\"] = sperm_matrix0\n",
    "#     sup, dur, Y, S = timecourse_parameterscan_comprehensive(150, genotype_standard)\n",
    "#     add = [i sup dur Y S]\n",
    "#     es = vcat(es, add)\n",
    "\n",
    "# end\n",
    "# writedlm(\"es_scan73\",  es, ',')\n",
    "\n",
    "\n",
    "# current_matrices = copy(save_current_matrices)\n",
    "# current_Parameters = deepcopy(save_current_Parameters)\n",
    "\n",
    "\n",
    "# for i in 1:-0.01:0\n",
    "#     global he2\n",
    "#     current_Parameters[\"h_e2\"] = i\n",
    "\n",
    "#     sperm_matrix0 = deepcopy(sperm_matrix_num)\n",
    "\n",
    "#     for i in 1:length(sperm_matrix[:,1])\n",
    "#         for j in sperm_symbols[i]\n",
    "#             sperm_matrix0[i,j] = BigFloat(float.(sperm_matrix0[i,j].evalf(subs = current_Parameters, given_precision)))\n",
    "#         end\n",
    "#     end\n",
    "\n",
    "#     current_matrices[\"sperm_matrix\"] = sperm_matrix0\n",
    "#     sup, dur, Y, S = timecourse_parameterscan_comprehensive(150, genotype_standard)\n",
    "#     add = [i sup dur Y S]\n",
    "#     he2 = vcat(he2, add)\n",
    "# end\n",
    "\n",
    "# writedlm(\"he2_scan73\",  he2, ',')\n",
    "\n",
    "# current_matrices = copy(save_current_matrices)\n",
    "# current_Parameters = deepcopy(save_current_Parameters)\n",
    "\n",
    "\n",
    "# for i in 1:-0.01:0\n",
    "#     global shredding_activity_cost\n",
    "#     current_Parameters[\"h_e\"] = i\n",
    "#     current_Parameters[\"h_e2\"] = i\n",
    "\n",
    "#     current_matrices[\"selection_matrix\"] = BigFloat.(float.(selection_matrix.evalf(subs = current_Parameters, given_precision)))\n",
    "\n",
    "#     sperm_matrix0 = deepcopy(sperm_matrix_num)\n",
    "\n",
    "#     for i in 1:length(sperm_matrix[:,1])\n",
    "#         for j in sperm_symbols[i]\n",
    "#             sperm_matrix0[i,j] = BigFloat(float.(sperm_matrix0[i,j].evalf(subs = current_Parameters, given_precision)))\n",
    "#         end\n",
    "#     end\n",
    "\n",
    "#     current_matrices[\"sperm_matrix\"] = sperm_matrix0\n",
    "#     sup, dur, Y, S = timecourse_parameterscan_comprehensive(150, genotype_standard)\n",
    "#     add = [i sup dur Y S]\n",
    "#     shredding_activity_cost = vcat(shredding_activity_cost, add)\n",
    "# end\n",
    "\n",
    "# writedlm(\"shredding_activity_cost_scan73\",  shredding_activity_cost, ',')\n",
    "\n",
    "\n",
    "# current_matrices = deepcopy(save_current_matrices)\n",
    "# current_Parameters = deepcopy(save_current_Parameters)\n",
    "\n",
    "\n",
    "# for i in -3:0.05:0\n",
    "#     global m1\n",
    "#     current_Parameters[\"m_1\"] = 10^(i)\n",
    "#     homing_matrix0 = deepcopy(homing_matrix_num)\n",
    "\n",
    "#     for i in 1:length(homing_matrix[:,1])\n",
    "#         for j in homing_symbols[i]\n",
    "#             homing_matrix0[i,j] = BigFloat(float.(homing_matrix0[i,j].evalf(subs = current_Parameters, given_precision)))\n",
    "#         end\n",
    "#     end\n",
    "\n",
    "#     current_matrices[\"homing_matrix\"] = homing_matrix0\n",
    "#     sup, dur, Y, S = timecourse_parameterscan_comprehensive(150, genotype_standard)\n",
    "#     add = [i sup dur Y S]\n",
    "#     m1 = vcat(m1, add)\n",
    "\n",
    "# end\n",
    "\n",
    "# writedlm(\"m1_scan73\",  m1, ',')\n",
    "\n",
    "# current_matrices = copy(save_current_matrices)\n",
    "# current_Parameters = deepcopy(save_current_Parameters)\n",
    "\n",
    "# for i in -3:0.05:0\n",
    "#     global m2\n",
    "#     current_Parameters[\"m_2\"] = 10^(i)\n",
    "#     mutation_matrix0 = deepcopy(mutation_matrix_num)\n",
    "\n",
    "#     for i in 1:length(mutation_matrix[:,1])\n",
    "#         for j in mutation_symbols[i]\n",
    "#             mutation_matrix0[i,j] = BigFloat(float.(mutation_matrix0[i,j].evalf(subs = current_Parameters, given_precision)))\n",
    "#         end\n",
    "#     end\n",
    "\n",
    "#     current_matrices[\"mutation_matrix\"] = mutation_matrix0\n",
    "#     sup, dur, Y, S = timecourse_parameterscan_comprehensive(150, genotype_standard)\n",
    "#     add = [i sup dur Y S]\n",
    "#     m2 = vcat(m2, add)\n",
    "\n",
    "# end\n",
    "\n",
    "# writedlm(\"m2_scan73\",  m2, ',')\n",
    "\n",
    "# current_matrices = copy(save_current_matrices)\n",
    "# current_Parameters = deepcopy(save_current_Parameters)\n",
    "\n",
    "\n",
    "# for i in -6:0.05:0\n",
    "#     global er1\n",
    "#     current_Parameters[\"er_1\"] = 10^(i)\n",
    "\n",
    "#     editing_matrix0 = deepcopy(editing_matrix_num)\n",
    "\n",
    "#     for i in 1:length(editing_matrix[:,1])\n",
    "#         for j in editing_symbols[i]\n",
    "#             editing_matrix0[i,j] = BigFloat(float.(editing_matrix0[i,j].evalf(subs = current_Parameters, given_precision)))\n",
    "#         end\n",
    "#     end\n",
    "\n",
    "#     current_matrices[\"editing_matrix\"] = editing_matrix0\n",
    "#     sup, dur, Y, S = timecourse_parameterscan_comprehensive(150, genotype_standard)\n",
    "#     add = [i sup dur Y S]\n",
    "#     er1 = vcat(er1, add)\n",
    "\n",
    "# end\n",
    "\n",
    "# writedlm(\"er1_scan73\",  er1, ',')\n",
    "\n",
    "\n",
    "\n",
    "# current_matrices = copy(save_current_matrices)\n",
    "# current_Parameters = deepcopy(save_current_Parameters)\n",
    "\n",
    "\n",
    "# for i in 0:0.01:1\n",
    "#     global er2\n",
    "#     current_Parameters[\"er_2\"] = i\n",
    "#     sperm_matrix0 = deepcopy(sperm_matrix_num)\n",
    "\n",
    "#     for i in 1:length(sperm_matrix[:,1])\n",
    "#         for j in sperm_symbols[i]\n",
    "#             sperm_matrix0[i,j] = BigFloat(float.(sperm_matrix0[i,j].evalf(subs = current_Parameters, given_precision)))\n",
    "#         end\n",
    "#     end\n",
    "#     current_matrices[\"sperm_matrix\"] = sperm_matrix0\n",
    "#     sup, dur, Y, S = timecourse_parameterscan_comprehensive(150, genotype_standard)\n",
    "#     add = [i sup dur Y S]\n",
    "#     er2 = vcat(er2, add)\n",
    "# end\n",
    "# writedlm(\"er2_scan73\",  er2, ',')\n",
    "\n",
    "\n",
    "# current_matrices = copy(save_current_matrices)\n",
    "# current_Parameters = deepcopy(save_current_Parameters)\n",
    "\n",
    "\n",
    "# for i in 0.5:0.01:1\n",
    "#     global er3\n",
    "#     current_Parameters[\"er_3\"] = i\n",
    "#     homing_matrix0 = deepcopy(homing_matrix_num)\n",
    "\n",
    "#     for i in 1:length(homing_matrix[:,1])\n",
    "#         for j in homing_symbols[i]\n",
    "#             homing_matrix0[i,j] = BigFloat(float.(homing_matrix0[i,j].evalf(subs = current_Parameters, given_precision)))\n",
    "#         end\n",
    "#     end\n",
    "\n",
    "#     current_matrices[\"homing_matrix\"] = homing_matrix0\n",
    "#     sup, dur, Y, S = timecourse_parameterscan_comprehensive(150, genotype_standard)\n",
    "#     add = [i sup dur Y S]\n",
    "#     er3 = vcat(er3, add)\n",
    "# end\n",
    "# writedlm(\"er3_scan73\",  er3, ',')\n",
    "\n",
    "\n",
    "\n",
    "# # ------------------\n",
    "# # also Rm\n",
    "\n",
    "# apply_parameters_set(Parameters_set_sensitivity2)\n",
    "\n",
    "# Rm = Any[\"value\" \"sup\" \"dur\" \"Y\" \"S\"]\n",
    "\n",
    "# for i in 3:0.5:20\n",
    "#     global Rm\n",
    "#     current_Parameters[\"Rm\"] = i\n",
    "#     sup, dur, Y, S = timecourse_parameterscan_comprehensive(150, genotype_standard)\n",
    "#     add = [i sup dur Y S]\n",
    "#     Rm = vcat(Rm, add)\n",
    "# end\n",
    "\n",
    "# writedlm(\"Rm_scan72\",  Rm, ',')\n",
    "\n",
    "\n",
    "\n",
    "# # -------------------\n",
    "# apply_parameters_set(Parameters_set_sensitivity3)\n",
    "\n",
    "# Rm = Any[\"value\" \"sup\" \"dur\" \"Y\" \"S\"]\n",
    "\n",
    "# for i in 3:0.5:20\n",
    "#     global Rm\n",
    "#     current_Parameters[\"Rm\"] = i\n",
    "#     sup, dur, Y, S = timecourse_parameterscan_comprehensive(150, genotype_standard)\n",
    "#     add = [i sup dur Y S]\n",
    "#     Rm = vcat(Rm, add)\n",
    "# end\n",
    "\n",
    "# writedlm(\"Rm_scan73\",  Rm, ',')"
   ]
  },
  {
   "cell_type": "markdown",
   "metadata": {},
   "source": [
    "We can easily read previously computed results and plot the results:"
   ]
  },
  {
   "cell_type": "code",
   "execution_count": null,
   "metadata": {},
   "outputs": [],
   "source": [
    "sf72 = readdlm(\"sf_scan72\", ',')\n",
    "sf73 = readdlm(\"sf_scan73\", ',')\n",
    "\n",
    "\n",
    "hf72 = readdlm(\"hf_scan72\", ',')\n",
    "hf73 = readdlm(\"hf_scan73\", ',')\n",
    "\n",
    "\n",
    "sa72 = readdlm(\"sa_scan72\", ',')\n",
    "sa73 = readdlm(\"sa_scan73\", ',')\n",
    "\n",
    "\n",
    "sb72 = readdlm(\"sb_scan72\", ',')\n",
    "sb73 = readdlm(\"sb_scan73\", ',')\n",
    "\n",
    "\n",
    "sc72 = readdlm(\"sc_scan72\", ',')\n",
    "sc73 = readdlm(\"sc_scan73\", ',')\n",
    "\n",
    "\n",
    "sd72 = readdlm(\"sd_scan72\", ',')\n",
    "sd73 = readdlm(\"sd_scan73\", ',')\n",
    "\n",
    "\n",
    "se72 = readdlm(\"se_scan72\", ',')\n",
    "se73 = readdlm(\"se_scan73\", ',')\n",
    "\n",
    "\n",
    "he72 = readdlm(\"he_scan72\", ',')\n",
    "he73 = readdlm(\"he_scan73\", ',')\n",
    "\n",
    "\n",
    "sm72 = readdlm(\"sm_scan72\", ',')\n",
    "sm73 = readdlm(\"sm_scan73\", ',')\n",
    "\n",
    "\n",
    "ee72 = readdlm(\"ee_scan72\", ',')\n",
    "ee73 = readdlm(\"ee_scan73\", ',')\n",
    "\n",
    "\n",
    "es72 = readdlm(\"es_scan72\", ',')\n",
    "es73 = readdlm(\"es_scan73\", ',')\n",
    "\n",
    "\n",
    "eh72 = readdlm(\"eh_scan72\", ',')\n",
    "eh73 = readdlm(\"eh_scan73\", ',')\n",
    "\n",
    "\n",
    "he272 = readdlm(\"he2_scan72\", ',')\n",
    "he273 = readdlm(\"he2_scan73\", ',')\n",
    "\n",
    "\n",
    "m172 = readdlm(\"m1_scan72\", ',')\n",
    "m173 = readdlm(\"m1_scan73\", ',')\n",
    "\n",
    "\n",
    "m272 = readdlm(\"m2_scan72\", ',')\n",
    "m273 = readdlm(\"m2_scan73\", ',')\n",
    "\n",
    "\n",
    "er172 = readdlm(\"er1_scan72\", ',')\n",
    "er173 = readdlm(\"er1_scan73\", ',')\n",
    "\n",
    "\n",
    "er272 = readdlm(\"er2_scan72\", ',')\n",
    "er273 = readdlm(\"er2_scan73\", ',')\n",
    "\n",
    "\n",
    "er372 = readdlm(\"er3_scan72\", ',')\n",
    "er373 = readdlm(\"er3_scan73\", ',')\n",
    "\n",
    "Rm72 = readdlm(\"Rm_scan72\", ',')\n",
    "Rm73 = readdlm(\"Rm_scan73\", ',')"
   ]
  },
  {
   "cell_type": "markdown",
   "metadata": {},
   "source": [
    "## Editing efficiency parameter scan"
   ]
  },
  {
   "cell_type": "code",
   "execution_count": null,
   "metadata": {},
   "outputs": [],
   "source": [
    "#for 100% editing efficiency, the minimium population size is so small that the model cannot handle the number\n",
    "\n",
    "#julia> ee72[2,2]\n",
    "#\"2.9846506150389422174641287793843815895e-386\"\n",
    "\n",
    "#which is why it is safed as a string, but that cannot be plotted\n",
    "\n",
    "#julia> typeof(ee72[2,2])\n",
    "#SubString{String}\n",
    "\n",
    "#so we have to manually get rid of this value, then the rest of the results can be plotted correctly\n",
    "\n",
    "ee72[2,2] = NaN\n",
    "ee_scan = sensitivity_plot2(ee72, ee73)\n",
    "plot!(ytickfontsize = 14, xtickfontsize = 14)\n",
    "\n",
    "savefig(ee_scan, \"ee_scan7.svg\")\n",
    "\n",
    "ee_scan"
   ]
  },
  {
   "cell_type": "markdown",
   "metadata": {},
   "source": [
    "## Shredding efficiency parameter scan"
   ]
  },
  {
   "cell_type": "code",
   "execution_count": null,
   "metadata": {},
   "outputs": [],
   "source": [
    "es_scan = sensitivity_plot2(es72, es73)\n",
    "plot!(ytickfontsize = 14, xtickfontsize = 14)\n",
    "\n",
    "savefig(es_scan, \"es_scan7.svg\")\n",
    "\n",
    "es_scan"
   ]
  },
  {
   "cell_type": "markdown",
   "metadata": {},
   "source": [
    "## Homing efficiency parameter scan"
   ]
  },
  {
   "cell_type": "code",
   "execution_count": null,
   "metadata": {},
   "outputs": [],
   "source": [
    "eh_scan = sensitivity_plot2(eh72, eh73)\n",
    "plot!(ytickfontsize = 14, xtickfontsize = 14)\n",
    "\n",
    "savefig(eh_scan, \"eh_scan7.svg\")\n",
    "\n",
    "eh_scan"
   ]
  },
  {
   "cell_type": "markdown",
   "metadata": {},
   "source": [
    "## Selection coefficient edited gene parameter scan"
   ]
  },
  {
   "cell_type": "code",
   "execution_count": null,
   "metadata": {},
   "outputs": [],
   "source": [
    "sf_scan = sensitivity_plot2(sf72, sf73)\n",
    "plot!(ytickfontsize = 14, xtickfontsize = 14)\n",
    "\n",
    "savefig(sf_scan, \"sf_scan7.svg\")\n",
    "\n",
    "sf_scan"
   ]
  },
  {
   "cell_type": "markdown",
   "metadata": {},
   "source": [
    "## Dominance coefficient edited gene efficiency parameter scan"
   ]
  },
  {
   "cell_type": "code",
   "execution_count": null,
   "metadata": {},
   "outputs": [],
   "source": [
    "hf_scan = sensitivity_plot2(hf72, hf73)\n",
    "plot!(ytickfontsize = 14, xtickfontsize = 14)\n",
    "\n",
    "savefig(hf_scan, \"hf_scan7.svg\")\n",
    "\n",
    "hf_scan"
   ]
  },
  {
   "cell_type": "markdown",
   "metadata": {},
   "source": [
    "## (Unintended) fitness cost of Cas9 expression parameter scan"
   ]
  },
  {
   "cell_type": "code",
   "execution_count": null,
   "metadata": {},
   "outputs": [],
   "source": [
    "sa_scan = sensitivity_plot2(sa72, sa73)\n",
    "plot!(xlims=(0,0.5))\n",
    "plot!(ytickfontsize = 14, xtickfontsize = 14)\n",
    "\n",
    "savefig(sa_scan, \"sa_scan7.svg\")\n",
    "\n",
    "sa_scan"
   ]
  },
  {
   "cell_type": "markdown",
   "metadata": {},
   "source": [
    "## (Unintended) fitness cost of gRNA(1 or 2) expression parameter scan"
   ]
  },
  {
   "cell_type": "code",
   "execution_count": null,
   "metadata": {},
   "outputs": [],
   "source": [
    "sb_scan = sensitivity_plot2(sb72, sb73)\n",
    "plot!(xlims=(0,0.5))\n",
    "plot!(ytickfontsize = 14, xtickfontsize = 14)\n",
    "\n",
    "savefig(sb_scan, \"sb_scan7.svg\")\n",
    "\n",
    "sb_scan"
   ]
  },
  {
   "cell_type": "markdown",
   "metadata": {},
   "source": [
    "## (Unintended) fitness cost of X-Shredder expression parameter scan"
   ]
  },
  {
   "cell_type": "code",
   "execution_count": null,
   "metadata": {},
   "outputs": [],
   "source": [
    "sc_scan = sensitivity_plot2(sc72, sc73)\n",
    "plot!(xlims=(0,0.5))\n",
    "plot!(ytickfontsize = 14, xtickfontsize = 14)\n",
    "\n",
    "savefig(sc_scan, \"sc_scan7.svg\")\n",
    "\n",
    "sc_scan"
   ]
  },
  {
   "cell_type": "markdown",
   "metadata": {},
   "source": [
    "## (Unintended) fitness cost of Cas9-gRNA complex activity parameter scan"
   ]
  },
  {
   "cell_type": "code",
   "execution_count": null,
   "metadata": {},
   "outputs": [],
   "source": [
    "sd_scan = sensitivity_plot2(sd72, sd73)\n",
    "plot!(xlims=(0,0.5))\n",
    "plot!(ytickfontsize = 14, xtickfontsize = 14)\n",
    "\n",
    "savefig(sd_scan, \"sd_scan7.svg\")\n",
    "\n",
    "sd_scan"
   ]
  },
  {
   "cell_type": "markdown",
   "metadata": {},
   "source": [
    "## (Unintended) fitness cost of X-Shredder activity parameter scan"
   ]
  },
  {
   "cell_type": "code",
   "execution_count": null,
   "metadata": {},
   "outputs": [],
   "source": [
    "se_scan = sensitivity_plot2(se72, se73)\n",
    "plot!(xlims=(0,0.5))\n",
    "plot!(ytickfontsize = 14, xtickfontsize = 14)\n",
    "\n",
    "savefig(se_scan, \"se_scan7.svg\")\n",
    "\n",
    "se_scan"
   ]
  },
  {
   "cell_type": "markdown",
   "metadata": {},
   "source": [
    "## Homing mutation rate (m1) parameter scan"
   ]
  },
  {
   "cell_type": "code",
   "execution_count": null,
   "metadata": {},
   "outputs": [],
   "source": [
    "# m1 values are stored as exponent to base 10 values, so we first transform values\n",
    "\n",
    "for i in 2:length(m172[:,1])\n",
    "    m172[i,1] = 10^(m172[i,1])\n",
    "end\n",
    "\n",
    "for i in 2:length(m173[:,1])\n",
    "    m173[i,1] = 10^(m173[i,1])\n",
    "end"
   ]
  },
  {
   "cell_type": "code",
   "execution_count": null,
   "metadata": {},
   "outputs": [],
   "source": [
    "#then we plot \n",
    "\n",
    "m1_scan = sensitivity_plot2(m172, m173)\n",
    "plot!(xaxis=:log, xlims = (1e-3,1), ytickfontsize = 14, xtickfontsize = 14)\n",
    "\n",
    "\n",
    "savefig(m1_scan, \"m1_scan7.svg\")\n",
    "\n",
    "m1_scan"
   ]
  },
  {
   "cell_type": "markdown",
   "metadata": {},
   "source": [
    "## Background mutation rate (m2) parameter scan"
   ]
  },
  {
   "cell_type": "code",
   "execution_count": null,
   "metadata": {},
   "outputs": [],
   "source": [
    "# m2 values are also stored as exponent to base 10 values, so we first transform values\n",
    "\n",
    "for i in 2:length(m272[:,1])\n",
    "    m272[i,1] = 10^(m272[i,1])\n",
    "end\n",
    "\n",
    "for i in 2:length(m273[:,1])\n",
    "    m273[i,1] = 10^(m273[i,1])\n",
    "end"
   ]
  },
  {
   "cell_type": "code",
   "execution_count": null,
   "metadata": {},
   "outputs": [],
   "source": [
    "#then we plot \n",
    "\n",
    "m2_scan = sensitivity_plot2(m272, m273)\n",
    "plot!(xaxis=:log, xlims = (1e-3,1), ytickfontsize = 14, xtickfontsize = 14)\n",
    "\n",
    "savefig(m2_scan, \"m2_scan7.svg\")\n",
    "\n",
    "\n",
    "m2_scan"
   ]
  },
  {
   "cell_type": "markdown",
   "metadata": {},
   "source": [
    "## Intrinsic rate of population growth (Rm) parameter scan"
   ]
  },
  {
   "cell_type": "code",
   "execution_count": null,
   "metadata": {},
   "outputs": [],
   "source": [
    "Rm_scan = sensitivity_plot2(Rm72, Rm73)\n",
    "plot!(ytickfontsize = 14, xtickfontsize = 14)\n",
    "\n",
    "savefig(Rm_scan, \"Rm_scan7.svg\")\n",
    "\n",
    "Rm_scan"
   ]
  },
  {
   "cell_type": "markdown",
   "metadata": {},
   "source": [
    "## Pre-existing restiance (Figure 5)"
   ]
  },
  {
   "cell_type": "markdown",
   "metadata": {},
   "source": [
    "Next we investigate which effect pre-existing resistances have on the suppression effect.\n",
    "\n",
    "For this we perfom simulations of populations with varying levels of pre-existing resistances, either for the low or high HDR case. Since computations are demanding, results are again pre-computed and saved as csv files. The original code is this:"
   ]
  },
  {
   "cell_type": "code",
   "execution_count": null,
   "metadata": {},
   "outputs": [],
   "source": [
    "\n",
    "\n",
    "\n",
    "# shredding_a = Any[\"value\" \"max_sup\" \"t_max_sup\" \"t_1e_2\" \"t_1e_3\" \"t_1e_4\" \"t_1e_5\" \"t_1e_6\" \"t_1e_7\" \"t_1e_8\" \"t_1e_9\" \"t_1e_10\" \"dur\" \"Y\" \"S\"]\n",
    "# homing_a = Any[\"value\" \"max_sup\" \"t_max_sup\" \"t_1e_2\" \"t_1e_3\" \"t_1e_4\" \"t_1e_5\" \"t_1e_6\" \"t_1e_7\" \"t_1e_8\" \"t_1e_9\" \"t_1e_10\" \"dur\" \"Y\" \"S\"]\n",
    "# shredding_b =Any[\"value\" \"max_sup\" \"t_max_sup\" \"t_1e_2\" \"t_1e_3\" \"t_1e_4\" \"t_1e_5\" \"t_1e_6\" \"t_1e_7\" \"t_1e_8\" \"t_1e_9\" \"t_1e_10\" \"dur\" \"Y\" \"S\"]\n",
    "# homing_b = Any[\"value\" \"max_sup\" \"t_max_sup\" \"t_1e_2\" \"t_1e_3\" \"t_1e_4\" \"t_1e_5\" \"t_1e_6\" \"t_1e_7\" \"t_1e_8\" \"t_1e_9\" \"t_1e_10\" \"dur\" \"Y\" \"S\"]\n",
    "\n",
    "\n",
    "# apply_parameters_set(Parameters_set_sensitivity2)\n",
    "# save_current_matrices = deepcopy(current_matrices)\n",
    "# save_current_Parameters = deepcopy(Parameters_set_sensitivity2)\n",
    "\n",
    "# current_matrices = deepcopy(save_current_matrices)\n",
    "# current_Parameters = deepcopy(save_current_Parameters)\n",
    "\n",
    "\n",
    "# for i in 0:0.01:1\n",
    "#     global shredding_a\n",
    "\n",
    "#     release_pop = generate_population(r2=i)\n",
    "#     release_pop[return_i([\"AB\" \"ef\" \"CD\" \"cd\"], genotypes_detailed)] = BigFloat(\"0.001\")\n",
    "\n",
    "#     sup,t_max,e_2,e_3,e_4,e_5,e_6,e_7,e_8,e_9,e_10,dur,Y,S = timecourse_parameterscan_preexisting_resistance(1000, release_pop)\n",
    "#     add = [i sup t_max e_2 e_3 e_4 e_5 e_6 e_7 e_8 e_9 e_10 dur Y S]\n",
    "#     shredding_a = vcat(shredding_a, add)\n",
    "\n",
    "# end\n",
    "\n",
    "# writedlm(\"shredding_005_1000_generations\",  shredding_a, ',')\n",
    "\n",
    "\n",
    "# for i in 0:0.01:1\n",
    "#     global homing_a\n",
    "\n",
    "#     release_pop = generate_population(r3=i)\n",
    "#     release_pop[return_i([\"AB\" \"ef\" \"CD\" \"cd\"], genotypes_detailed)] = BigFloat(\"0.001\")\n",
    "\n",
    "\n",
    "#     sup,t_max,e_2,e_3,e_4,e_5,e_6,e_7,e_8,e_9,e_10,dur,Y,S = timecourse_parameterscan_preexisting_resistance(1000, release_pop)\n",
    "#     add = [i sup t_max e_2 e_3 e_4 e_5 e_6 e_7 e_8 e_9 e_10 dur Y S]\n",
    "#     homing_a = vcat(homing_a, add)\n",
    "\n",
    "# end\n",
    "\n",
    "# writedlm(\"homing_005_1000_generations\",  homing_a, ',')\n",
    "\n",
    "\n",
    "# apply_parameters_set(Parameters_set_sensitivity3)\n",
    "# save_current_matrices = deepcopy(current_matrices)\n",
    "# save_current_Parameters = deepcopy(Parameters_set_sensitivity3)\n",
    "\n",
    "# current_matrices = deepcopy(save_current_matrices)\n",
    "# current_Parameters = deepcopy(save_current_Parameters)\n",
    "\n",
    "\n",
    "# for i in 0:0.01:1\n",
    "#     global shredding_b\n",
    "\n",
    "#     release_pop = generate_population(r2=i)\n",
    "#     release_pop[return_i([\"AB\" \"ef\" \"CD\" \"cd\"], genotypes_detailed)] = BigFloat(\"0.001\")\n",
    "\n",
    "#     sup,t_max,e_2,e_3,e_4,e_5,e_6,e_7,e_8,e_9,e_10,dur,Y,S = timecourse_parameterscan_preexisting_resistance(1000, release_pop)\n",
    "#     add = [i sup t_max e_2 e_3 e_4 e_5 e_6 e_7 e_8 e_9 e_10 dur Y S]\n",
    "#     shredding_b = vcat(shredding_b, add)\n",
    "\n",
    "# end\n",
    "\n",
    "# writedlm(\"shredding_060_1000_generations\",  shredding_b, ',')\n",
    "\n",
    "\n",
    "# for i in 0:0.01:1\n",
    "#     global homing_b\n",
    "#     release_pop = generate_population(r3=i)\n",
    "#     release_pop[return_i([\"AB\" \"ef\" \"CD\" \"cd\"], genotypes_detailed)] = BigFloat(\"0.001\")\n",
    "\n",
    "#     sup,t_max,e_2,e_3,e_4,e_5,e_6,e_7,e_8,e_9,e_10,dur,Y,S = timecourse_parameterscan_preexisting_resistance(1000, release_pop)\n",
    "#     add = [i sup t_max e_2 e_3 e_4 e_5 e_6 e_7 e_8 e_9 e_10 dur Y S]\n",
    "#     homing_b = vcat(homing_b, add)\n",
    "\n",
    "# end\n",
    "\n",
    "# writedlm(\"homing_060_1000_generations\",  homing_b, ',')\n",
    "\n"
   ]
  },
  {
   "cell_type": "markdown",
   "metadata": {},
   "source": [
    "Results can be loaded from csv files:"
   ]
  },
  {
   "cell_type": "code",
   "execution_count": null,
   "metadata": {},
   "outputs": [],
   "source": [
    "homing_060 = readdlm(\"homing_060_1000_generations\", ',')\n",
    "homing_005 = readdlm(\"homing_005_1000_generations\", ',')\n",
    "shredding_060 = readdlm(\"shredding_060_1000_generations\", ',')\n",
    "shredding_005 = readdlm(\"shredding_005_1000_generations\", ',')"
   ]
  },
  {
   "cell_type": "markdown",
   "metadata": {},
   "source": [
    "## Homing resistance in low EJR case (Figure 5a)"
   ]
  },
  {
   "cell_type": "markdown",
   "metadata": {},
   "source": [
    "We check at which frequency of pre-existing resitances population suppression does not occur anymore below 1e-6 (lower border) or where it starts to suppress the population to less than 95% of its initial value (upper border):"
   ]
  },
  {
   "cell_type": "code",
   "execution_count": null,
   "metadata": {},
   "outputs": [],
   "source": [
    "return_stats(homing_005, lower_sup = 1e-6, upper_sup = 0.95, max_transgenic = 0.1)"
   ]
  },
  {
   "cell_type": "code",
   "execution_count": null,
   "metadata": {},
   "outputs": [],
   "source": [
    "figure_5a = plot_resistance_scan(homing_005, 0.84, 0.87, second_lower_lim = 0.64)\n",
    "\n",
    "savefig(figure_5a , \"home resistance 005.svg\")\n",
    "\n",
    "figure_5a"
   ]
  },
  {
   "cell_type": "markdown",
   "metadata": {},
   "source": [
    "## Homing resistance in high EJR case (Figure 5b)"
   ]
  },
  {
   "cell_type": "code",
   "execution_count": null,
   "metadata": {},
   "outputs": [],
   "source": [
    "return_stats(homing_060, lower_sup = 1e-6, upper_sup = 0.95, max_transgenic = 0.1)"
   ]
  },
  {
   "cell_type": "code",
   "execution_count": null,
   "metadata": {},
   "outputs": [],
   "source": [
    "figure_5b = plot_resistance_scan(homing_060, 0.63, 0.67, second_lower_lim = 0.12)\n",
    "\n",
    "savefig(figure_5b, \"home resistance 060.svg\")\n",
    "\n",
    "figure_5b"
   ]
  },
  {
   "cell_type": "markdown",
   "metadata": {},
   "source": [
    "## Shredding resistance in low EJR case (Figure 5c)"
   ]
  },
  {
   "cell_type": "code",
   "execution_count": null,
   "metadata": {},
   "outputs": [],
   "source": [
    "return_stats(shredding_005, lower_sup = 1e-6, upper_sup = 0.95, max_transgenic = 0.1)"
   ]
  },
  {
   "cell_type": "code",
   "execution_count": null,
   "metadata": {},
   "outputs": [],
   "source": [
    "figure_5c = plot_resistance_scan(shredding_005, 0.49, 0.89, second_lower_lim = 0.59)\n",
    "\n",
    "savefig(figure_5c, \"shred resistance 005.svg\")\n",
    "\n",
    "figure_5c"
   ]
  },
  {
   "cell_type": "markdown",
   "metadata": {},
   "source": [
    "## Shredding resistance in high EJR case (Figure 5d)"
   ]
  },
  {
   "cell_type": "code",
   "execution_count": null,
   "metadata": {},
   "outputs": [],
   "source": [
    "return_stats(shredding_060, lower_sup = 1e-6, upper_sup = 0.95, max_transgenic = 0.1)"
   ]
  },
  {
   "cell_type": "code",
   "execution_count": null,
   "metadata": {},
   "outputs": [],
   "source": [
    "figure_5d = plot_resistance_scan(shredding_060, 0.28, 0.41, second_lower_lim = 0.07)\n",
    "\n",
    "savefig(figure_5d, \"shred resistance 060.svg\")\n",
    "\n",
    "figure_5d"
   ]
  },
  {
   "cell_type": "code",
   "execution_count": null,
   "metadata": {},
   "outputs": [],
   "source": []
  },
  {
   "cell_type": "markdown",
   "metadata": {},
   "source": [
    "-------------------------------------------------------------------------------------------------------------------------------\n",
    "-------------------------------------------------------------------------------------------------------------------------------\n",
    "-------------------------------------------------------------------------------------------------------------------------------\n",
    "-------------------------------------------------------------------------------------------------------------------------------"
   ]
  },
  {
   "cell_type": "markdown",
   "metadata": {},
   "source": [
    "# Supplementary figures"
   ]
  },
  {
   "cell_type": "markdown",
   "metadata": {},
   "source": [
    "# Examples of time courses for populations with pre-existing resistances"
   ]
  },
  {
   "cell_type": "markdown",
   "metadata": {},
   "source": [
    "## Homing resistance; in low EJR (5%) scenario"
   ]
  },
  {
   "cell_type": "code",
   "execution_count": null,
   "metadata": {},
   "outputs": [],
   "source": [
    "apply_parameters_set(Parameters_set_sensitivity2)"
   ]
  },
  {
   "cell_type": "code",
   "execution_count": null,
   "metadata": {},
   "outputs": [],
   "source": [
    "finalplot = []\n",
    "\n",
    "for i in 0:0.2:1\n",
    "    population_scan = generate_population(r3 = i);\n",
    "    population_scan[return_i([\"AB\" \"ef\" \"CD\" \"cd\"], genotypes_detailed)] = BigFloat(\"0.001\");\n",
    "    \n",
    "    simulation = timecourse(150, population_scan)\n",
    "    \n",
    "    plot_result = plot_run_comprehensive(simulation, yle_total_bool = true, shredder_total_male_bool = true, correlation_bool = true,\n",
    "            given_dpi = 300, given_size = (325,150), dCas9_bool = true, dgRNA1_bool = true, dgRNA2_bool = true, \n",
    "            dshredder_bool = true, res3_bool = true)\n",
    "    plot!(legend=false, ytickfontsize = 10, xtickfontsize = 10)\n",
    "\n",
    "    savefig(plot_result, string(\"homing resistance low EJR \", i*100, \"% .svg\"))\n",
    "    \n",
    "    push!(finalplot, plot_result)\n",
    "end"
   ]
  },
  {
   "cell_type": "code",
   "execution_count": null,
   "metadata": {},
   "outputs": [],
   "source": [
    "finalplot[1]"
   ]
  },
  {
   "cell_type": "code",
   "execution_count": null,
   "metadata": {},
   "outputs": [],
   "source": [
    "finalplot[2]"
   ]
  },
  {
   "cell_type": "code",
   "execution_count": null,
   "metadata": {},
   "outputs": [],
   "source": [
    "finalplot[3]"
   ]
  },
  {
   "cell_type": "code",
   "execution_count": null,
   "metadata": {},
   "outputs": [],
   "source": [
    "finalplot[4]"
   ]
  },
  {
   "cell_type": "code",
   "execution_count": null,
   "metadata": {},
   "outputs": [],
   "source": [
    "finalplot[5]"
   ]
  },
  {
   "cell_type": "code",
   "execution_count": null,
   "metadata": {},
   "outputs": [],
   "source": [
    "finalplot[6]"
   ]
  },
  {
   "cell_type": "markdown",
   "metadata": {},
   "source": [
    "## Shredding resistance, in low EJR (5%) scenario"
   ]
  },
  {
   "cell_type": "code",
   "execution_count": null,
   "metadata": {},
   "outputs": [],
   "source": [
    "finalplot = []\n",
    "\n",
    "for i in 0:0.2:1\n",
    "    population_scan = generate_population(r2 = i);\n",
    "    population_scan[return_i([\"AB\" \"ef\" \"CD\" \"cd\"], genotypes_detailed)] = BigFloat(\"0.001\");\n",
    "    \n",
    "    simulation = timecourse(150, population_scan)\n",
    "    \n",
    "    plot_result = plot_run_comprehensive(simulation, yle_total_bool = true, shredder_total_male_bool = true, correlation_bool = true,\n",
    "            given_dpi = 300, given_size = (325,150), dCas9_bool = true, dgRNA1_bool = true, dgRNA2_bool = true, \n",
    "            dshredder_bool = true, res2_bool = true)\n",
    "    plot!(legend=false, ytickfontsize = 10, xtickfontsize = 10)\n",
    "\n",
    "    savefig(plot_result, string(\"shredding resistance low EJR \", i*100, \"% .svg\"))\n",
    "    \n",
    "    push!(finalplot, plot_result)\n",
    "    \n",
    "end"
   ]
  },
  {
   "cell_type": "code",
   "execution_count": null,
   "metadata": {},
   "outputs": [],
   "source": [
    "finalplot[1]"
   ]
  },
  {
   "cell_type": "code",
   "execution_count": null,
   "metadata": {},
   "outputs": [],
   "source": [
    "finalplot[2]"
   ]
  },
  {
   "cell_type": "code",
   "execution_count": null,
   "metadata": {},
   "outputs": [],
   "source": [
    "finalplot[3]"
   ]
  },
  {
   "cell_type": "code",
   "execution_count": null,
   "metadata": {},
   "outputs": [],
   "source": [
    "finalplot[4]"
   ]
  },
  {
   "cell_type": "code",
   "execution_count": null,
   "metadata": {},
   "outputs": [],
   "source": [
    "finalplot[5]"
   ]
  },
  {
   "cell_type": "code",
   "execution_count": null,
   "metadata": {
    "scrolled": true
   },
   "outputs": [],
   "source": [
    "finalplot[6]"
   ]
  },
  {
   "cell_type": "code",
   "execution_count": null,
   "metadata": {},
   "outputs": [],
   "source": []
  },
  {
   "cell_type": "code",
   "execution_count": null,
   "metadata": {},
   "outputs": [],
   "source": []
  },
  {
   "cell_type": "code",
   "execution_count": null,
   "metadata": {},
   "outputs": [],
   "source": [
    "apply_parameters_set(Parameters_set_sensitivity3)"
   ]
  },
  {
   "cell_type": "markdown",
   "metadata": {},
   "source": [
    "## Homing resistance, in high EJR (60%) scenario"
   ]
  },
  {
   "cell_type": "code",
   "execution_count": null,
   "metadata": {},
   "outputs": [],
   "source": [
    "finalplot = []\n",
    "\n",
    "for i in 0:0.2:1\n",
    "    population_scan = generate_population(r3 = i);\n",
    "    population_scan[return_i([\"AB\" \"ef\" \"CD\" \"cd\"], genotypes_detailed)] = BigFloat(\"0.001\");\n",
    "    \n",
    "    simulation = timecourse(150, population_scan)\n",
    "    \n",
    "    plot_result = plot_run_comprehensive(simulation, yle_total_bool = true, shredder_total_male_bool = true, correlation_bool = true,\n",
    "            given_dpi = 300, given_size = (325,150), dCas9_bool = true, dgRNA1_bool = true, dgRNA2_bool = true, \n",
    "            dshredder_bool = true, res3_bool = true)\n",
    "    plot!(legend=false, ytickfontsize = 10, xtickfontsize = 10)\n",
    "\n",
    "    savefig(plot_result, string(\"homing resistance high EJR \", i*100, \"% .svg\"))\n",
    "    \n",
    "    push!(finalplot, plot_result)\n",
    "    \n",
    "end"
   ]
  },
  {
   "cell_type": "code",
   "execution_count": null,
   "metadata": {},
   "outputs": [],
   "source": [
    "finalplot[1]"
   ]
  },
  {
   "cell_type": "code",
   "execution_count": null,
   "metadata": {},
   "outputs": [],
   "source": [
    "finalplot[2]"
   ]
  },
  {
   "cell_type": "code",
   "execution_count": null,
   "metadata": {},
   "outputs": [],
   "source": [
    "finalplot[3]"
   ]
  },
  {
   "cell_type": "code",
   "execution_count": null,
   "metadata": {},
   "outputs": [],
   "source": [
    "finalplot[4]"
   ]
  },
  {
   "cell_type": "code",
   "execution_count": null,
   "metadata": {},
   "outputs": [],
   "source": [
    "finalplot[5]"
   ]
  },
  {
   "cell_type": "code",
   "execution_count": null,
   "metadata": {},
   "outputs": [],
   "source": [
    "finalplot[6]"
   ]
  },
  {
   "cell_type": "markdown",
   "metadata": {},
   "source": [
    "## Shredding resistance, in high EJR (60%) scenario"
   ]
  },
  {
   "cell_type": "code",
   "execution_count": null,
   "metadata": {},
   "outputs": [],
   "source": [
    "finalplot = []\n",
    "\n",
    "for i in 0:0.2:1\n",
    "    population_scan = generate_population(r2 = i);\n",
    "    population_scan[return_i([\"AB\" \"ef\" \"CD\" \"cd\"], genotypes_detailed)] = BigFloat(\"0.001\");\n",
    "    \n",
    "    simulation = timecourse(150, population_scan)\n",
    "    \n",
    "    plot_result = plot_run_comprehensive(simulation, yle_total_bool = true, shredder_total_male_bool = true, correlation_bool = true,\n",
    "            given_dpi = 300, given_size = (325,150), dCas9_bool = true, dgRNA1_bool = true, dgRNA2_bool = true, \n",
    "            dshredder_bool = true, res2_bool = true)\n",
    "    plot!(legend=false, ytickfontsize = 10, xtickfontsize = 10)\n",
    "\n",
    "    savefig(plot_result, string(\"shredding resistance high EJR \", i*100, \"% .svg\"))\n",
    "    \n",
    "    push!(finalplot, plot_result)\n",
    "    \n",
    "end"
   ]
  },
  {
   "cell_type": "code",
   "execution_count": null,
   "metadata": {},
   "outputs": [],
   "source": [
    "finalplot[1]"
   ]
  },
  {
   "cell_type": "code",
   "execution_count": null,
   "metadata": {},
   "outputs": [],
   "source": [
    "finalplot[2]"
   ]
  },
  {
   "cell_type": "code",
   "execution_count": null,
   "metadata": {},
   "outputs": [],
   "source": [
    "finalplot[3]"
   ]
  },
  {
   "cell_type": "code",
   "execution_count": null,
   "metadata": {},
   "outputs": [],
   "source": [
    "finalplot[4]"
   ]
  },
  {
   "cell_type": "code",
   "execution_count": null,
   "metadata": {},
   "outputs": [],
   "source": [
    "finalplot[5]"
   ]
  },
  {
   "cell_type": "code",
   "execution_count": null,
   "metadata": {},
   "outputs": [],
   "source": [
    "finalplot[6]"
   ]
  },
  {
   "cell_type": "code",
   "execution_count": null,
   "metadata": {},
   "outputs": [],
   "source": []
  },
  {
   "cell_type": "code",
   "execution_count": null,
   "metadata": {},
   "outputs": [],
   "source": []
  },
  {
   "cell_type": "code",
   "execution_count": null,
   "metadata": {},
   "outputs": [],
   "source": []
  },
  {
   "cell_type": "code",
   "execution_count": null,
   "metadata": {},
   "outputs": [],
   "source": []
  },
  {
   "cell_type": "code",
   "execution_count": null,
   "metadata": {},
   "outputs": [],
   "source": [
    "#now we turn mutations on\n",
    "mutations_parameters_strong = deepcopy(new_baseline_parameters);\n",
    "\n",
    "\n",
    "#no mutation\n",
    "mutations_parameters_strong[\"m_1\"] = 1e-3;\n",
    "mutations_parameters_strong[\"m_2\"] = 1e-3;\n",
    "mutations_parameters_strong[\"s_d\"] = 0.05;\n",
    "\n",
    "\n",
    "apply_parameters_set(mutations_parameters_strong);"
   ]
  },
  {
   "cell_type": "code",
   "execution_count": null,
   "metadata": {},
   "outputs": [],
   "source": [
    "mutations_run2 = timecourse(300, genotype_standard);"
   ]
  },
  {
   "cell_type": "code",
   "execution_count": null,
   "metadata": {},
   "outputs": [],
   "source": [
    "SupFig2a = plot_run_comprehensive(mutations_run2,\n",
    "            given_dpi = 300, given_size = (325,150), dCas9_bool = true, dgRNA1_bool = true, dgRNA2_bool = true, \n",
    "            dshredder_bool = true, log_safe = true)\n",
    "plot!(legend=false, ytickfontsize = 10, xtickfontsize = 10, yaxis=:log, ylims = (1e-8, 1.5))\n",
    "\n",
    "savefig(SupFig2a, \"SupFig2a.svg\")\n",
    "\n",
    "SupFig2a"
   ]
  },
  {
   "cell_type": "code",
   "execution_count": null,
   "metadata": {},
   "outputs": [],
   "source": [
    "mutations_run3 = one_dimensional_population_string(900, 30, 25, generate_population(), generate_population());"
   ]
  },
  {
   "cell_type": "code",
   "execution_count": null,
   "metadata": {},
   "outputs": [],
   "source": [
    "SupFig3a = plot_run_comprehensive(mutations_run3[50],\n",
    "            given_dpi = 300, given_size = (325,150), dCas9_bool = true, dgRNA1_bool = true, dgRNA2_bool = true, \n",
    "            dshredder_bool = true, log_safe = true)\n",
    "plot!(legend=false, ytickfontsize = 10, xtickfontsize = 10, yaxis=:log, ylims = (1e-8, 1.5))\n",
    "plot!(xlims=(300,500))\n",
    "savefig(SupFig3a, \"SupFig3a.svg\")\n",
    "\n",
    "SupFig3a"
   ]
  },
  {
   "cell_type": "code",
   "execution_count": null,
   "metadata": {},
   "outputs": [],
   "source": [
    "SupFig3b = plot_run_comprehensive(mutations_run3[1], Cas9_bool = true, gRNA1_bool = true, shredder_bool = true, gRNA2_bool = true,\n",
    "            given_dpi = 300, given_size = (325,150), )\n",
    "plot!(legend=false, ytickfontsize = 10, xtickfontsize = 10)\n",
    "\n",
    "\n",
    "savefig(SupFig3b, \"SupFig3b.svg\")\n",
    "SupFig3b"
   ]
  },
  {
   "cell_type": "code",
   "execution_count": null,
   "metadata": {},
   "outputs": [],
   "source": [
    "SupFig3c = plot_run_comprehensive(mutations_run3[20], Cas9_bool = true, gRNA1_bool = true, shredder_bool = true, gRNA2_bool = true,\n",
    "            given_dpi = 300, given_size = (325,150), )\n",
    "plot!(legend=false, ytickfontsize = 10, xtickfontsize = 10)\n",
    "\n",
    "\n",
    "savefig(SupFig3c, \"SupFig3c.svg\")\n",
    "SupFig3c"
   ]
  },
  {
   "cell_type": "code",
   "execution_count": null,
   "metadata": {},
   "outputs": [],
   "source": [
    "SupFig3d = plot_run_comprehensive(mutations_run3[50], Cas9_bool = true, gRNA1_bool = true, shredder_bool = true, gRNA2_bool = true,\n",
    "            given_dpi = 300, given_size = (325,150), )\n",
    "plot!(legend=false, ytickfontsize = 10, xtickfontsize = 10)\n",
    "\n",
    "savefig(SupFig3d, \"SupFig3d.svg\")\n",
    "SupFig3d"
   ]
  },
  {
   "cell_type": "code",
   "execution_count": null,
   "metadata": {},
   "outputs": [],
   "source": [
    "for i in 1:length(mutations_run3)\n",
    "    \n",
    "    fig = plot_run_comprehensive(mutations_run3[i], Cas9_bool = true, gRNA1_bool = true, shredder_bool = true, gRNA2_bool = true,\n",
    "            given_dpi = 300, given_size = (325,150), )\n",
    "    plot!(legend=false, ytickfontsize = 10, xtickfontsize = 10)\n",
    "    \n",
    "    savefig(fig, string(\"SupFig3e_\", i,\".svg\"))\n",
    "\n",
    "end"
   ]
  },
  {
   "cell_type": "code",
   "execution_count": null,
   "metadata": {},
   "outputs": [],
   "source": [
    "geo_frequency = return_geographical_spread2(mutations_run3)\n",
    "writedlm(\"geo_frequency\",  geo_frequency, ',')"
   ]
  },
  {
   "cell_type": "code",
   "execution_count": null,
   "metadata": {},
   "outputs": [],
   "source": [
    "#geo_frequency = readdlm(\"geo_frequency\", ',')\n",
    "\n",
    "SupFig3F = plot(geo_frequency[2:end, 1], geo_frequency[2:end,5], dpi = 300, size = (325,150), lw = 4, legend=false, ytickfontsize = 10, \n",
    "    xtickfontsize = 10, label = \"Cas9\")\n",
    "plot!(geo_frequency[2:end,1], geo_frequency[2:end,6], dpi = 300, size = (325,150), lw =4, legend=false, ytickfontsize = 10, \n",
    "    xtickfontsize = 10, label = \"gRNA1\")\n",
    "plot!(geo_frequency[2:end,1], geo_frequency[2:end,7], dpi = 300, size = (325,150), lw = 4, legend=false, ytickfontsize = 10, \n",
    "    xtickfontsize = 10, label = \"Shredder\")\n",
    "plot!(geo_frequency[2:end,1], geo_frequency[2:end,8], dpi = 300, size = (325,150), lw = 4, legend=false, ytickfontsize = 10, \n",
    "    xtickfontsize = 10, label = \"gRNA2\")\n",
    "\n",
    "savefig(SupFig3F, \"SupFig3F.svg\")\n",
    "\n",
    "SupFig3F"
   ]
  },
  {
   "cell_type": "code",
   "execution_count": null,
   "metadata": {},
   "outputs": [],
   "source": [
    "mutations_parameters_intermediate = deepcopy(mutations_parameters_strong)\n",
    "mutations_parameters_intermediate[\"m_2\"] = 1e-4;\n",
    "mutations_parameters_intermediate[\"s_d\"] = 0.01;\n",
    "\n",
    "apply_parameters_set(mutations_parameters_intermediate);"
   ]
  },
  {
   "cell_type": "code",
   "execution_count": null,
   "metadata": {},
   "outputs": [],
   "source": [
    "mutations_run4 = one_dimensional_population_string(900, 30, 25, generate_population(), generate_population());"
   ]
  },
  {
   "cell_type": "code",
   "execution_count": null,
   "metadata": {},
   "outputs": [],
   "source": [
    "geo_frequency4 = return_geographical_spread2(mutations_run4)\n",
    "writedlm(\"geo_frequency4\",  geo_frequency4, ',');"
   ]
  },
  {
   "cell_type": "code",
   "execution_count": null,
   "metadata": {},
   "outputs": [],
   "source": [
    "#geo_frequency4 = readdlm(\"geo_frequency4\", ',')\n",
    "\n",
    "SupFig3G = plot(geo_frequency4[2:end, 1], geo_frequency4[2:end,5], dpi = 300, size = (325,150), lw = 4, legend=false, ytickfontsize = 10, \n",
    "    xtickfontsize = 10, label = \"Cas9\")\n",
    "plot!(geo_frequency4[2:end,1], geo_frequency4[2:end,6], dpi = 300, size = (325,150), lw =4, legend=false, ytickfontsize = 10, \n",
    "    xtickfontsize = 10, label = \"gRNA1\")\n",
    "plot!(geo_frequency4[2:end,1], geo_frequency4[2:end,7], dpi = 300, size = (325,150), lw = 4, legend=false, ytickfontsize = 10, \n",
    "    xtickfontsize = 10, label = \"Shredder\")\n",
    "plot!(geo_frequency4[2:end,1], geo_frequency4[2:end,8], dpi = 300, size = (325,150), lw = 4, legend=false, ytickfontsize = 10, \n",
    "    xtickfontsize = 10, label = \"gRNA2\")\n",
    "plot!(ylims = (0,1))\n",
    "savefig(SupFig3G, \"SupFig3G.svg\")\n",
    "\n",
    "SupFig3G"
   ]
  },
  {
   "cell_type": "code",
   "execution_count": null,
   "metadata": {},
   "outputs": [],
   "source": [
    "for i in 1:length(mutations_run4)\n",
    "    \n",
    "    fig = plot_run_comprehensive(mutations_run4[i], Cas9_bool = true, gRNA1_bool = true, shredder_bool = true, gRNA2_bool = true,\n",
    "            given_dpi = 300, given_size = (325,150), )\n",
    "    plot!(legend=false, ytickfontsize = 10, xtickfontsize = 10)\n",
    "    \n",
    "    savefig(fig, string(\"SupFig3h_\", i,\".svg\"))\n",
    "\n",
    "end"
   ]
  },
  {
   "cell_type": "markdown",
   "metadata": {},
   "source": [
    "# High er3 values to prove that X-Shredder does not need to reach high frequencies"
   ]
  },
  {
   "cell_type": "code",
   "execution_count": null,
   "metadata": {},
   "outputs": [],
   "source": [
    "er3_0 = deepcopy(Parameters_set_sensitivity1)\n",
    "er3_0[\"er_3\"] = BigFloat(\"0\")\n",
    "\n",
    "er3_005 = deepcopy(Parameters_set_sensitivity1)\n",
    "er3_005[\"er_3\"] = BigFloat(\"0.05\")\n",
    "\n",
    "er3_01 = deepcopy(Parameters_set_sensitivity1)\n",
    "er3_01[\"er_3\"] = BigFloat(\"0.1\")\n",
    "\n",
    "er3_02 = deepcopy(Parameters_set_sensitivity1)\n",
    "er3_02[\"er_3\"] = BigFloat(\"0.2\")\n",
    "\n",
    "er3_04 = deepcopy(Parameters_set_sensitivity1)\n",
    "er3_04[\"er_3\"] = BigFloat(\"0.4\")\n",
    "\n",
    "er3_05 = deepcopy(Parameters_set_sensitivity1)\n",
    "er3_05[\"er_3\"] = BigFloat(\"0.5\")\n",
    "\n",
    "er3_06 = deepcopy(Parameters_set_sensitivity1)\n",
    "er3_06[\"er_3\"] = BigFloat(\"0.6\")\n",
    "\n",
    "er3_07 = deepcopy(Parameters_set_sensitivity1)\n",
    "er3_07[\"er_3\"] = BigFloat(\"0.7\")\n",
    "\n",
    "er3_075 = deepcopy(Parameters_set_sensitivity1)\n",
    "er3_075[\"er_3\"] = BigFloat(\"0.75\")\n",
    "\n",
    "er3_08 = deepcopy(Parameters_set_sensitivity1)\n",
    "er3_08[\"er_3\"] = BigFloat(\"0.8\")\n",
    "\n",
    "er3_09 = deepcopy(Parameters_set_sensitivity1)\n",
    "er3_09[\"er_3\"] = BigFloat(\"0.9\");"
   ]
  },
  {
   "cell_type": "code",
   "execution_count": null,
   "metadata": {},
   "outputs": [],
   "source": [
    "apply_parameters_set(er3_0);\n",
    "\n",
    "run_er3_0_together = timecourse(100, genotype_standard)\n",
    "run_er3_0_separate = timecourse(100, separate_release)\n",
    "\n",
    "apply_parameters_set(er3_005);\n",
    "\n",
    "run_er3_005_together = timecourse(100, genotype_standard)\n",
    "run_er3_005_separate = timecourse(100, separate_release)\n",
    "\n",
    "apply_parameters_set(er3_01);\n",
    "\n",
    "run_er3_01_together = timecourse(100, genotype_standard)\n",
    "run_er3_01_separate = timecourse(100, separate_release)\n",
    "\n",
    "apply_parameters_set(er3_02);\n",
    "\n",
    "run_er3_02_together = timecourse(100, genotype_standard)\n",
    "run_er3_02_separate = timecourse(100, separate_release)\n",
    "\n",
    "apply_parameters_set(er3_04);\n",
    "\n",
    "run_er3_04_together = timecourse(100, genotype_standard)\n",
    "run_er3_04_separate = timecourse(100, separate_release)\n",
    "\n",
    "apply_parameters_set(er3_05);\n",
    "\n",
    "run_er3_05_together = timecourse(100, genotype_standard)\n",
    "run_er3_05_separate = timecourse(100, separate_release)\n",
    "\n",
    "apply_parameters_set(er3_07);\n",
    "\n",
    "run_er3_07_together = timecourse(100, genotype_standard)\n",
    "run_er3_07_separate = timecourse(100, separate_release)"
   ]
  },
  {
   "cell_type": "code",
   "execution_count": null,
   "metadata": {},
   "outputs": [],
   "source": [
    "apply_parameters_set(er3_075);\n",
    "\n",
    "run_er3_075_together = timecourse(500, genotype_standard)\n",
    "run_er3_075_separate = timecourse(500, separate_release)\n",
    "\n",
    "apply_parameters_set(er3_08);\n",
    "\n",
    "run_er3_08_together = timecourse(500, genotype_standard)\n",
    "run_er3_08_separate = timecourse(500, separate_release)\n",
    "\n",
    "apply_parameters_set(er3_09);\n",
    "\n",
    "run_er3_09_together = timecourse(500, genotype_standard)\n",
    "run_er3_09_separate = timecourse(500, separate_release);"
   ]
  },
  {
   "cell_type": "code",
   "execution_count": null,
   "metadata": {},
   "outputs": [],
   "source": [
    "tog_0 = plot_run_comprehensive(run_er3_0_together, yle_total_bool = true, shredder_total_male_bool = true, correlation_bool = true,\n",
    "            given_dpi = 300, given_size = (325,150), dCas9_bool = true, dgRNA1_bool = true, dgRNA2_bool = true, \n",
    "            dshredder_bool = true)\n",
    "plot!(legend=false, ytickfontsize = 10, xtickfontsize = 10)\n",
    "\n",
    "savefig(\"tog_0.svg\")\n",
    "\n",
    "tog_0"
   ]
  },
  {
   "cell_type": "code",
   "execution_count": null,
   "metadata": {},
   "outputs": [],
   "source": [
    "tog_005 = plot_run_comprehensive(run_er3_005_together, yle_total_bool = true, shredder_total_male_bool = true, correlation_bool = true,\n",
    "            given_dpi = 300, given_size = (325,150), dCas9_bool = true, dgRNA1_bool = true, dgRNA2_bool = true, \n",
    "            dshredder_bool = true)\n",
    "plot!(legend=false, ytickfontsize = 10, xtickfontsize = 10)\n",
    "\n",
    "savefig(\"tog_005.svg\")\n",
    "\n",
    "tog_005"
   ]
  },
  {
   "cell_type": "code",
   "execution_count": null,
   "metadata": {},
   "outputs": [],
   "source": [
    "tog_01 = plot_run_comprehensive(run_er3_01_together, yle_total_bool = true, shredder_total_male_bool = true, correlation_bool = true,\n",
    "            given_dpi = 300, given_size = (325,150), dCas9_bool = true, dgRNA1_bool = true, dgRNA2_bool = true, \n",
    "            dshredder_bool = true)\n",
    "plot!(legend=false, ytickfontsize = 10, xtickfontsize = 10)\n",
    "\n",
    "savefig(\"tog_01.svg\")\n",
    "\n",
    "tog_01"
   ]
  },
  {
   "cell_type": "code",
   "execution_count": null,
   "metadata": {},
   "outputs": [],
   "source": [
    "tog_02 = plot_run_comprehensive(run_er3_02_together, yle_total_bool = true, shredder_total_male_bool = true, correlation_bool = true,\n",
    "            given_dpi = 300, given_size = (325,150), dCas9_bool = true, dgRNA1_bool = true, dgRNA2_bool = true, \n",
    "            dshredder_bool = true)\n",
    "plot!(legend=false, ytickfontsize = 10, xtickfontsize = 10)\n",
    "\n",
    "savefig(\"tog_02.svg\")\n",
    "\n",
    "tog_02"
   ]
  },
  {
   "cell_type": "code",
   "execution_count": null,
   "metadata": {},
   "outputs": [],
   "source": [
    "tog_04 = plot_run_comprehensive(run_er3_04_together, yle_total_bool = true, shredder_total_male_bool = true, correlation_bool = true,\n",
    "            given_dpi = 300, given_size = (325,150), dCas9_bool = true, dgRNA1_bool = true, dgRNA2_bool = true, \n",
    "            dshredder_bool = true)\n",
    "plot!(legend=false, ytickfontsize = 10, xtickfontsize = 10)\n",
    "\n",
    "savefig(\"tog_04.svg\")\n",
    "\n",
    "tog_04"
   ]
  },
  {
   "cell_type": "code",
   "execution_count": null,
   "metadata": {},
   "outputs": [],
   "source": [
    "tog_05 = plot_run_comprehensive(run_er3_05_together, yle_total_bool = true, shredder_total_male_bool = true, correlation_bool = true,\n",
    "            given_dpi = 300, given_size = (325,150), dCas9_bool = true, dgRNA1_bool = true, dgRNA2_bool = true, \n",
    "            dshredder_bool = true)\n",
    "plot!(legend=false, ytickfontsize = 10, xtickfontsize = 10)\n",
    "\n",
    "savefig(\"tog_05.svg\")\n",
    "\n",
    "tog_05"
   ]
  },
  {
   "cell_type": "code",
   "execution_count": null,
   "metadata": {},
   "outputs": [],
   "source": [
    "tog_07 = plot_run_comprehensive(run_er3_07_together, yle_total_bool = true, shredder_total_male_bool = true, correlation_bool = true,\n",
    "            given_dpi = 300, given_size = (325,150), dCas9_bool = true, dgRNA1_bool = true, dgRNA2_bool = true, \n",
    "            dshredder_bool = true)\n",
    "plot!(legend=false, ytickfontsize = 10, xtickfontsize = 10)\n",
    "\n",
    "savefig(\"tog_07.svg\")\n",
    "\n",
    "tog_07"
   ]
  },
  {
   "cell_type": "code",
   "execution_count": null,
   "metadata": {},
   "outputs": [],
   "source": [
    "tog_075 = plot_run_comprehensive(run_er3_075_together, yle_total_bool = true, shredder_total_male_bool = true, correlation_bool = true,\n",
    "            given_dpi = 300, given_size = (325,150), dCas9_bool = true, dgRNA1_bool = true, dgRNA2_bool = true, \n",
    "            dshredder_bool = true)\n",
    "plot!(legend=false, ytickfontsize = 10, xtickfontsize = 10)\n",
    "\n",
    "savefig(\"tog_075.svg\")\n",
    "\n",
    "tog_075"
   ]
  },
  {
   "cell_type": "code",
   "execution_count": null,
   "metadata": {},
   "outputs": [],
   "source": [
    "tog_08 = plot_run_comprehensive(run_er3_08_together, yle_total_bool = true, shredder_total_male_bool = true, correlation_bool = true,\n",
    "            given_dpi = 300, given_size = (325,150), dCas9_bool = true, dgRNA1_bool = true, dgRNA2_bool = true, \n",
    "            dshredder_bool = true)\n",
    "plot!(legend=false, ytickfontsize = 10, xtickfontsize = 10)\n",
    "\n",
    "savefig(\"tog_08.svg\")\n",
    "\n",
    "tog_08"
   ]
  },
  {
   "cell_type": "code",
   "execution_count": null,
   "metadata": {},
   "outputs": [],
   "source": [
    "tog_09 = plot_run_comprehensive(run_er3_09_together, yle_total_bool = true, shredder_total_male_bool = true, correlation_bool = true,\n",
    "            given_dpi = 300, given_size = (325,150), dCas9_bool = true, dgRNA1_bool = true, dgRNA2_bool = true, \n",
    "            dshredder_bool = true)\n",
    "plot!(legend=false, ytickfontsize = 10, xtickfontsize = 10)\n",
    "\n",
    "savefig(\"tog_09.svg\")\n",
    "\n",
    "tog_09"
   ]
  },
  {
   "cell_type": "code",
   "execution_count": null,
   "metadata": {},
   "outputs": [],
   "source": [
    "sep_0 = plot_run_comprehensive(run_er3_0_separate, yle_total_bool = true, shredder_total_male_bool = true, correlation_bool = true,\n",
    "            given_dpi = 300, given_size = (325,150), dCas9_bool = true, dgRNA1_bool = true, dgRNA2_bool = true, \n",
    "            dshredder_bool = true)\n",
    "plot!(legend=false, ytickfontsize = 10, xtickfontsize = 10)\n",
    "\n",
    "savefig(\"sep_0.svg\")\n",
    "\n",
    "sep_0"
   ]
  },
  {
   "cell_type": "code",
   "execution_count": null,
   "metadata": {},
   "outputs": [],
   "source": [
    "sep_005  = plot_run_comprehensive(run_er3_005_separate, yle_total_bool = true, shredder_total_male_bool = true, correlation_bool = true,\n",
    "            given_dpi = 300, given_size = (325,150), dCas9_bool = true, dgRNA1_bool = true, dgRNA2_bool = true, \n",
    "            dshredder_bool = true)\n",
    "plot!(legend=false, ytickfontsize = 10, xtickfontsize = 10)\n",
    "\n",
    "savefig(\"sep_005.svg\")\n",
    "\n",
    "sep_005"
   ]
  },
  {
   "cell_type": "code",
   "execution_count": null,
   "metadata": {},
   "outputs": [],
   "source": [
    "sep_01 = plot_run_comprehensive(run_er3_01_separate, yle_total_bool = true, shredder_total_male_bool = true, correlation_bool = true,\n",
    "            given_dpi = 300, given_size = (325,150), dCas9_bool = true, dgRNA1_bool = true, dgRNA2_bool = true, \n",
    "            dshredder_bool = true)\n",
    "plot!(legend=false, ytickfontsize = 10, xtickfontsize = 10)\n",
    "\n",
    "savefig(\"sep_01.svg\")\n",
    "\n",
    "sep_01"
   ]
  },
  {
   "cell_type": "code",
   "execution_count": null,
   "metadata": {},
   "outputs": [],
   "source": [
    "sep_02 = plot_run_comprehensive(run_er3_02_separate, yle_total_bool = true, shredder_total_male_bool = true, correlation_bool = true,\n",
    "            given_dpi = 300, given_size = (325,150), dCas9_bool = true, dgRNA1_bool = true, dgRNA2_bool = true, \n",
    "            dshredder_bool = true)\n",
    "plot!(legend=false, ytickfontsize = 10, xtickfontsize = 10)\n",
    "\n",
    "savefig(\"sep_02.svg\")\n",
    "\n",
    "sep_02"
   ]
  },
  {
   "cell_type": "code",
   "execution_count": null,
   "metadata": {},
   "outputs": [],
   "source": [
    "sep_04 = plot_run_comprehensive(run_er3_04_separate, yle_total_bool = true, shredder_total_male_bool = true, correlation_bool = true,\n",
    "            given_dpi = 300, given_size = (325,150), dCas9_bool = true, dgRNA1_bool = true, dgRNA2_bool = true, \n",
    "            dshredder_bool = true)\n",
    "plot!(legend=false, ytickfontsize = 10, xtickfontsize = 10)\n",
    "\n",
    "savefig(\"sep_04.svg\")\n",
    "\n",
    "sep_04"
   ]
  },
  {
   "cell_type": "code",
   "execution_count": null,
   "metadata": {},
   "outputs": [],
   "source": [
    "sep_05 = plot_run_comprehensive(run_er3_05_separate, yle_total_bool = true, shredder_total_male_bool = true, correlation_bool = true,\n",
    "            given_dpi = 300, given_size = (325,150), dCas9_bool = true, dgRNA1_bool = true, dgRNA2_bool = true, \n",
    "            dshredder_bool = true)\n",
    "plot!(legend=false, ytickfontsize = 10, xtickfontsize = 10)\n",
    "\n",
    "savefig(\"sep_05.svg\")\n",
    "\n",
    "sep_05"
   ]
  },
  {
   "cell_type": "code",
   "execution_count": null,
   "metadata": {},
   "outputs": [],
   "source": [
    "sep_07 = plot_run_comprehensive(run_er3_07_separate, yle_total_bool = true, shredder_total_male_bool = true, correlation_bool = true,\n",
    "            given_dpi = 300, given_size = (325,150), dCas9_bool = true, dgRNA1_bool = true, dgRNA2_bool = true, \n",
    "            dshredder_bool = true)\n",
    "plot!(legend=false, ytickfontsize = 10, xtickfontsize = 10)\n",
    "\n",
    "savefig(\"sep_07.svg\")\n",
    "\n",
    "sep_07"
   ]
  },
  {
   "cell_type": "code",
   "execution_count": null,
   "metadata": {},
   "outputs": [],
   "source": [
    "sep_075 = plot_run_comprehensive(run_er3_075_separate, yle_total_bool = true, shredder_total_male_bool = true, correlation_bool = true,\n",
    "            given_dpi = 300, given_size = (325,150), dCas9_bool = true, dgRNA1_bool = true, dgRNA2_bool = true, \n",
    "            dshredder_bool = true)\n",
    "plot!(legend=false, ytickfontsize = 10, xtickfontsize = 10)\n",
    "\n",
    "savefig(\"sep_075.svg\")\n",
    "\n",
    "sep_075"
   ]
  },
  {
   "cell_type": "code",
   "execution_count": null,
   "metadata": {},
   "outputs": [],
   "source": [
    "sep_08 = plot_run_comprehensive(run_er3_08_separate, yle_total_bool = true, shredder_total_male_bool = true, correlation_bool = true,\n",
    "            given_dpi = 300, given_size = (325,150), dCas9_bool = true, dgRNA1_bool = true, dgRNA2_bool = true, \n",
    "            dshredder_bool = true)\n",
    "plot!(legend=false, ytickfontsize = 10, xtickfontsize = 10)\n",
    "\n",
    "savefig(\"sep_08.svg\")\n",
    "\n",
    "sep_08"
   ]
  },
  {
   "cell_type": "code",
   "execution_count": null,
   "metadata": {},
   "outputs": [],
   "source": [
    "sep_09 = plot_run_comprehensive(run_er3_09_separate, yle_total_bool = true, shredder_total_male_bool = true, correlation_bool = true,\n",
    "            given_dpi = 300, given_size = (325,150), dCas9_bool = true, dgRNA1_bool = true, dgRNA2_bool = true, \n",
    "            dshredder_bool = true)\n",
    "plot!(legend=false, ytickfontsize = 10, xtickfontsize = 10)\n",
    "\n",
    "savefig(\"sep_09.svg\")\n",
    "\n",
    "sep_09"
   ]
  },
  {
   "cell_type": "markdown",
   "metadata": {},
   "source": [
    "# Theta does not affect dynamics"
   ]
  },
  {
   "cell_type": "code",
   "execution_count": null,
   "metadata": {},
   "outputs": [],
   "source": [
    "Parameters_set_lots_going_on1 = Dict(\n",
    "\n",
    "    #conditionality factor, describing whether X-shredding only happens in presence\n",
    "    #of YLE (=0) or in presence of all Y chromosomes (=1)\n",
    "    \"c\" => BigFloat(\"1\"),\n",
    "\n",
    "    # selection against carrying edited X gene (homozygous, females)\n",
    "    \"s_f\" => BigFloat(\"0.99\"),\n",
    "\n",
    "    # dominance coefficient for carrying edited X gene (heterozygous, females)\n",
    "    \"h_f\" => BigFloat(\"0.99\"),\n",
    "\n",
    "    # selection against carrying edited X gene (males)\n",
    "    \"s_m\" => BigFloat(\"0.01\"),\n",
    "\n",
    "    \"s_a\" => BigFloat(\"0.01\"),\n",
    "    \"s_b\" => BigFloat(\"0.01\"),\n",
    "    \"s_c\" => BigFloat(\"0.01\"),\n",
    "    \"s_d\" => BigFloat(\"0.01\"),\n",
    "    \"s_e\" => BigFloat(\"0.01\"),\n",
    "    \"h_e\" => BigFloat(\"1\"),\n",
    "\n",
    "    #efficiency of editing (e_e)\n",
    "    \"e_e\" => BigFloat(\"0.95\"),\n",
    "\n",
    "    #efficiency of homing (e_c)\n",
    "    \"e_h\" => BigFloat(\"0.95\"),\n",
    "\n",
    "    #mutation rate during homing (m)\n",
    "    \"m_1\" => BigFloat(\"1e-3\"),\n",
    "\n",
    "    #background mutation rate of all components\n",
    "    \"m_2\" => BigFloat(\"1e-6\"),\n",
    "\n",
    "    #efficiency of X-shredding\n",
    "    \"e_s\" => BigFloat(\"0.90\"),\n",
    "\n",
    "    #dominance coefficient of X-shredding activity\n",
    "    \"h_e2\" => BigFloat(\"0.99\"),\n",
    "\n",
    "    #intrinsic rate of population increase\n",
    "    \"Rm\" => BigFloat(\"6\"),\n",
    "\n",
    "    #density independent survival rate\n",
    "    \"theta\" => BigFloat(\"0.1\"),\n",
    "\n",
    "    #rate with which editing resistance occurs during editing process\n",
    "    \"er_1\" => BigFloat(\"1e-9\"),\n",
    "\n",
    "    #rate with which shredding resistance occurs during shredding process\n",
    "    \"er_2\" => BigFloat(\"1e-6\"),\n",
    "\n",
    "    #rate with which homing resistance occurs during the homing process\n",
    "    \"er_3\" => BigFloat(\"1e-6\"),\n",
    "\n",
    "    #recombination rate (X-linked loci;Editing gene and shredding target site)\n",
    "    \"r\" => BigFloat(\"0.5\"),\n",
    ")\n",
    "\n",
    "Parameters_set_lots_going_on2 = deepcopy(Parameters_set_lots_going_on1)\n",
    "Parameters_set_lots_going_on2[\"theta\"] = BigFloat(\"0.3\")\n",
    "\n",
    "Parameters_set_lots_going_on3 = deepcopy(Parameters_set_lots_going_on1)\n",
    "Parameters_set_lots_going_on3[\"theta\"] = BigFloat(\"0.5\")\n",
    "\n",
    "Parameters_set_lots_going_on4 = deepcopy(Parameters_set_lots_going_on1)\n",
    "Parameters_set_lots_going_on4[\"theta\"] = BigFloat(\"0.7\")\n",
    "\n",
    "Parameters_set_lots_going_on5 = deepcopy(Parameters_set_lots_going_on1)\n",
    "Parameters_set_lots_going_on5[\"theta\"] = BigFloat(\"0.9\")\n",
    "\n",
    "Parameters_set_lots_going_on6 = deepcopy(Parameters_set_lots_going_on1)\n",
    "Parameters_set_lots_going_on6[\"theta\"] = BigFloat(\"0.01\");"
   ]
  },
  {
   "cell_type": "code",
   "execution_count": null,
   "metadata": {},
   "outputs": [],
   "source": [
    "apply_parameters_set(Parameters_set_lots_going_on1)\n",
    "theta1 = timecourse(100, genotype_standard)\n",
    "\n",
    "apply_parameters_set(Parameters_set_lots_going_on2)\n",
    "theta2 = timecourse(100, genotype_standard)\n",
    "\n",
    "apply_parameters_set(Parameters_set_lots_going_on3)\n",
    "theta3 = timecourse(100, genotype_standard)\n",
    "\n",
    "apply_parameters_set(Parameters_set_lots_going_on4)\n",
    "theta4 = timecourse(100, genotype_standard)\n",
    "\n",
    "apply_parameters_set(Parameters_set_lots_going_on5)\n",
    "theta5 = timecourse(100, genotype_standard)\n",
    "\n",
    "apply_parameters_set(Parameters_set_lots_going_on6)\n",
    "theta6 = timecourse(100, genotype_standard);"
   ]
  },
  {
   "cell_type": "code",
   "execution_count": null,
   "metadata": {},
   "outputs": [],
   "source": [
    "thet_1 = plot_run_comprehensive(theta1, yle_total_bool = true, shredder_total_male_bool = true, correlation_bool = true,\n",
    "            given_dpi = 300, given_size = (325,150), dCas9_bool = true, dgRNA1_bool = true, dgRNA2_bool = true, \n",
    "            dshredder_bool = true)\n",
    "plot!(legend=false, ytickfontsize = 10, xtickfontsize = 10)\n",
    "\n",
    "savefig(\"thet_1.svg\")\n",
    "\n",
    "thet_1"
   ]
  },
  {
   "cell_type": "code",
   "execution_count": null,
   "metadata": {},
   "outputs": [],
   "source": [
    "thet_2 = plot_run_comprehensive(theta2, yle_total_bool = true, shredder_total_male_bool = true, correlation_bool = true,\n",
    "            given_dpi = 300, given_size = (325,150), dCas9_bool = true, dgRNA1_bool = true, dgRNA2_bool = true, \n",
    "            dshredder_bool = true)\n",
    "plot!(legend=false, ytickfontsize = 10, xtickfontsize = 10)\n",
    "\n",
    "savefig(\"thet_2.svg\")\n",
    "\n",
    "thet_2"
   ]
  },
  {
   "cell_type": "code",
   "execution_count": null,
   "metadata": {},
   "outputs": [],
   "source": [
    "thet_3 = plot_run_comprehensive(theta3, yle_total_bool = true, shredder_total_male_bool = true, correlation_bool = true,\n",
    "            given_dpi = 300, given_size = (325,150), dCas9_bool = true, dgRNA1_bool = true, dgRNA2_bool = true, \n",
    "            dshredder_bool = true)\n",
    "plot!(legend=false, ytickfontsize = 10, xtickfontsize = 10)\n",
    "\n",
    "savefig(\"thet_3.svg\")\n",
    "\n",
    "thet_3"
   ]
  },
  {
   "cell_type": "code",
   "execution_count": null,
   "metadata": {},
   "outputs": [],
   "source": [
    "thet_4 = plot_run_comprehensive(theta4, yle_total_bool = true, shredder_total_male_bool = true, correlation_bool = true,\n",
    "            given_dpi = 300, given_size = (325,150), dCas9_bool = true, dgRNA1_bool = true, dgRNA2_bool = true, \n",
    "            dshredder_bool = true)\n",
    "plot!(legend=false, ytickfontsize = 10, xtickfontsize = 10)\n",
    "\n",
    "savefig(\"thet_4.svg\")\n",
    "\n",
    "thet_4"
   ]
  },
  {
   "cell_type": "code",
   "execution_count": null,
   "metadata": {},
   "outputs": [],
   "source": [
    "thet_5 = plot_run_comprehensive(theta5, yle_total_bool = true, shredder_total_male_bool = true, correlation_bool = true,\n",
    "            given_dpi = 300, given_size = (325,150), dCas9_bool = true, dgRNA1_bool = true, dgRNA2_bool = true, \n",
    "            dshredder_bool = true)\n",
    "plot!(legend=false, ytickfontsize = 10, xtickfontsize = 10)\n",
    "\n",
    "savefig(\"thet_5.svg\")\n",
    "\n",
    "thet_5"
   ]
  },
  {
   "cell_type": "code",
   "execution_count": null,
   "metadata": {},
   "outputs": [],
   "source": [
    "thet_6 = plot_run_comprehensive(theta6, yle_total_bool = true, shredder_total_male_bool = true, correlation_bool = true,\n",
    "            given_dpi = 300, given_size = (325,150), dCas9_bool = true, dgRNA1_bool = true, dgRNA2_bool = true, \n",
    "            dshredder_bool = true)\n",
    "plot!(legend=false, ytickfontsize = 10, xtickfontsize = 10)\n",
    "\n",
    "savefig(\"thet_6.svg\")\n",
    "\n",
    "thet_6"
   ]
  },
  {
   "cell_type": "code",
   "execution_count": null,
   "metadata": {},
   "outputs": [],
   "source": [
    "higher_RM_parameters = deepcopy(new_baseline_parameters)\n",
    "higher_RM_parameters[\"Rm\"] = 15\n",
    "\n",
    "apply_parameters_set(higher_RM_parameters);"
   ]
  },
  {
   "cell_type": "code",
   "execution_count": null,
   "metadata": {},
   "outputs": [],
   "source": [
    "higher_RM_run = timecourse(150, genotype_standard);"
   ]
  },
  {
   "cell_type": "code",
   "execution_count": null,
   "metadata": {},
   "outputs": [],
   "source": [
    "higher_RM_plot = plot_run_comprehensive(higher_RM_run, yle_total_bool = true, shredder_total_male_bool = true, correlation_bool = true,\n",
    "            given_dpi = 300, given_size = (325,150), dCas9_bool = true, dgRNA1_bool = true, dgRNA2_bool = true, \n",
    "            dshredder_bool = true)\n",
    "plot!(legend=false, ytickfontsize = 10, xtickfontsize = 10)\n",
    "\n",
    "savefig(\"higher_RM_plot.svg\")\n",
    "\n",
    "higher_RM_plot"
   ]
  },
  {
   "cell_type": "code",
   "execution_count": null,
   "metadata": {},
   "outputs": [],
   "source": [
    "plot_run_comprehensive(higher_RM_run, yle_total_bool = true, shredder_total_male_bool = true, correlation_bool = true,\n",
    "            given_dpi = 300, given_size = (325,150), dCas9_bool = true, dgRNA1_bool = true, dgRNA2_bool = true, \n",
    "            dshredder_bool = true)\n",
    "plot!(legend=false, ytickfontsize = 10, xtickfontsize = 10, yaxis=:log, log_safe = true, ylims = (1e-100,1))"
   ]
  },
  {
   "cell_type": "code",
   "execution_count": null,
   "metadata": {},
   "outputs": [],
   "source": [
    "higher_RM_parameters2 = deepcopy(Parameters_set_sensitivity2)\n",
    "higher_RM_parameters2[\"Rm\"] = 15\n",
    "\n",
    "apply_parameters_set(higher_RM_parameters2);"
   ]
  },
  {
   "cell_type": "code",
   "execution_count": null,
   "metadata": {},
   "outputs": [],
   "source": [
    "higher_RM_run2 = timecourse(300, genotype_standard);"
   ]
  },
  {
   "cell_type": "code",
   "execution_count": null,
   "metadata": {},
   "outputs": [],
   "source": [
    "plot_run_comprehensive(higher_RM_run2, yle_total_bool = true, shredder_total_male_bool = true, correlation_bool = true,\n",
    "            given_dpi = 300, given_size = (325,150), dCas9_bool = true, dgRNA1_bool = true, dgRNA2_bool = true, \n",
    "            dshredder_bool = true)\n",
    "plot!(legend=false, ytickfontsize = 10, xtickfontsize = 10)#, yaxis=:log, log_safe = true, ylims = (1e-30,1))"
   ]
  },
  {
   "cell_type": "code",
   "execution_count": null,
   "metadata": {},
   "outputs": [],
   "source": [
    "apply_parameters_set(Parameters_set_sensitivity2);"
   ]
  },
  {
   "cell_type": "code",
   "execution_count": null,
   "metadata": {},
   "outputs": [],
   "source": [
    "sensitivity2_run = timecourse(300, genotype_standard);"
   ]
  },
  {
   "cell_type": "code",
   "execution_count": null,
   "metadata": {},
   "outputs": [],
   "source": [
    "plot_run_comprehensive(sensitivity2_run, yle_total_bool = true, shredder_total_male_bool = true, correlation_bool = true,\n",
    "            given_dpi = 300, given_size = (325,150), dCas9_bool = true, dgRNA1_bool = true, dgRNA2_bool = true, \n",
    "            dshredder_bool = true)\n",
    "plot!(legend=false, ytickfontsize = 10, xtickfontsize = 10, yaxis=:log, log_safe = true, ylims = (1e-30,1))"
   ]
  }
 ],
 "metadata": {
  "kernelspec": {
   "display_name": "Julia 1.7.1",
   "language": "julia",
   "name": "julia-1.7"
  },
  "language_info": {
   "file_extension": ".jl",
   "mimetype": "application/julia",
   "name": "julia",
   "version": "1.7.1"
  },
  "varInspector": {
   "cols": {
    "lenName": 16,
    "lenType": 16,
    "lenVar": 40
   },
   "kernels_config": {
    "python": {
     "delete_cmd_postfix": "",
     "delete_cmd_prefix": "del ",
     "library": "var_list.py",
     "varRefreshCmd": "print(var_dic_list())"
    },
    "r": {
     "delete_cmd_postfix": ") ",
     "delete_cmd_prefix": "rm(",
     "library": "var_list.r",
     "varRefreshCmd": "cat(var_dic_list()) "
    }
   },
   "types_to_exclude": [
    "module",
    "function",
    "builtin_function_or_method",
    "instance",
    "_Feature"
   ],
   "window_display": false
  }
 },
 "nbformat": 4,
 "nbformat_minor": 4
}
