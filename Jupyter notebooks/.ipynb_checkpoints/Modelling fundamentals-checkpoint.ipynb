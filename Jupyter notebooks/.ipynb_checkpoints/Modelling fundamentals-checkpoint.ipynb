{
 "cells": [
  {
   "cell_type": "markdown",
   "id": "4b86a823",
   "metadata": {},
   "source": [
    "## Setup\n",
    "\n",
    "First we need to load all the functions and data types that make up the model:"
   ]
  },
  {
   "cell_type": "code",
   "execution_count": 1,
   "id": "7c804966",
   "metadata": {},
   "outputs": [
    {
     "name": "stdout",
     "output_type": "stream",
     "text": [
      "Plausibility check ok? true\n",
      "Plausibility check ok? true\n",
      "Plausibility check ok? true\n",
      "Plausibility check ok? true\n",
      "Plausibility check ok? true\n",
      "Plausibility check ok? true\n"
     ]
    }
   ],
   "source": [
    "cd(dirname(pwd()))\n",
    "include(\"Code\\\\new model v9.jl\");"
   ]
  },
  {
   "cell_type": "markdown",
   "id": "5d4b73c4",
   "metadata": {},
   "source": [
    "## Introduction\n",
    "\n",
    "It is assumed that you had a look already at the \"Introduction\" notebook and know about parameter setting, creation of populations, running of timecourses and plotting."
   ]
  },
  {
   "cell_type": "markdown",
   "id": "670dded6",
   "metadata": {},
   "source": [
    "## 1. Populations and genotypes\n",
    "\n",
    "The fundamental data type in the model is a genotype vector. This is a vector that describes how frequent different genotypes are at a given time point within a population. Since our model can capture up to 1071 genotypes, this is a 1071 element long vector:"
   ]
  },
  {
   "cell_type": "code",
   "execution_count": 2,
   "id": "c9c205c3",
   "metadata": {},
   "outputs": [
    {
     "data": {
      "text/plain": [
       "1071"
      ]
     },
     "execution_count": 2,
     "metadata": {},
     "output_type": "execute_result"
    }
   ],
   "source": [
    "length(genotype_standard)"
   ]
  },
  {
   "cell_type": "markdown",
   "id": "17b535f8",
   "metadata": {},
   "source": [
    "To see which genotypes these are go to the figure in SI1A or have a look at the beginning of the model code where they are described in detail. Just briefly, there are 5 Y variants:"
   ]
  },
  {
   "cell_type": "code",
   "execution_count": 3,
   "id": "5a746c7d",
   "metadata": {},
   "outputs": [
    {
     "data": {
      "text/plain": [
       "5-element Vector{String}:\n",
       " \"Y1\"\n",
       " \"Y2\"\n",
       " \"Y3\"\n",
       " \"Y4\"\n",
       " \"Y5\""
      ]
     },
     "execution_count": 3,
     "metadata": {},
     "output_type": "execute_result"
    }
   ],
   "source": [
    "Y_variants"
   ]
  },
  {
   "cell_type": "code",
   "execution_count": 4,
   "id": "93c36435",
   "metadata": {},
   "outputs": [],
   "source": [
    "# Y1 = fully WT Y chromosome\n",
    "# Y2 = fully functional YLE (Y-linked editor) (functional Cas9 + gRNA1)\n",
    "# Y3 = functional Cas9, dysfunctional gRNA1\n",
    "# Y4 = dysfunctional Cas9, functional gRNA1\n",
    "# Y5 = fully dysfunctional YLE"
   ]
  },
  {
   "cell_type": "markdown",
   "id": "bb3558c6",
   "metadata": {},
   "source": [
    "6 X variants:"
   ]
  },
  {
   "cell_type": "code",
   "execution_count": 5,
   "id": "9af61042",
   "metadata": {},
   "outputs": [
    {
     "data": {
      "text/plain": [
       "6-element Vector{String}:\n",
       " \"X1\"\n",
       " \"X2\"\n",
       " \"X3\"\n",
       " \"X4\"\n",
       " \"X5\"\n",
       " \"X6\""
      ]
     },
     "execution_count": 5,
     "metadata": {},
     "output_type": "execute_result"
    }
   ],
   "source": [
    "X_variants"
   ]
  },
  {
   "cell_type": "code",
   "execution_count": 6,
   "id": "c509b44b",
   "metadata": {},
   "outputs": [],
   "source": [
    "#X1 = WT\n",
    "#X2 = shredding resistant\n",
    "#X3 = edited\n",
    "#X4 = edited, shredding resistant\n",
    "#X5 = editing resistant\n",
    "#X6 = editing resistant, shredding resistant"
   ]
  },
  {
   "cell_type": "markdown",
   "id": "049954ec",
   "metadata": {},
   "source": [
    "6 autosome variants:"
   ]
  },
  {
   "cell_type": "code",
   "execution_count": 7,
   "id": "682e23eb",
   "metadata": {
    "scrolled": true
   },
   "outputs": [
    {
     "data": {
      "text/plain": [
       "6-element Vector{String}:\n",
       " \"A1\"\n",
       " \"A2\"\n",
       " \"A3\"\n",
       " \"A4\"\n",
       " \"A5\"\n",
       " \"A6\""
      ]
     },
     "execution_count": 7,
     "metadata": {},
     "output_type": "execute_result"
    }
   ],
   "source": [
    "A_variants"
   ]
  },
  {
   "cell_type": "code",
   "execution_count": 8,
   "id": "5baed483",
   "metadata": {},
   "outputs": [],
   "source": [
    "# A1 = wt\n",
    "# A2 = fully functional X-shredder (functional X-shredder + gRNA2)\n",
    "# A3 = functional shredder, dysfunctional gRNA2\n",
    "# A4 = dysfunctional shredder, functional gRNA2\n",
    "# A5 = fully dysfunctional X-shredder\n",
    "# A6 = wt but homing resistant"
   ]
  },
  {
   "cell_type": "markdown",
   "id": "ba310a3c",
   "metadata": {},
   "source": [
    "And every of these chromosome variants is represented by a string that defines which alleles exist on it. For example, there are 2 loci on the Y:"
   ]
  },
  {
   "cell_type": "code",
   "execution_count": 9,
   "id": "1284a19c",
   "metadata": {},
   "outputs": [],
   "source": [
    "#Y Chromosome locus 1\n",
    "A_alleles = [\"A\",\"α\"];\n",
    "#a = wt (added later)\n",
    "#A = Cas9\n",
    "#α  = dysfunctional Cas9\n",
    "\n",
    "#Y Chromosome locus 2\n",
    "B_alleles = [\"B\",\"β\"];\n",
    "#b = wt (added later)\n",
    "#B = gRNA1\n",
    "#β =  dysfunctional gRNA1"
   ]
  },
  {
   "cell_type": "markdown",
   "id": "8b520dda",
   "metadata": {},
   "source": [
    "Which gives the above mentioned 5 unique combinations of:"
   ]
  },
  {
   "cell_type": "code",
   "execution_count": 10,
   "id": "f7ab99af",
   "metadata": {},
   "outputs": [
    {
     "data": {
      "text/plain": [
       "5-element Vector{Any}:\n",
       " \"ab\"\n",
       " \"AB\"\n",
       " \"Aβ\"\n",
       " \"αB\"\n",
       " \"αβ\""
      ]
     },
     "execution_count": 10,
     "metadata": {},
     "output_type": "execute_result"
    }
   ],
   "source": [
    "Y_chromosomes"
   ]
  },
  {
   "cell_type": "markdown",
   "id": "2ab9712e",
   "metadata": {},
   "source": [
    "All combinations together lead to the 1071 genotypes:"
   ]
  },
  {
   "cell_type": "code",
   "execution_count": 11,
   "id": "7c0ee099",
   "metadata": {},
   "outputs": [
    {
     "data": {
      "text/plain": [
       "1071-element Vector{Any}:\n",
       " [\"ab\" \"ef\" \"cd\" \"cd\"]\n",
       " [\"ab\" \"ef\" \"cd\" \"CD\"]\n",
       " [\"ab\" \"ef\" \"cd\" \"Cδ\"]\n",
       " [\"ab\" \"ef\" \"cd\" \"ζD\"]\n",
       " [\"ab\" \"ef\" \"cd\" \"ζδ\"]\n",
       " [\"ab\" \"ef\" \"cd\" \"r3\"]\n",
       " [\"ab\" \"ef\" \"CD\" \"CD\"]\n",
       " [\"ab\" \"ef\" \"CD\" \"Cδ\"]\n",
       " [\"ab\" \"ef\" \"CD\" \"ζD\"]\n",
       " [\"ab\" \"ef\" \"CD\" \"ζδ\"]\n",
       " [\"ab\" \"ef\" \"CD\" \"r3\"]\n",
       " [\"ab\" \"ef\" \"Cδ\" \"Cδ\"]\n",
       " [\"ab\" \"ef\" \"Cδ\" \"ζD\"]\n",
       " ⋮\n",
       " [\"r1r2\" \"r1r2\" \"CD\" \"ζδ\"]\n",
       " [\"r1r2\" \"r1r2\" \"CD\" \"r3\"]\n",
       " [\"r1r2\" \"r1r2\" \"Cδ\" \"Cδ\"]\n",
       " [\"r1r2\" \"r1r2\" \"Cδ\" \"ζD\"]\n",
       " [\"r1r2\" \"r1r2\" \"Cδ\" \"ζδ\"]\n",
       " [\"r1r2\" \"r1r2\" \"Cδ\" \"r3\"]\n",
       " [\"r1r2\" \"r1r2\" \"ζD\" \"ζD\"]\n",
       " [\"r1r2\" \"r1r2\" \"ζD\" \"ζδ\"]\n",
       " [\"r1r2\" \"r1r2\" \"ζD\" \"r3\"]\n",
       " [\"r1r2\" \"r1r2\" \"ζδ\" \"ζδ\"]\n",
       " [\"r1r2\" \"r1r2\" \"ζδ\" \"r3\"]\n",
       " [\"r1r2\" \"r1r2\" \"r3\" \"r3\"]"
      ]
     },
     "execution_count": 11,
     "metadata": {},
     "output_type": "execute_result"
    }
   ],
   "source": [
    "genotypes_detailed"
   ]
  },
  {
   "cell_type": "markdown",
   "id": "b58e2dc8",
   "metadata": {},
   "source": [
    "## 2. Parameter values and matrices"
   ]
  },
  {
   "cell_type": "markdown",
   "id": "516bf8c6",
   "metadata": {},
   "source": [
    "Parameter values are stored together in a dictionary and there can be an arbitrary amount of parameter sets. The currently used one is stored in \"current_Parameters\":"
   ]
  },
  {
   "cell_type": "code",
   "execution_count": 12,
   "id": "4e581a6c",
   "metadata": {},
   "outputs": [
    {
     "data": {
      "text/plain": [
       "Dict{String, BigFloat} with 22 entries:\n",
       "  \"s_f\"   => 1.0\n",
       "  \"s_m\"   => 0.0\n",
       "  \"c\"     => 1.0\n",
       "  \"Rm\"    => 6.0\n",
       "  \"h_e\"   => 1.0\n",
       "  \"m_1\"   => 0.0\n",
       "  \"m_2\"   => 0.0\n",
       "  \"r\"     => 0.5\n",
       "  \"h_f\"   => 1.0\n",
       "  \"s_e\"   => 0.0\n",
       "  \"e_h\"   => 0.953\n",
       "  \"s_c\"   => 0.0\n",
       "  \"e_s\"   => 0.947368\n",
       "  \"theta\" => 0.1\n",
       "  \"h_e2\"  => 1.0\n",
       "  \"s_a\"   => 0.0\n",
       "  \"e_e\"   => 0.95\n",
       "  \"er_1\"  => 0.0\n",
       "  \"s_d\"   => 0.0\n",
       "  \"s_b\"   => 0.0\n",
       "  \"er_2\"  => 0.0\n",
       "  \"er_3\"  => 0.0"
      ]
     },
     "execution_count": 12,
     "metadata": {},
     "output_type": "execute_result"
    }
   ],
   "source": [
    "current_Parameters"
   ]
  },
  {
   "cell_type": "markdown",
   "id": "dcbff8e0",
   "metadata": {},
   "source": [
    "But simulations are not performed using the parameter values themselves directly, but using matrices that describe how the different biological processes affect the genetic composition of a population. These tables are stored in \"current_matrices\":"
   ]
  },
  {
   "cell_type": "code",
   "execution_count": 13,
   "id": "4c51c74c",
   "metadata": {},
   "outputs": [
    {
     "data": {
      "text/plain": [
       "Dict{String, Matrix} with 7 entries:\n",
       "  \"selection_matrix\"     => BigFloat[1.0; 1.0; … ; 1.0; 1.0;;]\n",
       "  \"homing_matrix\"        => Any[1.0 0.0 … 0.0 0.0; 0.0 1.0 … 0.0 0.0; … ; 0.0 0…\n",
       "  \"mutation_matrix\"      => Any[1.0 0.0 … 0.0 0.0; 0.0 1.0 … 0.0 0.0; … ; 0.0 0…\n",
       "  \"egg_matrix\"           => Any[0.0 0.0 … 0.0 0.0; 0.0 0.0 … 0.0 0.0; … ; 0.0 0…\n",
       "  \"recombination_matrix\" => Any[1.0 0.0 … 0.0 0.0; 0.0 1.0 … 0.0 0.0; … ; 0.0 0…\n",
       "  \"sperm_matrix\"         => Any[0.5 0.0 … 0.0 0.0; 0.475 0.475 … 0.0 0.0; … ; 0…\n",
       "  \"editing_matrix\"       => Any[1.0 0.0 … 0.0 0.0; 0.0 1.0 … 0.0 0.0; … ; 0.0 0…"
      ]
     },
     "execution_count": 13,
     "metadata": {},
     "output_type": "execute_result"
    }
   ],
   "source": [
    "current_matrices"
   ]
  },
  {
   "cell_type": "markdown",
   "id": "5d7d6b1f",
   "metadata": {},
   "source": [
    "There are 7 matrices describing the processes of selection, homing, mutation, sperm and egg formation, editing and recombination.\n",
    "\n",
    "Basically these matrices describe how a biological process is changing the composition of the population. This is why most of them have the size 1071x1071. Because they define for every genotype how much of that genotype is converted to any of the other genotypes:"
   ]
  },
  {
   "cell_type": "code",
   "execution_count": 14,
   "id": "3110165d",
   "metadata": {},
   "outputs": [
    {
     "data": {
      "text/plain": [
       "1071×1071 Matrix{Any}:\n",
       " 1.0  0.0  0.0  0.0  0.0  0.0  0.0  0.0  …  0.0  0.0  0.0  0.0  0.0  0.0  0.0\n",
       " 0.0  1.0  0.0  0.0  0.0  0.0  0.0  0.0     0.0  0.0  0.0  0.0  0.0  0.0  0.0\n",
       " 0.0  0.0  1.0  0.0  0.0  0.0  0.0  0.0     0.0  0.0  0.0  0.0  0.0  0.0  0.0\n",
       " 0.0  0.0  0.0  1.0  0.0  0.0  0.0  0.0     0.0  0.0  0.0  0.0  0.0  0.0  0.0\n",
       " 0.0  0.0  0.0  0.0  1.0  0.0  0.0  0.0     0.0  0.0  0.0  0.0  0.0  0.0  0.0\n",
       " 0.0  0.0  0.0  0.0  0.0  1.0  0.0  0.0  …  0.0  0.0  0.0  0.0  0.0  0.0  0.0\n",
       " 0.0  0.0  0.0  0.0  0.0  0.0  1.0  0.0     0.0  0.0  0.0  0.0  0.0  0.0  0.0\n",
       " 0.0  0.0  0.0  0.0  0.0  0.0  0.0  1.0     0.0  0.0  0.0  0.0  0.0  0.0  0.0\n",
       " 0.0  0.0  0.0  0.0  0.0  0.0  0.0  0.0     0.0  0.0  0.0  0.0  0.0  0.0  0.0\n",
       " 0.0  0.0  0.0  0.0  0.0  0.0  0.0  0.0     0.0  0.0  0.0  0.0  0.0  0.0  0.0\n",
       " 0.0  0.0  0.0  0.0  0.0  0.0  0.0  0.0  …  0.0  0.0  0.0  0.0  0.0  0.0  0.0\n",
       " 0.0  0.0  0.0  0.0  0.0  0.0  0.0  0.0     0.0  0.0  0.0  0.0  0.0  0.0  0.0\n",
       " 0.0  0.0  0.0  0.0  0.0  0.0  0.0  0.0     0.0  0.0  0.0  0.0  0.0  0.0  0.0\n",
       " ⋮                        ⋮              ⋱       ⋮                        ⋮\n",
       " 0.0  0.0  0.0  0.0  0.0  0.0  0.0  0.0     0.0  0.0  0.0  0.0  0.0  0.0  0.0\n",
       " 0.0  0.0  0.0  0.0  0.0  0.0  0.0  0.0  …  0.0  0.0  0.0  0.0  0.0  0.0  0.0\n",
       " 0.0  0.0  0.0  0.0  0.0  0.0  0.0  0.0     0.0  0.0  0.0  0.0  0.0  0.0  0.0\n",
       " 0.0  0.0  0.0  0.0  0.0  0.0  0.0  0.0     0.0  0.0  0.0  0.0  0.0  0.0  0.0\n",
       " 0.0  0.0  0.0  0.0  0.0  0.0  0.0  0.0     0.0  0.0  0.0  0.0  0.0  0.0  0.0\n",
       " 0.0  0.0  0.0  0.0  0.0  0.0  0.0  0.0     1.0  0.0  0.0  0.0  0.0  0.0  0.0\n",
       " 0.0  0.0  0.0  0.0  0.0  0.0  0.0  0.0  …  0.0  1.0  0.0  0.0  0.0  0.0  0.0\n",
       " 0.0  0.0  0.0  0.0  0.0  0.0  0.0  0.0     0.0  0.0  1.0  0.0  0.0  0.0  0.0\n",
       " 0.0  0.0  0.0  0.0  0.0  0.0  0.0  0.0     0.0  0.0  0.0  1.0  0.0  0.0  0.0\n",
       " 0.0  0.0  0.0  0.0  0.0  0.0  0.0  0.0     0.0  0.0  0.0  0.0  1.0  0.0  0.0\n",
       " 0.0  0.0  0.0  0.0  0.0  0.0  0.0  0.0     0.0  0.0  0.0  0.0  0.0  1.0  0.0\n",
       " 0.0  0.0  0.0  0.0  0.0  0.0  0.0  0.0  …  0.0  0.0  0.0  0.0  0.0  0.0  1.0"
      ]
     },
     "execution_count": 14,
     "metadata": {},
     "output_type": "execute_result"
    }
   ],
   "source": [
    "current_matrices[\"homing_matrix\"]"
   ]
  },
  {
   "cell_type": "markdown",
   "id": "5ecedbca",
   "metadata": {},
   "source": [
    "For many entries in the homing matrix we see that there are unity values. This means that those genotypes are not affected by the corresponding process. For example, the first line represents fully wild-type individuals. So regardless how efficient homing occurs, the frequency of those individuals is not affected by homing."
   ]
  },
  {
   "cell_type": "markdown",
   "id": "94b26a0d",
   "metadata": {},
   "source": [
    "These matrices exist in 2 forms. Firstly, there is the numeric representation that is used for simulation and stored in \"current matrices\". But then secondly, there is also a symbolic representation of the matrices that defines how the values are calculated:"
   ]
  },
  {
   "cell_type": "code",
   "execution_count": 15,
   "id": "6ce4da11",
   "metadata": {},
   "outputs": [
    {
     "data": {
      "text/latex": [
       "$\\left[ \\begin{array}{rrrrrrrrrrrrrrrrrrrr}0.5&0.0&0.0&0.0&0.0&0.0&0.0&0.0&0.0&0.0&0.0&0.0&0.0&0.0&0.0&0.0&0.0&0.0&0.0&0.0\\\\\\frac{1}{- 2 c e_{s} h_{e2} \\cdot \\left(1 - er_{2}\\right) + 4}&\\frac{1}{- 2 c e_{s} h_{e2} \\cdot \\left(1 - er_{2}\\right) + 4}&0.0&0.0&0.0&0.0&0.0&0.0&0.0&0.0&0.0&0.0&0.0&0.0&0.0&0.0&0.0&0.0&0.0&0.0\\\\\\frac{1}{- 2 c e_{s} h_{e2} \\cdot \\left(1 - er_{2}\\right) + 4}&0.0&\\frac{1}{- 2 c e_{s} h_{e2} \\cdot \\left(1 - er_{2}\\right) + 4}&0.0&0.0&0.0&0.0&0.0&0.0&0.0&0.0&0.0&0.0&0.0&0.0&0.0&0.0&0.0&0.0&0.0\\\\0.25&0.0&0.0&0.25&0.0&0.0&0.0&0.0&0.0&0.0&0.0&0.0&0.0&0.0&0.0&0.0&0.0&0.0&0.0&0.0\\\\0.25&0.0&0.0&0.0&0.25&0.0&0.0&0.0&0.0&0.0&0.0&0.0&0.0&0.0&0.0&0.0&0.0&0.0&0.0&0.0\\\\0.25&0.0&0.0&0.0&0.0&0.25&0.0&0.0&0.0&0.0&0.0&0.0&0.0&0.0&0.0&0.0&0.0&0.0&0.0&0.0\\\\0.0&\\frac{2}{- 2 c e_{s} \\left(1 - er_{2}\\right) + 4}&0.0&0.0&0.0&0.0&0.0&0.0&0.0&0.0&0.0&0.0&0.0&0.0&0.0&0.0&0.0&0.0&0.0&0.0\\\\0.0&\\frac{1}{- 2 c e_{s} \\left(1 - er_{2}\\right) + 4}&\\frac{1}{- 2 c e_{s} \\left(1 - er_{2}\\right) + 4}&0.0&0.0&0.0&0.0&0.0&0.0&0.0&0.0&0.0&0.0&0.0&0.0&0.0&0.0&0.0&0.0&0.0\\\\0.0&\\frac{1}{- 2 c e_{s} h_{e2} \\cdot \\left(1 - er_{2}\\right) + 4}&0.0&\\frac{1}{- 2 c e_{s} h_{e2} \\cdot \\left(1 - er_{2}\\right) + 4}&0.0&0.0&0.0&0.0&0.0&0.0&0.0&0.0&0.0&0.0&0.0&0.0&0.0&0.0&0.0&0.0\\\\0.0&\\frac{1}{- 2 c e_{s} h_{e2} \\cdot \\left(1 - er_{2}\\right) + 4}&0.0&0.0&\\frac{1}{- 2 c e_{s} h_{e2} \\cdot \\left(1 - er_{2}\\right) + 4}&0.0&0.0&0.0&0.0&0.0&0.0&0.0&0.0&0.0&0.0&0.0&0.0&0.0&0.0&0.0\\\\0.0&\\frac{1}{- 2 c e_{s} h_{e2} \\cdot \\left(1 - er_{2}\\right) + 4}&0.0&0.0&0.0&\\frac{1}{- 2 c e_{s} h_{e2} \\cdot \\left(1 - er_{2}\\right) + 4}&0.0&0.0&0.0&0.0&0.0&0.0&0.0&0.0&0.0&0.0&0.0&0.0&0.0&0.0\\\\0.0&0.0&\\frac{2}{- 2 c e_{s} \\left(1 - er_{2}\\right) + 4}&0.0&0.0&0.0&0.0&0.0&0.0&0.0&0.0&0.0&0.0&0.0&0.0&0.0&0.0&0.0&0.0&0.0\\\\0.0&0.0&\\frac{1}{- 2 c e_{s} h_{e2} \\cdot \\left(1 - er_{2}\\right) + 4}&\\frac{1}{- 2 c e_{s} h_{e2} \\cdot \\left(1 - er_{2}\\right) + 4}&0.0&0.0&0.0&0.0&0.0&0.0&0.0&0.0&0.0&0.0&0.0&0.0&0.0&0.0&0.0&0.0\\\\0.0&0.0&\\frac{1}{- 2 c e_{s} h_{e2} \\cdot \\left(1 - er_{2}\\right) + 4}&0.0&\\frac{1}{- 2 c e_{s} h_{e2} \\cdot \\left(1 - er_{2}\\right) + 4}&0.0&0.0&0.0&0.0&0.0&0.0&0.0&0.0&0.0&0.0&0.0&0.0&0.0&0.0&0.0\\\\0.0&0.0&\\frac{1}{- 2 c e_{s} h_{e2} \\cdot \\left(1 - er_{2}\\right) + 4}&0.0&0.0&\\frac{1}{- 2 c e_{s} h_{e2} \\cdot \\left(1 - er_{2}\\right) + 4}&0.0&0.0&0.0&0.0&0.0&0.0&0.0&0.0&0.0&0.0&0.0&0.0&0.0&0.0\\\\0.0&0.0&0.0&0.5&0.0&0.0&0.0&0.0&0.0&0.0&0.0&0.0&0.0&0.0&0.0&0.0&0.0&0.0&0.0&0.0\\\\0.0&0.0&0.0&0.25&0.25&0.0&0.0&0.0&0.0&0.0&0.0&0.0&0.0&0.0&0.0&0.0&0.0&0.0&0.0&0.0\\\\0.0&0.0&0.0&0.25&0.0&0.25&0.0&0.0&0.0&0.0&0.0&0.0&0.0&0.0&0.0&0.0&0.0&0.0&0.0&0.0\\\\0.0&0.0&0.0&0.0&0.5&0.0&0.0&0.0&0.0&0.0&0.0&0.0&0.0&0.0&0.0&0.0&0.0&0.0&0.0&0.0\\\\0.0&0.0&0.0&0.0&0.25&0.25&0.0&0.0&0.0&0.0&0.0&0.0&0.0&0.0&0.0&0.0&0.0&0.0&0.0&0.0\\end{array}\\right]$\n"
      ],
      "text/plain": [
       "20×20 Matrix{Sym}:\n",
       "                0.500000000000000  …  0.0  0.0  0.0  0.0  0.0  0.0  0.0\n",
       " 1/(-2*c*e_s*h_e2*(1 - er_2) + 4)     0.0  0.0  0.0  0.0  0.0  0.0  0.0\n",
       " 1/(-2*c*e_s*h_e2*(1 - er_2) + 4)     0.0  0.0  0.0  0.0  0.0  0.0  0.0\n",
       "                0.250000000000000     0.0  0.0  0.0  0.0  0.0  0.0  0.0\n",
       "                0.250000000000000     0.0  0.0  0.0  0.0  0.0  0.0  0.0\n",
       "                0.250000000000000  …  0.0  0.0  0.0  0.0  0.0  0.0  0.0\n",
       "                              0.0     0.0  0.0  0.0  0.0  0.0  0.0  0.0\n",
       "                              0.0     0.0  0.0  0.0  0.0  0.0  0.0  0.0\n",
       "                              0.0     0.0  0.0  0.0  0.0  0.0  0.0  0.0\n",
       "                              0.0     0.0  0.0  0.0  0.0  0.0  0.0  0.0\n",
       "                              0.0  …  0.0  0.0  0.0  0.0  0.0  0.0  0.0\n",
       "                              0.0     0.0  0.0  0.0  0.0  0.0  0.0  0.0\n",
       "                              0.0     0.0  0.0  0.0  0.0  0.0  0.0  0.0\n",
       "                              0.0     0.0  0.0  0.0  0.0  0.0  0.0  0.0\n",
       "                              0.0     0.0  0.0  0.0  0.0  0.0  0.0  0.0\n",
       "                              0.0  …  0.0  0.0  0.0  0.0  0.0  0.0  0.0\n",
       "                              0.0     0.0  0.0  0.0  0.0  0.0  0.0  0.0\n",
       "                              0.0     0.0  0.0  0.0  0.0  0.0  0.0  0.0\n",
       "                              0.0     0.0  0.0  0.0  0.0  0.0  0.0  0.0\n",
       "                              0.0     0.0  0.0  0.0  0.0  0.0  0.0  0.0"
      ]
     },
     "execution_count": 15,
     "metadata": {},
     "output_type": "execute_result"
    }
   ],
   "source": [
    "sperm_matrix[1:20, 1:20]"
   ]
  },
  {
   "cell_type": "markdown",
   "id": "4a0941eb",
   "metadata": {},
   "source": [
    "The rules for how these matrices are build is defined in the model code as functions. For example \"create_homing_matrix\":"
   ]
  },
  {
   "cell_type": "code",
   "execution_count": 16,
   "id": "145638e5",
   "metadata": {},
   "outputs": [
    {
     "data": {
      "text/plain": [
       "create_selection_matrix (generic function with 1 method)"
      ]
     },
     "execution_count": 16,
     "metadata": {},
     "output_type": "execute_result"
    }
   ],
   "source": [
    "create_selection_matrix"
   ]
  },
  {
   "cell_type": "markdown",
   "id": "9b1829cf",
   "metadata": {},
   "source": [
    "Further, this explains what it means to apply a parameter set. Namely, it means to plug the provided numeric parameter values into the symbolic matrices to calculate actual numeric tables that can be applied to genotype vectors."
   ]
  },
  {
   "cell_type": "markdown",
   "id": "14f4c4b3",
   "metadata": {},
   "source": [
    "## 3. Simulating"
   ]
  },
  {
   "cell_type": "markdown",
   "id": "5e81ed81",
   "metadata": {},
   "source": [
    "This already explains the basic idea of what it means to simulate a time course. Fundamentally, this is nothing else but to take an intially provided population vector and apply the afore mentioned matrices over and over (once per generation) to this population vector to calculate how the population develops over time.\n",
    "\n",
    "This is exactly what the *timecourse()* function is doing fundamentally."
   ]
  },
  {
   "cell_type": "code",
   "execution_count": 17,
   "id": "dff9875b",
   "metadata": {},
   "outputs": [
    {
     "data": {
      "text/plain": [
       "timecourse (generic function with 1 method)"
      ]
     },
     "execution_count": 17,
     "metadata": {},
     "output_type": "execute_result"
    }
   ],
   "source": [
    "timecourse"
   ]
  },
  {
   "cell_type": "markdown",
   "id": "da747eca",
   "metadata": {},
   "source": [
    "The function it uses to apply tables to the population vector is called \"multiplication\" or \"multiplication_optimised\":"
   ]
  },
  {
   "cell_type": "code",
   "execution_count": 18,
   "id": "f12ceea0",
   "metadata": {},
   "outputs": [
    {
     "data": {
      "text/plain": [
       "multiplication_optimised (generic function with 1 method)"
      ]
     },
     "execution_count": 18,
     "metadata": {},
     "output_type": "execute_result"
    }
   ],
   "source": [
    "multiplication_optimised"
   ]
  },
  {
   "cell_type": "markdown",
   "id": "3c1b37d9",
   "metadata": {},
   "source": [
    "It might be interesting to know that the previously described tables contain many empty entries (ie 0 values), because most genotypes can only be converted to a few other genotypes. This means it would be computationally very wasteful to check every entry individually while performing simulations. For this reason there are so called helper objects, that are used in the simulation process to only compute those values that are not 0. For every genotype they define which positions in the table need to be considered:"
   ]
  },
  {
   "cell_type": "code",
   "execution_count": 19,
   "id": "e8d71a7e",
   "metadata": {},
   "outputs": [
    {
     "data": {
      "text/plain": [
       "10-element Vector{Any}:\n",
       " Any[1, 31]\n",
       " Any[1, 2, 31, 32, 37, 38]\n",
       " Any[1, 3, 31, 33, 37, 39]\n",
       " Any[1, 4, 31, 34]\n",
       " Any[1, 5, 31, 35]\n",
       " Any[1, 6, 31, 36]\n",
       " Any[2, 32, 38]\n",
       " Any[2, 3, 32, 33, 38, 39]\n",
       " Any[2, 4, 32, 34, 38, 40]\n",
       " Any[2, 5, 32, 35, 38, 41]"
      ]
     },
     "execution_count": 19,
     "metadata": {},
     "output_type": "execute_result"
    }
   ],
   "source": [
    "sperm_matrix_helper[1:10]"
   ]
  },
  {
   "cell_type": "markdown",
   "id": "0a5b2902",
   "metadata": {},
   "source": [
    "Using these helper objects or not is what makes the difference between \"multiplication\" and \"multiplication_optimised\"."
   ]
  },
  {
   "cell_type": "markdown",
   "id": "ce9f5f56",
   "metadata": {},
   "source": [
    "Finally, after a timecourse is simulated in a simulation/run object. This is again a dictionary that contains tables that describe how the population composition at the adult, zygote stage etc has developed over time."
   ]
  },
  {
   "cell_type": "code",
   "execution_count": 20,
   "id": "b857dcd3",
   "metadata": {},
   "outputs": [
    {
     "data": {
      "text/plain": [
       "Dict{String, Matrix{BigFloat}} with 5 entries:\n",
       "  \"genotypes\" => [1.0 0.999001 … 0.85858 0.763775; 0.0 0.0 … 0.000449697 0.0007…\n",
       "  \"wildtype\"  => [1.0 0.999001 … 0.858472 0.763595; 0.0 0.0 … 0.000341523 0.000…\n",
       "  \"eggs\"      => [0.0 0.0 … 0.0 0.0; 0.0 0.0 … 0.0 0.0; … ; 0.0 0.0 … 0.0 0.0; …\n",
       "  \"zygotes\"   => [0.0 59.9401 … 48.059 40.4614; 0.0 0.0 … 0.0251718 0.0394903; …\n",
       "  \"sperm\"     => [0.0 0.4995 … 0.435666 0.392478; 0.0 0.0 … 0.00011585 0.000195…"
      ]
     },
     "execution_count": 20,
     "metadata": {},
     "output_type": "execute_result"
    }
   ],
   "source": [
    "run = timecourse(10, genotype_standard)"
   ]
  },
  {
   "cell_type": "markdown",
   "id": "87906a6c",
   "metadata": {},
   "source": [
    "To store the results, the genotype vectors are concatenated horizontally, so that every column represents the results for a generation and in every row you find the frequency value of the corresponding genotype at that generation."
   ]
  },
  {
   "cell_type": "code",
   "execution_count": 21,
   "id": "a6153cfd",
   "metadata": {},
   "outputs": [
    {
     "data": {
      "text/plain": [
       "1071×11 Matrix{BigFloat}:\n",
       " 1.0  0.999001  0.997936     0.996096     …  0.85858      0.763775\n",
       " 0.0  0.0       2.43622e-06  8.03771e-06     0.000449697  0.000745443\n",
       " 0.0  0.0       0.0          0.0             0.0          0.0\n",
       " 0.0  0.0       0.0          0.0             0.0          0.0\n",
       " 0.0  0.0       0.0          0.0             0.0          0.0\n",
       " 0.0  0.0       0.0          0.0          …  0.0          0.0\n",
       " 0.0  0.0       0.0          1.32833e-11     5.88703e-08  1.8182e-07\n",
       " 0.0  0.0       0.0          0.0             0.0          0.0\n",
       " 0.0  0.0       0.0          0.0             0.0          0.0\n",
       " 0.0  0.0       0.0          0.0             0.0          0.0\n",
       " 0.0  0.0       0.0          0.0          …  0.0          0.0\n",
       " 0.0  0.0       0.0          0.0             0.0          0.0\n",
       " 0.0  0.0       0.0          0.0             0.0          0.0\n",
       " ⋮                                        ⋱               ⋮\n",
       " 0.0  0.0       0.0          0.0             0.0          0.0\n",
       " 0.0  0.0       0.0          0.0          …  0.0          0.0\n",
       " 0.0  0.0       0.0          0.0             0.0          0.0\n",
       " 0.0  0.0       0.0          0.0             0.0          0.0\n",
       " 0.0  0.0       0.0          0.0             0.0          0.0\n",
       " 0.0  0.0       0.0          0.0             0.0          0.0\n",
       " 0.0  0.0       0.0          0.0          …  0.0          0.0\n",
       " 0.0  0.0       0.0          0.0             0.0          0.0\n",
       " 0.0  0.0       0.0          0.0             0.0          0.0\n",
       " 0.0  0.0       0.0          0.0             0.0          0.0\n",
       " 0.0  0.0       0.0          0.0             0.0          0.0\n",
       " 0.0  0.0       0.0          0.0          …  0.0          0.0"
      ]
     },
     "execution_count": 21,
     "metadata": {},
     "output_type": "execute_result"
    }
   ],
   "source": [
    "run[\"genotypes\"]"
   ]
  },
  {
   "cell_type": "markdown",
   "id": "48cdaa57",
   "metadata": {},
   "source": [
    "## 4. The special case of sperm, eggs and zygotes"
   ]
  },
  {
   "cell_type": "markdown",
   "id": "33921af4",
   "metadata": {},
   "source": [
    "The production of sperm and eggs are a special case because there are not 1071 types of sperms or eggs. So the corresponding matrices are smaller:"
   ]
  },
  {
   "cell_type": "code",
   "execution_count": 22,
   "id": "c5f8dc63",
   "metadata": {},
   "outputs": [
    {
     "data": {
      "text/plain": [
       "1071×66 Matrix{Any}:\n",
       " 0.5    0.0    0.0    0.0    0.0    …  0.0  0.0  0.0  0.0  0.0  0.0  0.0\n",
       " 0.475  0.475  0.0    0.0    0.0       0.0  0.0  0.0  0.0  0.0  0.0  0.0\n",
       " 0.475  0.0    0.475  0.0    0.0       0.0  0.0  0.0  0.0  0.0  0.0  0.0\n",
       " 0.25   0.0    0.0    0.25   0.0       0.0  0.0  0.0  0.0  0.0  0.0  0.0\n",
       " 0.25   0.0    0.0    0.0    0.25      0.0  0.0  0.0  0.0  0.0  0.0  0.0\n",
       " 0.25   0.0    0.0    0.0    0.0    …  0.0  0.0  0.0  0.0  0.0  0.0  0.0\n",
       " 0.0    0.95   0.0    0.0    0.0       0.0  0.0  0.0  0.0  0.0  0.0  0.0\n",
       " 0.0    0.475  0.475  0.0    0.0       0.0  0.0  0.0  0.0  0.0  0.0  0.0\n",
       " 0.0    0.475  0.0    0.475  0.0       0.0  0.0  0.0  0.0  0.0  0.0  0.0\n",
       " 0.0    0.475  0.0    0.0    0.475     0.0  0.0  0.0  0.0  0.0  0.0  0.0\n",
       " 0.0    0.475  0.0    0.0    0.0    …  0.0  0.0  0.0  0.0  0.0  0.0  0.0\n",
       " 0.0    0.0    0.95   0.0    0.0       0.0  0.0  0.0  0.0  0.0  0.0  0.0\n",
       " 0.0    0.0    0.475  0.475  0.0       0.0  0.0  0.0  0.0  0.0  0.0  0.0\n",
       " ⋮                                  ⋱       ⋮                        ⋮\n",
       " 0.0    0.0    0.0    0.0    0.0       0.0  0.0  0.0  0.0  0.0  0.0  0.0\n",
       " 0.0    0.0    0.0    0.0    0.0    …  0.0  0.0  0.0  0.0  0.0  0.0  0.0\n",
       " 0.0    0.0    0.0    0.0    0.0       0.0  0.0  0.0  0.0  0.0  0.0  0.0\n",
       " 0.0    0.0    0.0    0.0    0.0       0.0  0.0  0.0  0.0  0.0  0.0  0.0\n",
       " 0.0    0.0    0.0    0.0    0.0       0.0  0.0  0.0  0.0  0.0  0.0  0.0\n",
       " 0.0    0.0    0.0    0.0    0.0       0.0  0.0  0.0  0.0  0.0  0.0  0.0\n",
       " 0.0    0.0    0.0    0.0    0.0    …  0.0  0.0  0.0  0.0  0.0  0.0  0.0\n",
       " 0.0    0.0    0.0    0.0    0.0       0.0  0.0  0.0  0.0  0.0  0.0  0.0\n",
       " 0.0    0.0    0.0    0.0    0.0       0.0  0.0  0.0  0.0  0.0  0.0  0.0\n",
       " 0.0    0.0    0.0    0.0    0.0       0.0  0.0  0.0  0.0  0.0  0.0  0.0\n",
       " 0.0    0.0    0.0    0.0    0.0       0.0  0.0  0.0  0.0  0.0  0.0  0.0\n",
       " 0.0    0.0    0.0    0.0    0.0    …  0.0  0.0  0.0  0.0  0.0  0.0  0.0"
      ]
     },
     "execution_count": 22,
     "metadata": {},
     "output_type": "execute_result"
    }
   ],
   "source": [
    "current_matrices[\"sperm_matrix\"]"
   ]
  },
  {
   "cell_type": "markdown",
   "id": "8195f70b",
   "metadata": {},
   "source": [
    "The function that then calculates which zygotes are produced from a given sperm and egg pool, is called \"create_zygote_vector\":"
   ]
  },
  {
   "cell_type": "code",
   "execution_count": 23,
   "id": "e8ea7ed4",
   "metadata": {},
   "outputs": [
    {
     "data": {
      "text/plain": [
       "create_zygote_vector (generic function with 1 method)"
      ]
     },
     "execution_count": 23,
     "metadata": {},
     "output_type": "execute_result"
    }
   ],
   "source": [
    "create_zygote_vector"
   ]
  },
  {
   "cell_type": "markdown",
   "id": "63006415",
   "metadata": {},
   "source": [
    "## Summary"
   ]
  },
  {
   "cell_type": "markdown",
   "id": "ea3aa53e",
   "metadata": {},
   "source": [
    "Vectors and matrices are the fundamental units that describe the population composition over time and the processes that affect it. If you want to see more precisely for example how the different tables are built, check out the model code itself in \"new model v9.jl\" (in the folder \"Code\")."
   ]
  }
 ],
 "metadata": {
  "kernelspec": {
   "display_name": "Julia 1.7.1",
   "language": "julia",
   "name": "julia-1.7"
  },
  "language_info": {
   "file_extension": ".jl",
   "mimetype": "application/julia",
   "name": "julia",
   "version": "1.7.1"
  },
  "varInspector": {
   "cols": {
    "lenName": 16,
    "lenType": 16,
    "lenVar": 40
   },
   "kernels_config": {
    "python": {
     "delete_cmd_postfix": "",
     "delete_cmd_prefix": "del ",
     "library": "var_list.py",
     "varRefreshCmd": "print(var_dic_list())"
    },
    "r": {
     "delete_cmd_postfix": ") ",
     "delete_cmd_prefix": "rm(",
     "library": "var_list.r",
     "varRefreshCmd": "cat(var_dic_list()) "
    }
   },
   "types_to_exclude": [
    "module",
    "function",
    "builtin_function_or_method",
    "instance",
    "_Feature"
   ],
   "window_display": false
  }
 },
 "nbformat": 4,
 "nbformat_minor": 5
}
