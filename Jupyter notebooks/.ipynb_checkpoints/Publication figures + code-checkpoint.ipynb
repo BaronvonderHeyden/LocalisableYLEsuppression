{
 "cells": [
  {
   "cell_type": "markdown",
   "metadata": {},
   "source": [
    "# Setup"
   ]
  },
  {
   "cell_type": "markdown",
   "metadata": {},
   "source": [
    "First we need to run all the functions and data types that make up the model:"
   ]
  },
  {
   "cell_type": "code",
   "execution_count": null,
   "metadata": {},
   "outputs": [],
   "source": [
    "cd(dirname(pwd()))\n",
    "include(\"Code\\\\new model v9.jl\");"
   ]
  },
  {
   "cell_type": "markdown",
   "metadata": {},
   "source": [
    "Then, we define the parameter values we want to use in our simulations:"
   ]
  },
  {
   "cell_type": "code",
   "execution_count": null,
   "metadata": {},
   "outputs": [],
   "source": [
    "new_baseline_parameters = deepcopy(Parameters_set_standard);\n",
    "\n",
    "\n",
    "#editing efficiency\n",
    "new_baseline_parameters[\"e_e\"] = 0.95;\n",
    "\n",
    "#shredding efficiency\n",
    "new_baseline_parameters[\"e_s\"] = 0.90;\n",
    "\n",
    "#shredding activity is perfectly dominant\n",
    "new_baseline_parameters[\"h_e2\"] = 1.0;\n",
    "\n",
    "#homing efficiency\n",
    "new_baseline_parameters[\"e_h\"] = 0.95;\n",
    "\n",
    "\n",
    "\n",
    "#no resistance occuring at target sites\n",
    "new_baseline_parameters[\"er_1\"] = 0.0;\n",
    "new_baseline_parameters[\"er_2\"] = 0.0;\n",
    "new_baseline_parameters[\"er_3\"] = 0.0;\n",
    "\n",
    "\n",
    "#no loss of function mutations\n",
    "new_baseline_parameters[\"m_1\"] = 0.0;\n",
    "new_baseline_parameters[\"m_2\"] = 0.0;\n",
    "\n",
    "\n",
    "#ideal intended fitness costs are perfect\n",
    "new_baseline_parameters[\"s_f\"] = 1.0;\n",
    "new_baseline_parameters[\"h_f\"] = 1.0;\n",
    "\n",
    "\n",
    "#no unintended fitness costs\n",
    "new_baseline_parameters[\"s_a\"] = 0.0;\n",
    "new_baseline_parameters[\"s_b\"] = 0.0;\n",
    "new_baseline_parameters[\"s_c\"] = 0.0;\n",
    "new_baseline_parameters[\"s_d\"] = 0.0;\n",
    "new_baseline_parameters[\"s_e\"] = 0.0;\n",
    "new_baseline_parameters[\"h_e\"] = 0.0;\n",
    "new_baseline_parameters[\"s_m\"] = 0.0;\n",
    "\n",
    "\n",
    "#recombination rate (of X-linked loci; ie editing gene and shredding target site)\n",
    "new_baseline_parameters[\"r\"] = 0.5\n",
    "\n",
    "\n",
    "#intrinsic rate of population increase of 6\n",
    "new_baseline_parameters[\"Rm\"] = 6\n",
    "\n",
    "\n",
    "\n",
    "#first we initiate a vector that represents a normal wild-type population (no resistances, no transgenes present)\n",
    "genotype_standard = generate_population();\n",
    "\n",
    "#then we will assume heterozygous releases (YLE (= \"AB\") and 1 ASD (= \"CD\")/1 wt autosome (=\"cd\")) are added into the population\n",
    "genotype_standard[return_i([\"AB\" \"ef\" \"CD\" \"cd\"], genotypes_detailed)] = BigFloat(\"0.001\");\n",
    "\n",
    "\n",
    "#for a better understanding of the symbolic representation of genetic elements please have a look \n",
    "#at the beginning of the model code in the model file (\"new model v9.jl\")\n",
    "#all types of alleles and chromosomes are listed there"
   ]
  },
  {
   "cell_type": "markdown",
   "metadata": {},
   "source": [
    "# What happens if constructs are released individually? (Sup Fig XXX)"
   ]
  },
  {
   "cell_type": "code",
   "execution_count": null,
   "metadata": {},
   "outputs": [],
   "source": [
    "#assume YLE released in population at 0.1%\n",
    "YLE_release = generate_population();\n",
    "YLE_release[return_i([\"AB\" \"ef\" \"cd\" \"cd\"], genotypes_detailed)] = BigFloat(\"0.001\");\n",
    "\n",
    "YLE_run1 = timecourse(5000, YLE_release)"
   ]
  },
  {
   "cell_type": "code",
   "execution_count": null,
   "metadata": {},
   "outputs": [],
   "source": [
    "SupFig1a = plot_run_comprehensive(YLE_run1, yle_total_bool = true, given_dpi = 300, given_size = (325,150))\n",
    "plot!(legend=false, ytickfontsize = 10, xtickfontsize = 10, yaxis=:log, ylims = (1e-7,1.5))\n",
    "YLE_run1 = nothing\n",
    "gc()\n",
    "\n",
    "savefig(\"Plots\\\\SupFig1a.svg\")\n",
    "\n",
    "SupFig1a"
   ]
  },
  {
   "cell_type": "markdown",
   "metadata": {},
   "source": [
    "Under ideal circumstances the YLE does not have much affect on population because it is so infrequent. It also does not disappear, as long as there is no fitness cost."
   ]
  },
  {
   "cell_type": "code",
   "execution_count": null,
   "metadata": {},
   "outputs": [],
   "source": [
    "#assume X-Shredder is released in population at 0.1%\n",
    "Shr_release = generate_population();\n",
    "Shr_release[return_i([\"ab\" \"ef\" \"CD\" \"cd\"], genotypes_detailed)] = BigFloat(\"0.001\");\n",
    "\n",
    "Shr_run1 = timecourse(5000, Shr_release)"
   ]
  },
  {
   "cell_type": "code",
   "execution_count": null,
   "metadata": {},
   "outputs": [],
   "source": [
    "SupFig1b = plot_run_comprehensive(Shr_run1, shredder_total_all_bool = true, given_dpi = 300, given_size = (325,150))\n",
    "plot!(legend=false, ytickfontsize = 10, xtickfontsize = 10, yaxis=:log, ylims = (1e-7,1.5))\n",
    "Shr_run1 = nothing\n",
    "gc()\n",
    "\n",
    "savefig(\"Plots\\\\SupFig1b.svg\")\n",
    "\n",
    "SupFig1b"
   ]
  },
  {
   "cell_type": "markdown",
   "metadata": {},
   "source": [
    "The X-Shredder would disappear even under ideal circumstances, because it is distorts the sex ratio to its own disadvantage.\n",
    "\n",
    "\n",
    "In reality there would be mutations and potentially even (small) fitness costs. Then both would disappear and much faster. Overall, the constructs themselves cannot spread or supress (relevantly) if they are released individually."
   ]
  },
  {
   "cell_type": "markdown",
   "metadata": {},
   "source": [
    "# Idealised release (Figure 2a)"
   ]
  },
  {
   "cell_type": "code",
   "execution_count": null,
   "metadata": {},
   "outputs": [],
   "source": [
    "apply_parameters_set(new_baseline_parameters);\n",
    "\n",
    "run_baseline_scenario = timecourse(150, genotype_standard);"
   ]
  },
  {
   "cell_type": "code",
   "execution_count": null,
   "metadata": {},
   "outputs": [],
   "source": [
    "newfig1a = plot_run_comprehensive(run_baseline_scenario, yle_total_bool = true, shredder_total_male_bool = true, correlation_bool = true,\n",
    "            given_dpi = 300, given_size = (325,150), dCas9_bool = true, dgRNA1_bool = true, dgRNA2_bool = true, \n",
    "            dshredder_bool = true, sexratio_bool = true, load_zygotes_bool2 = true)\n",
    "plot!(legend=false, ytickfontsize = 10, xtickfontsize = 10)\n",
    "\n",
    "savefig(newfig1a, \"Plots\\\\newfig1a.svg\")\n",
    "\n",
    "newfig1a"
   ]
  },
  {
   "cell_type": "code",
   "execution_count": null,
   "metadata": {},
   "outputs": [],
   "source": [
    "return_min_population_size_and_max_transgenic_freq(run_baseline_scenario)"
   ]
  },
  {
   "cell_type": "code",
   "execution_count": null,
   "metadata": {
    "scrolled": true
   },
   "outputs": [],
   "source": [
    "newfig1a = plot_run_comprehensive(run_baseline_scenario, yle_total_bool = false, shredder_total_male_bool = false, correlation_bool = false,\n",
    "            given_dpi = 300, given_size = (325,150), dCas9_bool = false, dgRNA1_bool = false, dgRNA2_bool = false, sexratio_bool = true,\n",
    "            dshredder_bool = false, load_easy_bool = false, load_demanding_bool = false, log_safe = true, load_zygotes_bool2 = true)\n",
    "plot!(legend=false, ytickfontsize = 10, xtickfontsize = 10)\n",
    "plot!(yaxis=:log, ylims = (1e-100, 15))"
   ]
  },
  {
   "cell_type": "markdown",
   "metadata": {},
   "source": [
    "# Idealised release in separate males (Figure 2b)"
   ]
  },
  {
   "cell_type": "code",
   "execution_count": null,
   "metadata": {},
   "outputs": [],
   "source": [
    "separate_release = generate_population();\n",
    "separate_release[return_i([\"AB\" \"ef\" \"cd\" \"cd\"], genotypes_detailed)] = 0.001;\n",
    "separate_release[return_i([\"ab\" \"ef\" \"CD\" \"cd\"], genotypes_detailed)] = 0.001;\n",
    "\n",
    "separte_run = timecourse(150, separate_release);"
   ]
  },
  {
   "cell_type": "code",
   "execution_count": null,
   "metadata": {},
   "outputs": [],
   "source": [
    "newfig1b = plot_run_comprehensive(separte_run, yle_total_bool = true, shredder_total_male_bool = true, correlation_bool = true,\n",
    "            given_dpi = 300, given_size = (325,150), dCas9_bool = true, dgRNA1_bool = true, dgRNA2_bool = true, \n",
    "            dshredder_bool = true, sexratio_bool = true, load_zygotes_bool2 = true)\n",
    "plot!(legend=false, ytickfontsize = 10, xtickfontsize = 10)\n",
    "\n",
    "savefig(newfig1b, \"Plots\\\\newfig1b.svg\")\n",
    "\n",
    "newfig1b"
   ]
  },
  {
   "cell_type": "code",
   "execution_count": null,
   "metadata": {},
   "outputs": [],
   "source": [
    "return_min_population_size_and_max_transgenic_freq(separte_run)"
   ]
  },
  {
   "cell_type": "markdown",
   "metadata": {},
   "source": [
    "# Allowing Loss-of-Function mutations (Figure 2c+d)"
   ]
  },
  {
   "cell_type": "code",
   "execution_count": null,
   "metadata": {},
   "outputs": [],
   "source": [
    "#now we turn mutations on\n",
    "mutations_parameters = deepcopy(new_baseline_parameters);\n",
    "\n",
    "\n",
    "#no mutation\n",
    "mutations_parameters[\"m_1\"] = 1e-3;\n",
    "mutations_parameters[\"m_2\"] = 1e-6;\n",
    "\n",
    "\n",
    "apply_parameters_set(mutations_parameters);"
   ]
  },
  {
   "cell_type": "code",
   "execution_count": null,
   "metadata": {},
   "outputs": [],
   "source": [
    "mutations_run = timecourse(150, genotype_standard);"
   ]
  },
  {
   "cell_type": "code",
   "execution_count": null,
   "metadata": {},
   "outputs": [],
   "source": [
    "newfig1c = plot_run_comprehensive(mutations_run, yle_total_bool = true, shredder_total_male_bool = true, correlation_bool = true,\n",
    "            given_dpi = 300, given_size = (325,150), dCas9_bool = true, dgRNA1_bool = true, dgRNA2_bool = true, \n",
    "            dshredder_bool = true, load_easy_bool = false, load_demanding_bool = false, print_load = false, sexratio_bool = true,\n",
    "            inverse_load_bool = true)\n",
    "plot!(legend=false, ytickfontsize = 10, xtickfontsize = 10)\n",
    "\n",
    "savefig(newfig1c, \"Plots\\\\newfig1c.svg\")\n",
    "\n",
    "newfig1c"
   ]
  },
  {
   "cell_type": "code",
   "execution_count": null,
   "metadata": {},
   "outputs": [],
   "source": [
    "return_min_population_size_and_max_transgenic_freq(mutations_run)"
   ]
  },
  {
   "cell_type": "code",
   "execution_count": null,
   "metadata": {
    "scrolled": true
   },
   "outputs": [],
   "source": [
    "plot_run_comprehensive(mutations_run, yle_total_bool = false, given_dpi = 300, given_size = (325,150),)\n",
    "plot!(legend=false, ytickfontsize = 10, xtickfontsize = 10)\n",
    "plot!(yaxis=:log, ylims = (1e-150, 2))"
   ]
  },
  {
   "cell_type": "code",
   "execution_count": null,
   "metadata": {},
   "outputs": [],
   "source": [
    "newfig1d = plot_run_comprehensive(mutations_run,\n",
    "            given_dpi = 300, given_size = (325,150), dCas9_bool = true, dgRNA1_bool = true, dgRNA2_bool = true, \n",
    "            dshredder_bool = true, log_safe = true)\n",
    "plot!(legend=false, ytickfontsize = 10, xtickfontsize = 10, yaxis=:log, ylims = (1e-8, 1.5), yticks = [1, 1e-2, 1e-4, 1e-6, 1e-8])\n",
    "\n",
    "savefig(newfig1d, \"Plots\\\\newfig1d.svg\")\n",
    "\n",
    "newfig1d"
   ]
  },
  {
   "cell_type": "markdown",
   "metadata": {},
   "source": [
    "## Including target site resistance (end-joining repair) (Figure 2e-g)"
   ]
  },
  {
   "cell_type": "code",
   "execution_count": null,
   "metadata": {},
   "outputs": [],
   "source": [
    "#we define parameter sets in which the specfici target site resitance (only) is allowed to occur\n",
    "er1_resistance_parameters = deepcopy(mutations_parameters);\n",
    "er2_resistance_parameters = deepcopy(mutations_parameters);\n",
    "er3_resistance_parameters = deepcopy(mutations_parameters);\n",
    "\n",
    "er1_resistance_parameters[\"er_1\"] = 0.05;\n",
    "er2_resistance_parameters[\"er_2\"] = 0.05;\n",
    "er3_resistance_parameters[\"er_3\"] = 0.05;"
   ]
  },
  {
   "cell_type": "markdown",
   "metadata": {},
   "source": [
    "(please excuse the reversed order of figure 2 e-g. this is due to editing resistance being defined as \"er_1\" in the model but then shown last in figure 2. therefore, we start with 2g.)"
   ]
  },
  {
   "cell_type": "markdown",
   "metadata": {},
   "source": [
    "## Figure 2g"
   ]
  },
  {
   "cell_type": "code",
   "execution_count": null,
   "metadata": {},
   "outputs": [],
   "source": [
    "#loading the first parameter set\n",
    "apply_parameters_set(er1_resistance_parameters);\n",
    "\n",
    "#performing timecourse simulation\n",
    "er1_run = timecourse(150, genotype_standard);"
   ]
  },
  {
   "cell_type": "code",
   "execution_count": null,
   "metadata": {},
   "outputs": [],
   "source": [
    "newfig1e = plot_run_comprehensive(er1_run, yle_total_bool = true, shredder_total_male_bool = true, correlation_bool = true,\n",
    "            given_dpi = 300, given_size = (350,150), dCas9_bool = true, dgRNA1_bool = true, dgRNA2_bool = true, \n",
    "            dshredder_bool = true, res1_bool = true, allfemales_log = true, second_y_log_lims = [1e-8, 1.5],\n",
    "            load_easy_bool = false, load_demanding_bool = false, print_load = false, sexratio_bool = true,\n",
    "            inverse_load_bool = true)\n",
    "plot!(legend=false, ytickfontsize = 10, xtickfontsize = 10)\n",
    "\n",
    "savefig(newfig1e, \"Plots\\\\newfig1g.svg\")\n",
    "\n",
    "newfig1e"
   ]
  },
  {
   "cell_type": "code",
   "execution_count": null,
   "metadata": {},
   "outputs": [],
   "source": [
    "return_min_population_size_and_max_transgenic_freq(er1_run)"
   ]
  },
  {
   "cell_type": "code",
   "execution_count": null,
   "metadata": {},
   "outputs": [],
   "source": [
    "plot_run_comprehensive(er1_run, yle_total_bool = false, shredder_total_male_bool = false, correlation_bool = false,\n",
    "            given_dpi = 300, given_size = (325,150), dCas9_bool = false, dgRNA1_bool = false, dgRNA2_bool = false, \n",
    "            dshredder_bool = false, log_safe = true)\n",
    "plot!(legend=false, ytickfontsize = 10, xtickfontsize = 10)\n",
    "plot!(yaxis=:log, ylims = (1e-4, 2))"
   ]
  },
  {
   "cell_type": "markdown",
   "metadata": {},
   "source": [
    "## Figure 2f"
   ]
  },
  {
   "cell_type": "code",
   "execution_count": null,
   "metadata": {},
   "outputs": [],
   "source": [
    "apply_parameters_set(er2_resistance_parameters);\n",
    "\n",
    "er2_run = timecourse(150, genotype_standard);"
   ]
  },
  {
   "cell_type": "code",
   "execution_count": null,
   "metadata": {},
   "outputs": [],
   "source": [
    "newfig1f =  plot_run_comprehensive(er2_run, yle_total_bool = true, shredder_total_male_bool = true, correlation_bool = true,\n",
    "            given_dpi = 300, given_size = (350,150), dCas9_bool = true, dgRNA1_bool = true, dgRNA2_bool = true, \n",
    "            dshredder_bool = true, res2_bool = true, allfemales_log = true, second_y_log_lims = [1e-8, 1.5],\n",
    "            load_easy_bool = false, load_demanding_bool = false, print_load = false, sexratio_bool = true,\n",
    "            inverse_load_bool = true)\n",
    "plot!(legend=false, ytickfontsize = 10, xtickfontsize = 10)\n",
    "\n",
    "\n",
    "savefig(newfig1f, \"Plots\\\\newfig1f.svg\")\n",
    "\n",
    "newfig1f"
   ]
  },
  {
   "cell_type": "code",
   "execution_count": null,
   "metadata": {},
   "outputs": [],
   "source": [
    "return_min_population_size_and_max_transgenic_freq(er2_run)"
   ]
  },
  {
   "cell_type": "code",
   "execution_count": null,
   "metadata": {},
   "outputs": [],
   "source": [
    "plot_run_comprehensive(er2_run, yle_total_bool = false, shredder_total_male_bool = false, correlation_bool = false,\n",
    "            given_dpi = 300, given_size = (325,150), dCas9_bool = false, dgRNA1_bool = false, dgRNA2_bool = false, \n",
    "            dshredder_bool = false, load_zygotes_bool2 = true, log_safe = true)\n",
    "plot!(legend=false, ytickfontsize = 10, xtickfontsize = 10)\n",
    "plot!(yaxis=:log, ylims = (1e-80, 10))"
   ]
  },
  {
   "cell_type": "markdown",
   "metadata": {},
   "source": [
    "# Figure 2e"
   ]
  },
  {
   "cell_type": "code",
   "execution_count": null,
   "metadata": {},
   "outputs": [],
   "source": [
    "apply_parameters_set(er3_resistance_parameters);\n",
    "\n",
    "er3_run = timecourse(150, genotype_standard);"
   ]
  },
  {
   "cell_type": "code",
   "execution_count": null,
   "metadata": {},
   "outputs": [],
   "source": [
    "newfig1g =  plot_run_comprehensive(er3_run, yle_total_bool = true, shredder_total_male_bool = true, correlation_bool = true,\n",
    "            given_dpi = 300, given_size = (350,150), dCas9_bool = true, dgRNA1_bool = true, dgRNA2_bool = true, \n",
    "            dshredder_bool = true, res3_bool = true, allfemales_log = true, second_y_log_lims = [1e-8, 1.5],\n",
    "            sexratio_bool = true, load_zygotes_bool2 = true)\n",
    "plot!(legend=false, ytickfontsize = 10, xtickfontsize = 10)\n",
    "\n",
    "savefig(newfig1g, \"Plots\\\\newfig1e.svg\")\n",
    "\n",
    "display(newfig1g)"
   ]
  },
  {
   "cell_type": "code",
   "execution_count": null,
   "metadata": {},
   "outputs": [],
   "source": [
    "return_min_population_size_and_max_transgenic_freq(er3_run)"
   ]
  },
  {
   "cell_type": "code",
   "execution_count": null,
   "metadata": {},
   "outputs": [],
   "source": [
    "plot_run_comprehensive(er3_run, yle_total_bool = false, shredder_total_male_bool = false, correlation_bool = false,\n",
    "            given_dpi = 300, given_size = (325,150), dCas9_bool = false, dgRNA1_bool = false, dgRNA2_bool = false, \n",
    "            dshredder_bool = false, load_zygotes_bool2 = true, log_safe = true)\n",
    "plot!(legend=false, ytickfontsize = 10, xtickfontsize = 10)\n",
    "plot!(yaxis=:log, ylims = (1e-80, 10))"
   ]
  },
  {
   "cell_type": "markdown",
   "metadata": {},
   "source": [
    "# Resistance parameter scans (Figure 3)"
   ]
  },
  {
   "cell_type": "markdown",
   "metadata": {},
   "source": [
    "This is the code for the scans, running it takes quite some time. The actual results as stored in csv files which can be read quickly to reproduce plots. "
   ]
  },
  {
   "cell_type": "code",
   "execution_count": null,
   "metadata": {},
   "outputs": [],
   "source": [
    "# er1 = Any[\"value\" \"sup\" \"dur\" \"Y\" \"S\"]\n",
    "# er2 = Any[\"value\" \"sup\" \"dur\" \"Y\" \"S\"]\n",
    "# er3 = Any[\"value\" \"sup\" \"dur\" \"Y\" \"S\"]\n",
    "\n",
    "\n",
    "# apply_parameters_set(Parameters_set_sensitivity2)\n",
    "\n",
    "# save_current_matrices = deepcopy(current_matrices)\n",
    "# save_current_Parameters = deepcopy(Parameters_set_sensitivity2)\n",
    "\n",
    "# current_matrices = deepcopy(save_current_matrices)\n",
    "# current_Parameters = deepcopy(save_current_Parameters)\n",
    "\n",
    "\n",
    "\n",
    "# for i in -6:0.05:0\n",
    "#     global er1\n",
    "#     current_Parameters[\"er_1\"] = 10^(i)\n",
    "\n",
    "#     editing_matrix0 = deepcopy(editing_matrix_num)\n",
    "\n",
    "#     for i in 1:length(editing_matrix[:,1])\n",
    "#         for j in editing_symbols[i]\n",
    "#             editing_matrix0[i,j] = BigFloat(float.(editing_matrix0[i,j].evalf(subs = current_Parameters, given_precision)))\n",
    "#         end\n",
    "#     end\n",
    "\n",
    "#     current_matrices[\"editing_matrix\"] = editing_matrix0\n",
    "#     sup, dur, Y, S = timecourse_parameterscan_comprehensive(150, genotype_standard)\n",
    "#     add = [i sup dur Y S]\n",
    "#     er1 = vcat(er1, add)\n",
    "\n",
    "# end\n",
    "\n",
    "# writedlm(\"er1_scan_005\",  er1, ',')\n",
    "\n",
    "\n",
    "\n",
    "# current_matrices = copy(save_current_matrices)\n",
    "# current_Parameters = deepcopy(save_current_Parameters)\n",
    "\n",
    "\n",
    "# for i in 0:0.01:1\n",
    "#     global er2\n",
    "#     current_Parameters[\"er_2\"] = i\n",
    "#     sperm_matrix0 = deepcopy(sperm_matrix_num)\n",
    "\n",
    "#     for i in 1:length(sperm_matrix[:,1])\n",
    "#         for j in sperm_symbols[i]\n",
    "#             sperm_matrix0[i,j] = BigFloat(float.(sperm_matrix0[i,j].evalf(subs = current_Parameters, given_precision)))\n",
    "#         end\n",
    "#     end\n",
    "#     current_matrices[\"sperm_matrix\"] = sperm_matrix0\n",
    "#     sup, dur, Y, S = timecourse_parameterscan_comprehensive(150, genotype_standard)\n",
    "#     add = [i sup dur Y S]\n",
    "#     er2 = vcat(er2, add)\n",
    "# end\n",
    "# writedlm(\"er2_scan_005\",  er2, ',')\n",
    "\n",
    "\n",
    "\n",
    "# #--------------------------------------\n",
    "# #--------------------------------------\n",
    "\n",
    "# er1 = Any[\"value\" \"sup\" \"dur\" \"Y\" \"S\"]\n",
    "# er2 = Any[\"value\" \"sup\" \"dur\" \"Y\" \"S\"]\n",
    "# er3 = Any[\"value\" \"sup\" \"dur\" \"Y\" \"S\"]\n",
    "\n",
    "\n",
    "\n",
    "# apply_parameters_set(Parameters_set_sensitivity3)\n",
    "# save_current_matrices = deepcopy(current_matrices)\n",
    "# save_current_Parameters = deepcopy(Parameters_set_sensitivity3)\n",
    "\n",
    "# current_matrices = deepcopy(save_current_matrices)\n",
    "# current_Parameters = deepcopy(save_current_Parameters)\n",
    "\n",
    "\n",
    "# for i in -6:0.05:0\n",
    "#     global er1\n",
    "#     current_Parameters[\"er_1\"] = 10^(i)\n",
    "\n",
    "#     editing_matrix0 = deepcopy(editing_matrix_num)\n",
    "\n",
    "#     for i in 1:length(editing_matrix[:,1])\n",
    "#         for j in editing_symbols[i]\n",
    "#             editing_matrix0[i,j] = BigFloat(float.(editing_matrix0[i,j].evalf(subs = current_Parameters, given_precision)))\n",
    "#         end\n",
    "#     end\n",
    "\n",
    "#     current_matrices[\"editing_matrix\"] = editing_matrix0\n",
    "#     sup, dur, Y, S = timecourse_parameterscan_comprehensive(150, genotype_standard)\n",
    "#     add = [i sup dur Y S]\n",
    "#     er1 = vcat(er1, add)\n",
    "\n",
    "# end\n",
    "\n",
    "# writedlm(\"er1_scan_06\",  er1, ',')\n",
    "\n",
    "\n",
    "\n",
    "# current_matrices = copy(save_current_matrices)\n",
    "# current_Parameters = deepcopy(save_current_Parameters)\n",
    "\n",
    "\n",
    "# for i in 0:0.01:1\n",
    "#     global er2\n",
    "#     current_Parameters[\"er_2\"] = i\n",
    "#     sperm_matrix0 = deepcopy(sperm_matrix_num)\n",
    "\n",
    "#     for i in 1:length(sperm_matrix[:,1])\n",
    "#         for j in sperm_symbols[i]\n",
    "#             sperm_matrix0[i,j] = BigFloat(float.(sperm_matrix0[i,j].evalf(subs = current_Parameters, given_precision)))\n",
    "#         end\n",
    "#     end\n",
    "#     current_matrices[\"sperm_matrix\"] = sperm_matrix0\n",
    "#     sup, dur, Y, S = timecourse_parameterscan_comprehensive(150, genotype_standard)\n",
    "#     add = [i sup dur Y S]\n",
    "#     er2 = vcat(er2, add)\n",
    "# end\n",
    "# writedlm(\"er2_scan_06\",  er2, ',')\n",
    "\n",
    "\n",
    "# current_matrices = copy(save_current_matrices)\n",
    "# current_Parameters = deepcopy(save_current_Parameters)\n",
    "\n",
    "\n",
    "# for i in 0.5:0.01:1\n",
    "#     global er3\n",
    "#     current_Parameters[\"er_3\"] = i\n",
    "#     homing_matrix0 = deepcopy(homing_matrix_num)\n",
    "\n",
    "#     for i in 1:length(homing_matrix[:,1])\n",
    "#         for j in homing_symbols[i]\n",
    "#             homing_matrix0[i,j] = BigFloat(float.(homing_matrix0[i,j].evalf(subs = current_Parameters, given_precision)))\n",
    "#         end\n",
    "#     end\n",
    "\n",
    "#     current_matrices[\"homing_matrix\"] = homing_matrix0\n",
    "#     sup, dur, Y, S = timecourse_parameterscan_comprehensive(150, genotype_standard)\n",
    "#     add = [i sup dur Y S]\n",
    "#     er3 = vcat(er3, add)\n",
    "# end\n",
    "# writedlm(\"er3_scan\",  er3, ',')\n",
    "\n"
   ]
  },
  {
   "cell_type": "markdown",
   "metadata": {},
   "source": [
    "After running, the results can be read from the saved CSV files:"
   ]
  },
  {
   "cell_type": "code",
   "execution_count": null,
   "metadata": {},
   "outputs": [],
   "source": [
    "er1_005 = readdlm(\"Simulation results//er1_scan_005\", ',')\n",
    "er1_06 = readdlm(\"Simulation results//er1_scan_06\", ',')\n",
    "\n",
    "\n",
    "er2_005 = readdlm(\"Simulation results//er2_scan_005\", ',')\n",
    "er2_06 = readdlm(\"Simulation results//er2_scan_06\", ',')\n",
    "\n",
    "\n",
    "er3 = readdlm(\"Simulation results//er3_scan\", ',')"
   ]
  },
  {
   "cell_type": "markdown",
   "metadata": {},
   "source": [
    "Now, we can plot the minimal population size for different parameter values against time:"
   ]
  },
  {
   "cell_type": "markdown",
   "metadata": {},
   "source": [
    "# Homing resistance scan"
   ]
  },
  {
   "cell_type": "code",
   "execution_count": null,
   "metadata": {},
   "outputs": [],
   "source": [
    "er3_plot = plot(er3[2:end,1], (er3[2:end,2]), lw = 4, label = \"min pop size\", colour=:black,\n",
    "    dpi = 300, size = (300,200), legend = false, ylims = (1e-10, 5), yaxis =:log)\n",
    "plot!(ytickfontsize = 10, xtickfontsize = 10, grid = false, xlims = (0,1))\n",
    "\n",
    "savefig(er3_plot, \"Plots\\\\er3_scan_figure3.svg\")\n",
    "\n",
    "er3_plot"
   ]
  },
  {
   "cell_type": "markdown",
   "metadata": {},
   "source": [
    "# Shredding resistance scan"
   ]
  },
  {
   "cell_type": "code",
   "execution_count": null,
   "metadata": {},
   "outputs": [],
   "source": [
    "er2_plot = sensitivity_plot2(er2_005, er2_06, given_size = (300,200))\n",
    "plot!(xlims = (0,1))\n",
    "\n",
    "savefig(er2_plot, \"Plots\\\\er2_scan_figure3.svg\")\n",
    "\n",
    "\n",
    "er2_plot"
   ]
  },
  {
   "cell_type": "markdown",
   "metadata": {},
   "source": [
    "# Editing resistance scan"
   ]
  },
  {
   "cell_type": "code",
   "execution_count": null,
   "metadata": {},
   "outputs": [],
   "source": [
    "er1_plot = sensitivity_plot2(er1_005, er1_06, given_size = (300,200))\n",
    "plot!(xlims = (-6,0))\n",
    "\n",
    "savefig(er1_plot, \"Plots\\\\er1_scan_figure3.svg\")\n",
    "\n",
    "\n",
    "er1_plot"
   ]
  },
  {
   "cell_type": "markdown",
   "metadata": {},
   "source": [
    "# Parameter sensitivity analysis (local)"
   ]
  },
  {
   "cell_type": "markdown",
   "metadata": {},
   "source": [
    "Next we investigate the impact of changes in parameter values on minimal population size.\n",
    "\n",
    "Again, the following code is used to calculate outcomes for different parameter values. This will take a lot of computational time. Eventually, results are saved in CSV files which can be accessed readily: "
   ]
  },
  {
   "cell_type": "code",
   "execution_count": null,
   "metadata": {},
   "outputs": [],
   "source": [
    "# sf = Any[\"value\" \"sup\" \"dur\" \"Y\" \"S\"]\n",
    "# hf = Any[\"value\" \"sup\" \"dur\" \"Y\" \"S\"]\n",
    "\n",
    "# sa = Any[\"value\" \"sup\" \"dur\" \"Y\" \"S\"]\n",
    "# sb = Any[\"value\" \"sup\" \"dur\" \"Y\" \"S\"]\n",
    "# sc = Any[\"value\" \"sup\" \"dur\" \"Y\" \"S\"]\n",
    "# sd = Any[\"value\" \"sup\" \"dur\" \"Y\" \"S\"]\n",
    "# se = Any[\"value\" \"sup\" \"dur\" \"Y\" \"S\"]\n",
    "# he = Any[\"value\" \"sup\" \"dur\" \"Y\" \"S\"]\n",
    "\n",
    "# prot_expression_cost = Any[\"value\" \"sup\" \"dur\" \"Y\" \"S\"]\n",
    "\n",
    "# sm = Any[\"value\" \"sup\" \"dur\" \"Y\" \"S\"]\n",
    "\n",
    "# ee = Any[\"value\" \"sup\" \"dur\" \"Y\" \"S\"]\n",
    "# eh = Any[\"value\" \"sup\" \"dur\" \"Y\" \"S\"]\n",
    "# es = Any[\"value\" \"sup\" \"dur\" \"Y\" \"S\"]\n",
    "# he2 = Any[\"value\" \"sup\" \"dur\" \"Y\" \"S\"]\n",
    "\n",
    "# shredding_activity_cost = Any[\"value\" \"sup\" \"dur\" \"Y\" \"S\"]\n",
    "\n",
    "# m1 = Any[\"value\" \"sup\" \"dur\" \"Y\" \"S\"]\n",
    "# m2 = Any[\"value\" \"sup\" \"dur\" \"Y\" \"S\"]\n",
    "\n",
    "# er1 = Any[\"value\" \"sup\" \"dur\" \"Y\" \"S\"]\n",
    "# er2 = Any[\"value\" \"sup\" \"dur\" \"Y\" \"S\"]\n",
    "# er3 = Any[\"value\" \"sup\" \"dur\" \"Y\" \"S\"]\n",
    "\n",
    "\n",
    "\n",
    "\n",
    "# apply_parameters_set(Parameters_set_sensitivity2)\n",
    "# save_current_matrices = deepcopy(current_matrices)\n",
    "# save_current_Parameters = deepcopy(Parameters_set_sensitivity2)\n",
    "\n",
    "# current_matrices = deepcopy(save_current_matrices)\n",
    "# current_Parameters = deepcopy(save_current_Parameters)\n",
    "\n",
    "\n",
    "# for i in 1:-0.01:0\n",
    "#     global sf\n",
    "#     current_Parameters[\"s_f\"] = i\n",
    "#     current_matrices[\"selection_matrix\"] = BigFloat.(float.(selection_matrix.evalf(subs = current_Parameters, given_precision)))\n",
    "#     sup, dur, Y, S = timecourse_parameterscan_comprehensive(150, genotype_standard)\n",
    "#     add = [i sup dur Y S]\n",
    "#     sf = vcat(sf, add)\n",
    "\n",
    "# end\n",
    "\n",
    "# writedlm(\"sf_scan72\",  sf, ',')\n",
    "\n",
    "# current_matrices = deepcopy(save_current_matrices)\n",
    "# current_Parameters = deepcopy(save_current_Parameters)\n",
    "\n",
    "\n",
    "# for i in 1:-0.01:0\n",
    "#     global hf\n",
    "#     current_Parameters[\"h_f\"] = i\n",
    "#     current_matrices[\"selection_matrix\"] = BigFloat.(float.(selection_matrix.evalf(subs = current_Parameters, given_precision)))\n",
    "#     sup, dur, Y, S = timecourse_parameterscan_comprehensive(150, genotype_standard)\n",
    "#     add = [i sup dur Y S]\n",
    "#     hf = vcat(hf, add)\n",
    "\n",
    "# end\n",
    "# writedlm(\"hf_scan72\",  hf, ',')\n",
    "\n",
    "\n",
    "# current_matrices = copy(save_current_matrices)\n",
    "# current_Parameters = deepcopy(save_current_Parameters)\n",
    "\n",
    "\n",
    "# for i in 0:0.005:1\n",
    "#     global sa\n",
    "#     current_Parameters[\"s_a\"] = i\n",
    "#     current_matrices[\"selection_matrix\"] = BigFloat.(float.(selection_matrix.evalf(subs = current_Parameters, given_precision)))\n",
    "#     sup, dur, Y, S = timecourse_parameterscan_comprehensive(150, genotype_standard)\n",
    "#     add = [i sup dur Y S]\n",
    "#     sa = vcat(sa, add)\n",
    "\n",
    "# end\n",
    "# writedlm(\"sa_scan72\",  sa, ',')\n",
    "\n",
    "\n",
    "# current_matrices = copy(save_current_matrices)\n",
    "# current_Parameters = deepcopy(save_current_Parameters)\n",
    "\n",
    "\n",
    "# for i in 0:0.005:1\n",
    "#     global sb\n",
    "#     current_Parameters[\"s_b\"] = i\n",
    "#     current_matrices[\"selection_matrix\"] = BigFloat.(float.(selection_matrix.evalf(subs = current_Parameters, given_precision)))\n",
    "#     sup, dur, Y, S = timecourse_parameterscan_comprehensive(150, genotype_standard)\n",
    "#     add = [i sup dur Y S]\n",
    "#     sb = vcat(sb, add)\n",
    "\n",
    "# end\n",
    "# writedlm(\"sb_scan72\",  sb, ',')\n",
    "\n",
    "\n",
    "# current_matrices = copy(save_current_matrices)\n",
    "# current_Parameters = deepcopy(save_current_Parameters)\n",
    "\n",
    "\n",
    "\n",
    "# for i in 0:0.005:1\n",
    "#     global sc\n",
    "#     current_Parameters[\"s_c\"] = i\n",
    "#     current_matrices[\"selection_matrix\"] = BigFloat.(float.(selection_matrix.evalf(subs = current_Parameters, given_precision)))\n",
    "#     sup, dur, Y, S = timecourse_parameterscan_comprehensive(150, genotype_standard)\n",
    "#     add = [i sup dur Y S]\n",
    "#     sc = vcat(sc, add)\n",
    "\n",
    "# end\n",
    "# writedlm(\"sc_scan72\",  sc, ',')\n",
    "\n",
    "\n",
    "\n",
    "# current_matrices = copy(save_current_matrices)\n",
    "# current_Parameters = deepcopy(save_current_Parameters)\n",
    "\n",
    "\n",
    "# for i in 0:0.005:1\n",
    "#     global sd\n",
    "#     current_Parameters[\"s_d\"] = i\n",
    "#     current_matrices[\"selection_matrix\"] = BigFloat.(float.(selection_matrix.evalf(subs = current_Parameters, given_precision)))\n",
    "#     sup, dur, Y, S = timecourse_parameterscan_comprehensive(150, genotype_standard)\n",
    "#     add = [i sup dur Y S]\n",
    "#     sd = vcat(sd, add)\n",
    "\n",
    "# end\n",
    "# writedlm(\"sd_scan72\",  sd, ',')\n",
    "\n",
    "\n",
    "\n",
    "# current_matrices = copy(save_current_matrices)\n",
    "# current_Parameters = deepcopy(save_current_Parameters)\n",
    "\n",
    "\n",
    "# for i in 0:0.005:1\n",
    "#     global se\n",
    "#     current_Parameters[\"s_e\"] = i\n",
    "#     current_matrices[\"selection_matrix\"] = BigFloat.(float.(selection_matrix.evalf(subs = current_Parameters, given_precision)))\n",
    "#     sup, dur, Y, S = timecourse_parameterscan_comprehensive(150, genotype_standard)\n",
    "#     add = [i sup dur Y S]\n",
    "#     se = vcat(se, add)\n",
    "\n",
    "\n",
    "# end\n",
    "# writedlm(\"se_scan72\",  se, ',')\n",
    "\n",
    "\n",
    "\n",
    "# current_matrices = copy(save_current_matrices)\n",
    "# current_Parameters = deepcopy(save_current_Parameters)\n",
    "\n",
    "\n",
    "# for i in 0:0.005:1\n",
    "#     global he\n",
    "#     current_Parameters[\"h_e\"] = i\n",
    "#     current_matrices[\"selection_matrix\"] = BigFloat.(float.(selection_matrix.evalf(subs = current_Parameters, given_precision)))\n",
    "#     sup, dur, Y, S = timecourse_parameterscan_comprehensive(150, genotype_standard)\n",
    "#     add = [i sup dur Y S]\n",
    "#     he = vcat(he, add)\n",
    "\n",
    "# end\n",
    "# writedlm(\"he_scan72\",  he, ',')\n",
    "\n",
    "\n",
    "# current_matrices = copy(save_current_matrices)\n",
    "# current_Parameters = deepcopy(save_current_Parameters)\n",
    "\n",
    "\n",
    "\n",
    "# for i in 0:0.005:1\n",
    "#     global prot_expression_cost\n",
    "#     current_Parameters[\"s_a\"] = i\n",
    "#     current_Parameters[\"s_c\"] = i\n",
    "#     current_matrices[\"selection_matrix\"] = BigFloat.(float.(selection_matrix.evalf(subs = current_Parameters, given_precision)))\n",
    "#     sup, dur, Y, S = timecourse_parameterscan_comprehensive(150, genotype_standard)\n",
    "#     add = [i sup dur Y S]\n",
    "#     prot_expression_cost = vcat(prot_expression_cost, add)\n",
    "\n",
    "# end\n",
    "# writedlm(\"prot_expression_cost_scan72\",  prot_expression_cost, ',')\n",
    "\n",
    "\n",
    "\n",
    "# current_matrices = copy(save_current_matrices)\n",
    "# current_Parameters = deepcopy(save_current_Parameters)\n",
    "\n",
    "\n",
    "# for i in 0:0.02:1\n",
    "#     global sm\n",
    "#     current_Parameters[\"s_m\"] = i\n",
    "#     current_matrices[\"selection_matrix\"] = BigFloat.(float.(selection_matrix.evalf(subs = current_Parameters, given_precision)))\n",
    "#     sup, dur, Y, S = timecourse_parameterscan_comprehensive(150, genotype_standard)\n",
    "#     add = [i sup dur Y S]\n",
    "#     sm = vcat(sm, add)\n",
    "\n",
    "\n",
    "# end\n",
    "# writedlm(\"sm_scan72\",  sm, ',')\n",
    "\n",
    "\n",
    "# current_matrices = copy(save_current_matrices)\n",
    "# current_Parameters = deepcopy(save_current_Parameters)\n",
    "\n",
    "\n",
    "# for i in 1:-0.01:0\n",
    "#     global ee\n",
    "#     current_Parameters[\"e_e\"] = i\n",
    "\n",
    "#     editing_matrix0 = deepcopy(editing_matrix_num)\n",
    "\n",
    "#     for i in 1:length(editing_matrix[:,1])\n",
    "#         for j in editing_symbols[i]\n",
    "#             editing_matrix0[i,j] = BigFloat(float.(editing_matrix0[i,j].evalf(subs = current_Parameters, given_precision)))\n",
    "#         end\n",
    "#     end\n",
    "\n",
    "#     current_matrices[\"editing_matrix\"] = editing_matrix0\n",
    "#     sup, dur, Y, S = timecourse_parameterscan_comprehensive(150, genotype_standard)\n",
    "#     add = [i sup dur Y S]\n",
    "#     ee = vcat(ee, add)\n",
    "\n",
    "# end\n",
    "# writedlm(\"ee_scan72\",  ee, ',')\n",
    "\n",
    "\n",
    "\n",
    "# current_matrices = copy(save_current_matrices)\n",
    "# current_Parameters = deepcopy(save_current_Parameters)\n",
    "\n",
    "\n",
    "# for i in 1:-0.01:0\n",
    "#     global eh\n",
    "#     current_Parameters[\"e_h\"] = i\n",
    "\n",
    "#     homing_matrix0 = deepcopy(homing_matrix_num)\n",
    "\n",
    "#     for i in 1:length(homing_matrix[:,1])\n",
    "#         for j in homing_symbols[i]\n",
    "#             homing_matrix0[i,j] = BigFloat(float.(homing_matrix0[i,j].evalf(subs = current_Parameters, given_precision)))\n",
    "#         end\n",
    "#     end\n",
    "\n",
    "#     current_matrices[\"homing_matrix\"] = homing_matrix0\n",
    "#     sup, dur, Y, S = timecourse_parameterscan_comprehensive(150, genotype_standard)\n",
    "#     add = [i sup dur Y S]\n",
    "#     eh = vcat(eh, add)\n",
    "# end\n",
    "# writedlm(\"eh_scan72\",  eh, ',')\n",
    "\n",
    "\n",
    "\n",
    "\n",
    "# current_matrices = copy(save_current_matrices)\n",
    "# current_Parameters = deepcopy(save_current_Parameters)\n",
    "\n",
    "# for i in 1:-0.01:0\n",
    "#     global es\n",
    "#     current_Parameters[\"e_s\"] = i\n",
    "\n",
    "#     sperm_matrix0 = deepcopy(sperm_matrix_num)\n",
    "\n",
    "#     for i in 1:length(sperm_matrix[:,1])\n",
    "#         for j in sperm_symbols[i]\n",
    "#             sperm_matrix0[i,j] = BigFloat(float.(sperm_matrix0[i,j].evalf(subs = current_Parameters, given_precision)))\n",
    "#         end\n",
    "#     end\n",
    "\n",
    "#     current_matrices[\"sperm_matrix\"] = sperm_matrix0\n",
    "#     sup, dur, Y, S = timecourse_parameterscan_comprehensive(150, genotype_standard)\n",
    "#     add = [i sup dur Y S]\n",
    "#     es = vcat(es, add)\n",
    "\n",
    "# end\n",
    "# writedlm(\"es_scan72\",  es, ',')\n",
    "\n",
    "\n",
    "# current_matrices = copy(save_current_matrices)\n",
    "# current_Parameters = deepcopy(save_current_Parameters)\n",
    "\n",
    "\n",
    "# for i in 1:-0.01:0\n",
    "#     global he2\n",
    "#     current_Parameters[\"h_e2\"] = i\n",
    "\n",
    "#     sperm_matrix0 = deepcopy(sperm_matrix_num)\n",
    "\n",
    "#     for i in 1:length(sperm_matrix[:,1])\n",
    "#         for j in sperm_symbols[i]\n",
    "#             sperm_matrix0[i,j] = BigFloat(float.(sperm_matrix0[i,j].evalf(subs = current_Parameters, given_precision)))\n",
    "#         end\n",
    "#     end\n",
    "\n",
    "#     current_matrices[\"sperm_matrix\"] = sperm_matrix0\n",
    "#     sup, dur, Y, S = timecourse_parameterscan_comprehensive(150, genotype_standard)\n",
    "#     add = [i sup dur Y S]\n",
    "#     he2 = vcat(he2, add)\n",
    "# end\n",
    "\n",
    "# writedlm(\"he2_scan72\",  he2, ',')\n",
    "\n",
    "# current_matrices = copy(save_current_matrices)\n",
    "# current_Parameters = deepcopy(save_current_Parameters)\n",
    "\n",
    "\n",
    "# for i in 1:-0.01:0\n",
    "#     global shredding_activity_cost\n",
    "#     current_Parameters[\"h_e\"] = i\n",
    "#     current_Parameters[\"h_e2\"] = i\n",
    "\n",
    "#     current_matrices[\"selection_matrix\"] = BigFloat.(float.(selection_matrix.evalf(subs = current_Parameters, given_precision)))\n",
    "\n",
    "#     sperm_matrix0 = deepcopy(sperm_matrix_num)\n",
    "\n",
    "#     for i in 1:length(sperm_matrix[:,1])\n",
    "#         for j in sperm_symbols[i]\n",
    "#             sperm_matrix0[i,j] = BigFloat(float.(sperm_matrix0[i,j].evalf(subs = current_Parameters, given_precision)))\n",
    "#         end\n",
    "#     end\n",
    "\n",
    "#     current_matrices[\"sperm_matrix\"] = sperm_matrix0\n",
    "#     sup, dur, Y, S = timecourse_parameterscan_comprehensive(150, genotype_standard)\n",
    "#     add = [i sup dur Y S]\n",
    "#     shredding_activity_cost = vcat(shredding_activity_cost, add)\n",
    "# end\n",
    "\n",
    "# writedlm(\"shredding_activity_cost_scan72\",  shredding_activity_cost, ',')\n",
    "\n",
    "\n",
    "# current_matrices = deepcopy(save_current_matrices)\n",
    "# current_Parameters = deepcopy(save_current_Parameters)\n",
    "\n",
    "\n",
    "# for i in -3:0.05:0\n",
    "#     global m1\n",
    "#     current_Parameters[\"m_1\"] = 10^(i)\n",
    "#     homing_matrix0 = deepcopy(homing_matrix_num)\n",
    "\n",
    "#     for i in 1:length(homing_matrix[:,1])\n",
    "#         for j in homing_symbols[i]\n",
    "#             homing_matrix0[i,j] = BigFloat(float.(homing_matrix0[i,j].evalf(subs = current_Parameters, given_precision)))\n",
    "#         end\n",
    "#     end\n",
    "\n",
    "#     current_matrices[\"homing_matrix\"] = homing_matrix0\n",
    "#     sup, dur, Y, S = timecourse_parameterscan_comprehensive(150, genotype_standard)\n",
    "#     add = [i sup dur Y S]\n",
    "#     m1 = vcat(m1, add)\n",
    "\n",
    "# end\n",
    "\n",
    "# writedlm(\"m1_scan72\",  m1, ',')\n",
    "\n",
    "# current_matrices = copy(save_current_matrices)\n",
    "# current_Parameters = deepcopy(save_current_Parameters)\n",
    "\n",
    "# for i in -3:0.05:0\n",
    "#     global m2\n",
    "#     current_Parameters[\"m_2\"] = 10^(i)\n",
    "#     mutation_matrix0 = deepcopy(mutation_matrix_num)\n",
    "\n",
    "#     for i in 1:length(mutation_matrix[:,1])\n",
    "#         for j in mutation_symbols[i]\n",
    "#             mutation_matrix0[i,j] = BigFloat(float.(mutation_matrix0[i,j].evalf(subs = current_Parameters, given_precision)))\n",
    "#         end\n",
    "#     end\n",
    "\n",
    "#     current_matrices[\"mutation_matrix\"] = mutation_matrix0\n",
    "#     sup, dur, Y, S = timecourse_parameterscan_comprehensive(150, genotype_standard)\n",
    "#     add = [i sup dur Y S]\n",
    "#     m2 = vcat(m2, add)\n",
    "\n",
    "# end\n",
    "\n",
    "# writedlm(\"m2_scan72\",  m2, ',')\n",
    "\n",
    "# current_matrices = copy(save_current_matrices)\n",
    "# current_Parameters = deepcopy(save_current_Parameters)\n",
    "\n",
    "\n",
    "# for i in -6:0.05:0\n",
    "#     global er1\n",
    "#     current_Parameters[\"er_1\"] = 10^(i)\n",
    "\n",
    "#     editing_matrix0 = deepcopy(editing_matrix_num)\n",
    "\n",
    "#     for i in 1:length(editing_matrix[:,1])\n",
    "#         for j in editing_symbols[i]\n",
    "#             editing_matrix0[i,j] = BigFloat(float.(editing_matrix0[i,j].evalf(subs = current_Parameters, given_precision)))\n",
    "#         end\n",
    "#     end\n",
    "\n",
    "#     current_matrices[\"editing_matrix\"] = editing_matrix0\n",
    "#     sup, dur, Y, S = timecourse_parameterscan_comprehensive(150, genotype_standard)\n",
    "#     add = [i sup dur Y S]\n",
    "#     er1 = vcat(er1, add)\n",
    "\n",
    "# end\n",
    "\n",
    "# writedlm(\"er1_scan72\",  er1, ',')\n",
    "\n",
    "\n",
    "\n",
    "# current_matrices = copy(save_current_matrices)\n",
    "# current_Parameters = deepcopy(save_current_Parameters)\n",
    "\n",
    "\n",
    "# for i in 0:0.01:1\n",
    "#     global er2\n",
    "#     current_Parameters[\"er_2\"] = i\n",
    "#     sperm_matrix0 = deepcopy(sperm_matrix_num)\n",
    "\n",
    "#     for i in 1:length(sperm_matrix[:,1])\n",
    "#         for j in sperm_symbols[i]\n",
    "#             sperm_matrix0[i,j] = BigFloat(float.(sperm_matrix0[i,j].evalf(subs = current_Parameters, given_precision)))\n",
    "#         end\n",
    "#     end\n",
    "#     current_matrices[\"sperm_matrix\"] = sperm_matrix0\n",
    "#     sup, dur, Y, S = timecourse_parameterscan_comprehensive(150, genotype_standard)\n",
    "#     add = [i sup dur Y S]\n",
    "#     er2 = vcat(er2, add)\n",
    "# end\n",
    "# writedlm(\"er2_scan72\",  er2, ',')\n",
    "\n",
    "\n",
    "# current_matrices = copy(save_current_matrices)\n",
    "# current_Parameters = deepcopy(save_current_Parameters)\n",
    "\n",
    "\n",
    "# for i in 0:0.01:1\n",
    "#     global er3\n",
    "#     current_Parameters[\"er_3\"] = i\n",
    "#     homing_matrix0 = deepcopy(homing_matrix_num)\n",
    "\n",
    "#     for i in 1:length(homing_matrix[:,1])\n",
    "#         for j in homing_symbols[i]\n",
    "#             homing_matrix0[i,j] = BigFloat(float.(homing_matrix0[i,j].evalf(subs = current_Parameters, given_precision)))\n",
    "#         end\n",
    "#     end\n",
    "\n",
    "#     current_matrices[\"homing_matrix\"] = homing_matrix0\n",
    "#     sup, dur, Y, S = timecourse_parameterscan_comprehensive(150, genotype_standard)\n",
    "#     add = [i sup dur Y S]\n",
    "#     er3 = vcat(er3, add)\n",
    "# end\n",
    "# writedlm(\"er3_scan72\",  er3, ',')\n",
    "\n",
    "\n",
    "\n",
    "# #- -------\n",
    "\n",
    "\n",
    "# sf = Any[\"value\" \"sup\" \"dur\" \"Y\" \"S\"]\n",
    "# hf = Any[\"value\" \"sup\" \"dur\" \"Y\" \"S\"]\n",
    "\n",
    "# sa = Any[\"value\" \"sup\" \"dur\" \"Y\" \"S\"]\n",
    "# sb = Any[\"value\" \"sup\" \"dur\" \"Y\" \"S\"]\n",
    "# sc = Any[\"value\" \"sup\" \"dur\" \"Y\" \"S\"]\n",
    "# sd = Any[\"value\" \"sup\" \"dur\" \"Y\" \"S\"]\n",
    "# se = Any[\"value\" \"sup\" \"dur\" \"Y\" \"S\"]\n",
    "# he = Any[\"value\" \"sup\" \"dur\" \"Y\" \"S\"]\n",
    "\n",
    "# prot_expression_cost = Any[\"value\" \"sup\" \"dur\" \"Y\" \"S\"]\n",
    "\n",
    "# sm = Any[\"value\" \"sup\" \"dur\" \"Y\" \"S\"]\n",
    "\n",
    "# ee = Any[\"value\" \"sup\" \"dur\" \"Y\" \"S\"]\n",
    "# eh = Any[\"value\" \"sup\" \"dur\" \"Y\" \"S\"]\n",
    "# es = Any[\"value\" \"sup\" \"dur\" \"Y\" \"S\"]\n",
    "# he2 = Any[\"value\" \"sup\" \"dur\" \"Y\" \"S\"]\n",
    "\n",
    "# shredding_activity_cost = Any[\"value\" \"sup\" \"dur\" \"Y\" \"S\"]\n",
    "\n",
    "# m1 = Any[\"value\" \"sup\" \"dur\" \"Y\" \"S\"]\n",
    "# m2 = Any[\"value\" \"sup\" \"dur\" \"Y\" \"S\"]\n",
    "\n",
    "# er1 = Any[\"value\" \"sup\" \"dur\" \"Y\" \"S\"]\n",
    "# er2 = Any[\"value\" \"sup\" \"dur\" \"Y\" \"S\"]\n",
    "# er3 = Any[\"value\" \"sup\" \"dur\" \"Y\" \"S\"]\n",
    "\n",
    "\n",
    "\n",
    "\n",
    "# apply_parameters_set(Parameters_set_sensitivity3)\n",
    "# save_current_matrices = deepcopy(current_matrices)\n",
    "# save_current_Parameters = deepcopy(Parameters_set_sensitivity3)\n",
    "\n",
    "# current_matrices = deepcopy(save_current_matrices)\n",
    "# current_Parameters = deepcopy(save_current_Parameters)\n",
    "\n",
    "\n",
    "# for i in 1:-0.01:0\n",
    "#     global sf\n",
    "#     current_Parameters[\"s_f\"] = i\n",
    "#     current_matrices[\"selection_matrix\"] = BigFloat.(float.(selection_matrix.evalf(subs = current_Parameters, given_precision)))\n",
    "#     sup, dur, Y, S = timecourse_parameterscan_comprehensive(150, genotype_standard)\n",
    "#     add = [i sup dur Y S]\n",
    "#     sf = vcat(sf, add)\n",
    "\n",
    "# end\n",
    "\n",
    "# writedlm(\"sf_scan73\",  sf, ',')\n",
    "\n",
    "# current_matrices = deepcopy(save_current_matrices)\n",
    "# current_Parameters = deepcopy(save_current_Parameters)\n",
    "\n",
    "\n",
    "# for i in 1:-0.01:0\n",
    "#     global hf\n",
    "#     current_Parameters[\"h_f\"] = i\n",
    "#     current_matrices[\"selection_matrix\"] = BigFloat.(float.(selection_matrix.evalf(subs = current_Parameters, given_precision)))\n",
    "#     sup, dur, Y, S = timecourse_parameterscan_comprehensive(150, genotype_standard)\n",
    "#     add = [i sup dur Y S]\n",
    "#     hf = vcat(hf, add)\n",
    "\n",
    "# end\n",
    "# writedlm(\"hf_scan73\",  hf, ',')\n",
    "\n",
    "\n",
    "# current_matrices = copy(save_current_matrices)\n",
    "# current_Parameters = deepcopy(save_current_Parameters)\n",
    "\n",
    "\n",
    "# for i in 0:0.005:1\n",
    "#     global sa\n",
    "#     current_Parameters[\"s_a\"] = i\n",
    "#     current_matrices[\"selection_matrix\"] = BigFloat.(float.(selection_matrix.evalf(subs = current_Parameters, given_precision)))\n",
    "#     sup, dur, Y, S = timecourse_parameterscan_comprehensive(150, genotype_standard)\n",
    "#     add = [i sup dur Y S]\n",
    "#     sa = vcat(sa, add)\n",
    "\n",
    "# end\n",
    "# writedlm(\"sa_scan73\",  sa, ',')\n",
    "\n",
    "\n",
    "# current_matrices = copy(save_current_matrices)\n",
    "# current_Parameters = deepcopy(save_current_Parameters)\n",
    "\n",
    "\n",
    "# for i in 0:0.005:1\n",
    "#     global sb\n",
    "#     current_Parameters[\"s_b\"] = i\n",
    "#     current_matrices[\"selection_matrix\"] = BigFloat.(float.(selection_matrix.evalf(subs = current_Parameters, given_precision)))\n",
    "#     sup, dur, Y, S = timecourse_parameterscan_comprehensive(150, genotype_standard)\n",
    "#     add = [i sup dur Y S]\n",
    "#     sb = vcat(sb, add)\n",
    "\n",
    "# end\n",
    "# writedlm(\"sb_scan73\",  sb, ',')\n",
    "\n",
    "\n",
    "# current_matrices = copy(save_current_matrices)\n",
    "# current_Parameters = deepcopy(save_current_Parameters)\n",
    "\n",
    "\n",
    "\n",
    "# for i in 0:0.005:1\n",
    "#     global sc\n",
    "#     current_Parameters[\"s_c\"] = i\n",
    "#     current_matrices[\"selection_matrix\"] = BigFloat.(float.(selection_matrix.evalf(subs = current_Parameters, given_precision)))\n",
    "#     sup, dur, Y, S = timecourse_parameterscan_comprehensive(150, genotype_standard)\n",
    "#     add = [i sup dur Y S]\n",
    "#     sc = vcat(sc, add)\n",
    "\n",
    "# end\n",
    "# writedlm(\"sc_scan73\",  sc, ',')\n",
    "\n",
    "\n",
    "\n",
    "# current_matrices = copy(save_current_matrices)\n",
    "# current_Parameters = deepcopy(save_current_Parameters)\n",
    "\n",
    "\n",
    "# for i in 0:0.005:1\n",
    "#     global sd\n",
    "#     current_Parameters[\"s_d\"] = i\n",
    "#     current_matrices[\"selection_matrix\"] = BigFloat.(float.(selection_matrix.evalf(subs = current_Parameters, given_precision)))\n",
    "#     sup, dur, Y, S = timecourse_parameterscan_comprehensive(150, genotype_standard)\n",
    "#     add = [i sup dur Y S]\n",
    "#     sd = vcat(sd, add)\n",
    "\n",
    "# end\n",
    "# writedlm(\"sd_scan73\",  sd, ',')\n",
    "\n",
    "\n",
    "\n",
    "# current_matrices = copy(save_current_matrices)\n",
    "# current_Parameters = deepcopy(save_current_Parameters)\n",
    "\n",
    "\n",
    "# for i in 0:0.005:1\n",
    "#     global se\n",
    "#     current_Parameters[\"s_e\"] = i\n",
    "#     current_matrices[\"selection_matrix\"] = BigFloat.(float.(selection_matrix.evalf(subs = current_Parameters, given_precision)))\n",
    "#     sup, dur, Y, S = timecourse_parameterscan_comprehensive(150, genotype_standard)\n",
    "#     add = [i sup dur Y S]\n",
    "#     se = vcat(se, add)\n",
    "\n",
    "\n",
    "# end\n",
    "# writedlm(\"se_scan73\",  se, ',')\n",
    "\n",
    "\n",
    "\n",
    "# current_matrices = copy(save_current_matrices)\n",
    "# current_Parameters = deepcopy(save_current_Parameters)\n",
    "\n",
    "\n",
    "# for i in 0:0.005:1\n",
    "#     global he\n",
    "#     current_Parameters[\"h_e\"] = i\n",
    "#     current_matrices[\"selection_matrix\"] = BigFloat.(float.(selection_matrix.evalf(subs = current_Parameters, given_precision)))\n",
    "#     sup, dur, Y, S = timecourse_parameterscan_comprehensive(150, genotype_standard)\n",
    "#     add = [i sup dur Y S]\n",
    "#     he = vcat(he, add)\n",
    "\n",
    "# end\n",
    "# writedlm(\"he_scan73\",  he, ',')\n",
    "\n",
    "\n",
    "# current_matrices = copy(save_current_matrices)\n",
    "# current_Parameters = deepcopy(save_current_Parameters)\n",
    "\n",
    "\n",
    "\n",
    "# for i in 0:0.005:1\n",
    "#     global prot_expression_cost\n",
    "#     current_Parameters[\"s_a\"] = i\n",
    "#     current_Parameters[\"s_c\"] = i\n",
    "#     current_matrices[\"selection_matrix\"] = BigFloat.(float.(selection_matrix.evalf(subs = current_Parameters, given_precision)))\n",
    "#     sup, dur, Y, S = timecourse_parameterscan_comprehensive(150, genotype_standard)\n",
    "#     add = [i sup dur Y S]\n",
    "#     prot_expression_cost = vcat(prot_expression_cost, add)\n",
    "\n",
    "# end\n",
    "# writedlm(\"prot_expression_cost_scan73\",  prot_expression_cost, ',')\n",
    "\n",
    "\n",
    "\n",
    "# current_matrices = copy(save_current_matrices)\n",
    "# current_Parameters = deepcopy(save_current_Parameters)\n",
    "\n",
    "\n",
    "# for i in 0:0.02:1\n",
    "#     global sm\n",
    "#     current_Parameters[\"s_m\"] = i\n",
    "#     current_matrices[\"selection_matrix\"] = BigFloat.(float.(selection_matrix.evalf(subs = current_Parameters, given_precision)))\n",
    "#     sup, dur, Y, S = timecourse_parameterscan_comprehensive(150, genotype_standard)\n",
    "#     add = [i sup dur Y S]\n",
    "#     sm = vcat(sm, add)\n",
    "\n",
    "\n",
    "# end\n",
    "# writedlm(\"sm_scan73\",  sm, ',')\n",
    "\n",
    "\n",
    "# current_matrices = copy(save_current_matrices)\n",
    "# current_Parameters = deepcopy(save_current_Parameters)\n",
    "\n",
    "\n",
    "# for i in 1:-0.01:0\n",
    "#     global ee\n",
    "#     current_Parameters[\"e_e\"] = i\n",
    "\n",
    "#     editing_matrix0 = deepcopy(editing_matrix_num)\n",
    "\n",
    "#     for i in 1:length(editing_matrix[:,1])\n",
    "#         for j in editing_symbols[i]\n",
    "#             editing_matrix0[i,j] = BigFloat(float.(editing_matrix0[i,j].evalf(subs = current_Parameters, given_precision)))\n",
    "#         end\n",
    "#     end\n",
    "\n",
    "#     current_matrices[\"editing_matrix\"] = editing_matrix0\n",
    "#     sup, dur, Y, S = timecourse_parameterscan_comprehensive(150, genotype_standard)\n",
    "#     add = [i sup dur Y S]\n",
    "#     ee = vcat(ee, add)\n",
    "\n",
    "# end\n",
    "# writedlm(\"ee_scan73\",  ee, ',')\n",
    "\n",
    "\n",
    "\n",
    "# current_matrices = copy(save_current_matrices)\n",
    "# current_Parameters = deepcopy(save_current_Parameters)\n",
    "\n",
    "\n",
    "# for i in 1:-0.01:0\n",
    "#     global eh\n",
    "#     current_Parameters[\"e_h\"] = i\n",
    "\n",
    "#     homing_matrix0 = deepcopy(homing_matrix_num)\n",
    "\n",
    "#     for i in 1:length(homing_matrix[:,1])\n",
    "#         for j in homing_symbols[i]\n",
    "#             homing_matrix0[i,j] = BigFloat(float.(homing_matrix0[i,j].evalf(subs = current_Parameters, given_precision)))\n",
    "#         end\n",
    "#     end\n",
    "\n",
    "#     current_matrices[\"homing_matrix\"] = homing_matrix0\n",
    "#     sup, dur, Y, S = timecourse_parameterscan_comprehensive(150, genotype_standard)\n",
    "#     add = [i sup dur Y S]\n",
    "#     eh = vcat(eh, add)\n",
    "# end\n",
    "# writedlm(\"eh_scan73\",  eh, ',')\n",
    "\n",
    "\n",
    "\n",
    "\n",
    "# current_matrices = copy(save_current_matrices)\n",
    "# current_Parameters = deepcopy(save_current_Parameters)\n",
    "\n",
    "# for i in 1:-0.01:0\n",
    "#     global es\n",
    "#     current_Parameters[\"e_s\"] = i\n",
    "\n",
    "#     sperm_matrix0 = deepcopy(sperm_matrix_num)\n",
    "\n",
    "#     for i in 1:length(sperm_matrix[:,1])\n",
    "#         for j in sperm_symbols[i]\n",
    "#             sperm_matrix0[i,j] = BigFloat(float.(sperm_matrix0[i,j].evalf(subs = current_Parameters, given_precision)))\n",
    "#         end\n",
    "#     end\n",
    "\n",
    "#     current_matrices[\"sperm_matrix\"] = sperm_matrix0\n",
    "#     sup, dur, Y, S = timecourse_parameterscan_comprehensive(150, genotype_standard)\n",
    "#     add = [i sup dur Y S]\n",
    "#     es = vcat(es, add)\n",
    "\n",
    "# end\n",
    "# writedlm(\"es_scan73\",  es, ',')\n",
    "\n",
    "\n",
    "# current_matrices = copy(save_current_matrices)\n",
    "# current_Parameters = deepcopy(save_current_Parameters)\n",
    "\n",
    "\n",
    "# for i in 1:-0.01:0\n",
    "#     global he2\n",
    "#     current_Parameters[\"h_e2\"] = i\n",
    "\n",
    "#     sperm_matrix0 = deepcopy(sperm_matrix_num)\n",
    "\n",
    "#     for i in 1:length(sperm_matrix[:,1])\n",
    "#         for j in sperm_symbols[i]\n",
    "#             sperm_matrix0[i,j] = BigFloat(float.(sperm_matrix0[i,j].evalf(subs = current_Parameters, given_precision)))\n",
    "#         end\n",
    "#     end\n",
    "\n",
    "#     current_matrices[\"sperm_matrix\"] = sperm_matrix0\n",
    "#     sup, dur, Y, S = timecourse_parameterscan_comprehensive(150, genotype_standard)\n",
    "#     add = [i sup dur Y S]\n",
    "#     he2 = vcat(he2, add)\n",
    "# end\n",
    "\n",
    "# writedlm(\"he2_scan73\",  he2, ',')\n",
    "\n",
    "# current_matrices = copy(save_current_matrices)\n",
    "# current_Parameters = deepcopy(save_current_Parameters)\n",
    "\n",
    "\n",
    "# for i in 1:-0.01:0\n",
    "#     global shredding_activity_cost\n",
    "#     current_Parameters[\"h_e\"] = i\n",
    "#     current_Parameters[\"h_e2\"] = i\n",
    "\n",
    "#     current_matrices[\"selection_matrix\"] = BigFloat.(float.(selection_matrix.evalf(subs = current_Parameters, given_precision)))\n",
    "\n",
    "#     sperm_matrix0 = deepcopy(sperm_matrix_num)\n",
    "\n",
    "#     for i in 1:length(sperm_matrix[:,1])\n",
    "#         for j in sperm_symbols[i]\n",
    "#             sperm_matrix0[i,j] = BigFloat(float.(sperm_matrix0[i,j].evalf(subs = current_Parameters, given_precision)))\n",
    "#         end\n",
    "#     end\n",
    "\n",
    "#     current_matrices[\"sperm_matrix\"] = sperm_matrix0\n",
    "#     sup, dur, Y, S = timecourse_parameterscan_comprehensive(150, genotype_standard)\n",
    "#     add = [i sup dur Y S]\n",
    "#     shredding_activity_cost = vcat(shredding_activity_cost, add)\n",
    "# end\n",
    "\n",
    "# writedlm(\"shredding_activity_cost_scan73\",  shredding_activity_cost, ',')\n",
    "\n",
    "\n",
    "# current_matrices = deepcopy(save_current_matrices)\n",
    "# current_Parameters = deepcopy(save_current_Parameters)\n",
    "\n",
    "\n",
    "# for i in -3:0.05:0\n",
    "#     global m1\n",
    "#     current_Parameters[\"m_1\"] = 10^(i)\n",
    "#     homing_matrix0 = deepcopy(homing_matrix_num)\n",
    "\n",
    "#     for i in 1:length(homing_matrix[:,1])\n",
    "#         for j in homing_symbols[i]\n",
    "#             homing_matrix0[i,j] = BigFloat(float.(homing_matrix0[i,j].evalf(subs = current_Parameters, given_precision)))\n",
    "#         end\n",
    "#     end\n",
    "\n",
    "#     current_matrices[\"homing_matrix\"] = homing_matrix0\n",
    "#     sup, dur, Y, S = timecourse_parameterscan_comprehensive(150, genotype_standard)\n",
    "#     add = [i sup dur Y S]\n",
    "#     m1 = vcat(m1, add)\n",
    "\n",
    "# end\n",
    "\n",
    "# writedlm(\"m1_scan73\",  m1, ',')\n",
    "\n",
    "# current_matrices = copy(save_current_matrices)\n",
    "# current_Parameters = deepcopy(save_current_Parameters)\n",
    "\n",
    "# for i in -3:0.05:0\n",
    "#     global m2\n",
    "#     current_Parameters[\"m_2\"] = 10^(i)\n",
    "#     mutation_matrix0 = deepcopy(mutation_matrix_num)\n",
    "\n",
    "#     for i in 1:length(mutation_matrix[:,1])\n",
    "#         for j in mutation_symbols[i]\n",
    "#             mutation_matrix0[i,j] = BigFloat(float.(mutation_matrix0[i,j].evalf(subs = current_Parameters, given_precision)))\n",
    "#         end\n",
    "#     end\n",
    "\n",
    "#     current_matrices[\"mutation_matrix\"] = mutation_matrix0\n",
    "#     sup, dur, Y, S = timecourse_parameterscan_comprehensive(150, genotype_standard)\n",
    "#     add = [i sup dur Y S]\n",
    "#     m2 = vcat(m2, add)\n",
    "\n",
    "# end\n",
    "\n",
    "# writedlm(\"m2_scan73\",  m2, ',')\n",
    "\n",
    "# current_matrices = copy(save_current_matrices)\n",
    "# current_Parameters = deepcopy(save_current_Parameters)\n",
    "\n",
    "\n",
    "# for i in -6:0.05:0\n",
    "#     global er1\n",
    "#     current_Parameters[\"er_1\"] = 10^(i)\n",
    "\n",
    "#     editing_matrix0 = deepcopy(editing_matrix_num)\n",
    "\n",
    "#     for i in 1:length(editing_matrix[:,1])\n",
    "#         for j in editing_symbols[i]\n",
    "#             editing_matrix0[i,j] = BigFloat(float.(editing_matrix0[i,j].evalf(subs = current_Parameters, given_precision)))\n",
    "#         end\n",
    "#     end\n",
    "\n",
    "#     current_matrices[\"editing_matrix\"] = editing_matrix0\n",
    "#     sup, dur, Y, S = timecourse_parameterscan_comprehensive(150, genotype_standard)\n",
    "#     add = [i sup dur Y S]\n",
    "#     er1 = vcat(er1, add)\n",
    "\n",
    "# end\n",
    "\n",
    "# writedlm(\"er1_scan73\",  er1, ',')\n",
    "\n",
    "\n",
    "\n",
    "# current_matrices = copy(save_current_matrices)\n",
    "# current_Parameters = deepcopy(save_current_Parameters)\n",
    "\n",
    "\n",
    "# for i in 0:0.01:1\n",
    "#     global er2\n",
    "#     current_Parameters[\"er_2\"] = i\n",
    "#     sperm_matrix0 = deepcopy(sperm_matrix_num)\n",
    "\n",
    "#     for i in 1:length(sperm_matrix[:,1])\n",
    "#         for j in sperm_symbols[i]\n",
    "#             sperm_matrix0[i,j] = BigFloat(float.(sperm_matrix0[i,j].evalf(subs = current_Parameters, given_precision)))\n",
    "#         end\n",
    "#     end\n",
    "#     current_matrices[\"sperm_matrix\"] = sperm_matrix0\n",
    "#     sup, dur, Y, S = timecourse_parameterscan_comprehensive(150, genotype_standard)\n",
    "#     add = [i sup dur Y S]\n",
    "#     er2 = vcat(er2, add)\n",
    "# end\n",
    "# writedlm(\"er2_scan73\",  er2, ',')\n",
    "\n",
    "\n",
    "# current_matrices = copy(save_current_matrices)\n",
    "# current_Parameters = deepcopy(save_current_Parameters)\n",
    "\n",
    "\n",
    "# for i in 0.5:0.01:1\n",
    "#     global er3\n",
    "#     current_Parameters[\"er_3\"] = i\n",
    "#     homing_matrix0 = deepcopy(homing_matrix_num)\n",
    "\n",
    "#     for i in 1:length(homing_matrix[:,1])\n",
    "#         for j in homing_symbols[i]\n",
    "#             homing_matrix0[i,j] = BigFloat(float.(homing_matrix0[i,j].evalf(subs = current_Parameters, given_precision)))\n",
    "#         end\n",
    "#     end\n",
    "\n",
    "#     current_matrices[\"homing_matrix\"] = homing_matrix0\n",
    "#     sup, dur, Y, S = timecourse_parameterscan_comprehensive(150, genotype_standard)\n",
    "#     add = [i sup dur Y S]\n",
    "#     er3 = vcat(er3, add)\n",
    "# end\n",
    "# writedlm(\"er3_scan73\",  er3, ',')\n",
    "\n",
    "\n",
    "\n",
    "# # ------------------\n",
    "# # also Rm\n",
    "\n",
    "# apply_parameters_set(Parameters_set_sensitivity2)\n",
    "\n",
    "# Rm = Any[\"value\" \"sup\" \"dur\" \"Y\" \"S\"]\n",
    "\n",
    "# for i in 3:0.5:20\n",
    "#     global Rm\n",
    "#     current_Parameters[\"Rm\"] = i\n",
    "#     sup, dur, Y, S = timecourse_parameterscan_comprehensive(150, genotype_standard)\n",
    "#     add = [i sup dur Y S]\n",
    "#     Rm = vcat(Rm, add)\n",
    "# end\n",
    "\n",
    "# writedlm(\"Rm_scan72\",  Rm, ',')\n",
    "\n",
    "\n",
    "\n",
    "# # -------------------\n",
    "# apply_parameters_set(Parameters_set_sensitivity3)\n",
    "\n",
    "# Rm = Any[\"value\" \"sup\" \"dur\" \"Y\" \"S\"]\n",
    "\n",
    "# for i in 3:0.5:20\n",
    "#     global Rm\n",
    "#     current_Parameters[\"Rm\"] = i\n",
    "#     sup, dur, Y, S = timecourse_parameterscan_comprehensive(150, genotype_standard)\n",
    "#     add = [i sup dur Y S]\n",
    "#     Rm = vcat(Rm, add)\n",
    "# end\n",
    "\n",
    "# writedlm(\"Rm_scan73\",  Rm, ',')"
   ]
  },
  {
   "cell_type": "markdown",
   "metadata": {},
   "source": [
    "We can easily read previously computed results and plot the results:"
   ]
  },
  {
   "cell_type": "code",
   "execution_count": null,
   "metadata": {},
   "outputs": [],
   "source": [
    "sf72 = readdlm(\"Simulation results//sf_scan72\", ',')\n",
    "sf73 = readdlm(\"Simulation results//sf_scan73\", ',')\n",
    "\n",
    "\n",
    "hf72 = readdlm(\"Simulation results//hf_scan72\", ',')\n",
    "hf73 = readdlm(\"Simulation results//hf_scan73\", ',')\n",
    "\n",
    "\n",
    "sa72 = readdlm(\"Simulation results//sa_scan72\", ',')\n",
    "sa73 = readdlm(\"Simulation results//sa_scan73\", ',')\n",
    "\n",
    "\n",
    "sb72 = readdlm(\"Simulation results//sb_scan72\", ',')\n",
    "sb73 = readdlm(\"Simulation results//sb_scan73\", ',')\n",
    "\n",
    "\n",
    "sc72 = readdlm(\"Simulation results//sc_scan72\", ',')\n",
    "sc73 = readdlm(\"Simulation results//sc_scan73\", ',')\n",
    "\n",
    "\n",
    "sd72 = readdlm(\"Simulation results//sd_scan72\", ',')\n",
    "sd73 = readdlm(\"Simulation results//sd_scan73\", ',')\n",
    "\n",
    "\n",
    "se72 = readdlm(\"Simulation results//se_scan72\", ',')\n",
    "se73 = readdlm(\"Simulation results//se_scan73\", ',')\n",
    "\n",
    "\n",
    "he72 = readdlm(\"Simulation results//he_scan72\", ',')\n",
    "he73 = readdlm(\"Simulation results//he_scan73\", ',')\n",
    "\n",
    "\n",
    "sm72 = readdlm(\"Simulation results//sm_scan72\", ',')\n",
    "sm73 = readdlm(\"Simulation results//sm_scan73\", ',')\n",
    "\n",
    "\n",
    "ee72 = readdlm(\"Simulation results//ee_scan72\", ',')\n",
    "ee73 = readdlm(\"Simulation results//ee_scan73\", ',')\n",
    "\n",
    "\n",
    "es72 = readdlm(\"Simulation results//es_scan72\", ',')\n",
    "es73 = readdlm(\"Simulation results//es_scan73\", ',')\n",
    "\n",
    "\n",
    "eh72 = readdlm(\"Simulation results//eh_scan72\", ',')\n",
    "eh73 = readdlm(\"Simulation results//eh_scan73\", ',')\n",
    "\n",
    "\n",
    "he272 = readdlm(\"Simulation results//he2_scan72\", ',')\n",
    "he273 = readdlm(\"Simulation results//he2_scan73\", ',')\n",
    "\n",
    "\n",
    "m172 = readdlm(\"Simulation results//m1_scan72\", ',')\n",
    "m173 = readdlm(\"Simulation results//m1_scan73\", ',')\n",
    "\n",
    "\n",
    "m272 = readdlm(\"Simulation results//m2_scan72\", ',')\n",
    "m273 = readdlm(\"Simulation results//m2_scan73\", ',')\n",
    "\n",
    "\n",
    "er172 = readdlm(\"Simulation results//er1_scan72\", ',')\n",
    "er173 = readdlm(\"Simulation results//er1_scan73\", ',')\n",
    "\n",
    "\n",
    "er272 = readdlm(\"Simulation results//er2_scan72\", ',')\n",
    "er273 = readdlm(\"Simulation results//er2_scan73\", ',')\n",
    "\n",
    "\n",
    "er372 = readdlm(\"Simulation results//er3_scan72\", ',')\n",
    "er373 = readdlm(\"Simulation results//er3_scan73\", ',')\n",
    "\n",
    "Rm72 = readdlm(\"Simulation results//Rm_scan72\", ',')\n",
    "Rm73 = readdlm(\"Simulation results//Rm_scan73\", ',')"
   ]
  },
  {
   "cell_type": "markdown",
   "metadata": {},
   "source": [
    "## Editing efficiency parameter scan"
   ]
  },
  {
   "cell_type": "code",
   "execution_count": null,
   "metadata": {},
   "outputs": [],
   "source": [
    "\n",
    "function sensitivity_plot2(scan1, scan2; given_size = (325,200), ymin = 1e-10, kwargs...)\n",
    "\n",
    "\n",
    "    plot(scan1[2:end,1], (scan1[2:end,2]), lw = 4, label = \"min pop size\", colour=:black,\n",
    "        linestyle=:dot,\n",
    "        dpi = 300, size = given_size, legend = false, ylims = (ymin, 5), yaxis =:log)\n",
    "    plot!(ytickfontsize = 10, xtickfontsize = 10, grid = false)\n",
    "    plot!(scan1[2:end,1], (scan2[2:end,2]), lw = 4, colour=:black, dpi = 300, legend = false, ylims = (ymin, 5), yaxis =:log, linestyle=:dash)\n",
    "    #plot!(scan1[2:end,1], (scan3[2:end,2]), lw = 4,  colour=:blue, dpi = 300, size = (325,150), legend = false, ylims = (ymin, 5), yaxis =:log)\n",
    "\n",
    "end"
   ]
  },
  {
   "cell_type": "code",
   "execution_count": null,
   "metadata": {
    "scrolled": true
   },
   "outputs": [],
   "source": [
    "#for 100% editing efficiency, the minimium population size is so small that the model cannot handle the number\n",
    "\n",
    "#julia> ee72[2,2]\n",
    "#\"2.9846506150389422174641287793843815895e-386\"\n",
    "\n",
    "#which is why it is safed as a string, but that cannot be plotted\n",
    "\n",
    "#julia> typeof(ee72[2,2])\n",
    "#SubString{String}\n",
    "\n",
    "#so we have to manually get rid of this value, then the rest of the results can be plotted correctly\n",
    "\n",
    "ee72[2,2] = NaN\n",
    "ee_scan = sensitivity_plot2(ee72, ee73, given_size = (300,180))\n",
    "plot!(ytickfontsize = 12, xtickfontsize = 12)\n",
    "\n",
    "savefig(ee_scan, \"Plots\\\\ee_scan7.svg\")\n",
    "\n",
    "ee_scan"
   ]
  },
  {
   "cell_type": "markdown",
   "metadata": {},
   "source": [
    "## Shredding efficiency parameter scan"
   ]
  },
  {
   "cell_type": "code",
   "execution_count": null,
   "metadata": {},
   "outputs": [],
   "source": [
    "es_scan = sensitivity_plot2(es72, es73, given_size = (300,180))\n",
    "plot!(ytickfontsize = 12, xtickfontsize = 12)\n",
    "\n",
    "savefig(es_scan, \"Plots\\\\es_scan7.svg\")\n",
    "\n",
    "es_scan"
   ]
  },
  {
   "cell_type": "markdown",
   "metadata": {},
   "source": [
    "## Homing efficiency parameter scan"
   ]
  },
  {
   "cell_type": "code",
   "execution_count": null,
   "metadata": {},
   "outputs": [],
   "source": [
    "eh_scan = sensitivity_plot2(eh72, eh73, given_size = (300,180))\n",
    "plot!(ytickfontsize = 12, xtickfontsize = 12)\n",
    "\n",
    "savefig(eh_scan, \"Plots\\\\eh_scan7.svg\")\n",
    "\n",
    "eh_scan"
   ]
  },
  {
   "cell_type": "markdown",
   "metadata": {},
   "source": [
    "## Selection coefficient edited gene parameter scan"
   ]
  },
  {
   "cell_type": "code",
   "execution_count": null,
   "metadata": {},
   "outputs": [],
   "source": [
    "sf_scan = sensitivity_plot2(sf72, sf73, given_size = (300,180))\n",
    "plot!(ytickfontsize = 12, xtickfontsize = 12)\n",
    "\n",
    "savefig(sf_scan, \"Plots\\\\sf_scan7.svg\")\n",
    "\n",
    "sf_scan"
   ]
  },
  {
   "cell_type": "markdown",
   "metadata": {},
   "source": [
    "## Dominance coefficient edited gene efficiency parameter scan"
   ]
  },
  {
   "cell_type": "code",
   "execution_count": null,
   "metadata": {},
   "outputs": [],
   "source": [
    "hf_scan = sensitivity_plot2(hf72, hf73, given_size = (300,180))\n",
    "plot!(ytickfontsize = 12, xtickfontsize = 12)\n",
    "\n",
    "savefig(hf_scan, \"Plots\\\\hf_scan7.svg\")\n",
    "\n",
    "hf_scan"
   ]
  },
  {
   "cell_type": "markdown",
   "metadata": {},
   "source": [
    "## (Unintended) fitness cost of Cas9 expression parameter scan"
   ]
  },
  {
   "cell_type": "code",
   "execution_count": null,
   "metadata": {},
   "outputs": [],
   "source": [
    "sa_scan = sensitivity_plot2(sa72, sa73, given_size = (300,180))\n",
    "plot!(ytickfontsize = 12, xtickfontsize = 12)\n",
    "plot!(xlims=(0,0.5))\n",
    "\n",
    "\n",
    "savefig(sa_scan, \"Plots\\\\sa_scan7.svg\")\n",
    "\n",
    "sa_scan"
   ]
  },
  {
   "cell_type": "markdown",
   "metadata": {},
   "source": [
    "## (Unintended) fitness cost of gRNA(1 or 2) expression parameter scan"
   ]
  },
  {
   "cell_type": "code",
   "execution_count": null,
   "metadata": {},
   "outputs": [],
   "source": [
    "sb_scan = sensitivity_plot2(sb72, sb73, given_size = (300,180))\n",
    "plot!(ytickfontsize = 12, xtickfontsize = 12)\n",
    "plot!(xlims=(0,0.5))\n",
    "\n",
    "\n",
    "savefig(sb_scan, \"Plots\\\\sb_scan7.svg\")\n",
    "\n",
    "sb_scan"
   ]
  },
  {
   "cell_type": "markdown",
   "metadata": {},
   "source": [
    "## (Unintended) fitness cost of X-Shredder expression parameter scan"
   ]
  },
  {
   "cell_type": "code",
   "execution_count": null,
   "metadata": {},
   "outputs": [],
   "source": [
    "sc_scan = sensitivity_plot2(sc72, sc73, given_size =(300,180))\n",
    "plot!(ytickfontsize = 12, xtickfontsize = 12)\n",
    "plot!(xlims=(0,0.5))\n",
    "\n",
    "\n",
    "savefig(sc_scan, \"Plots\\\\sc_scan7.svg\")\n",
    "\n",
    "sc_scan"
   ]
  },
  {
   "cell_type": "markdown",
   "metadata": {},
   "source": [
    "## (Unintended) fitness cost of Cas9-gRNA complex activity parameter scan"
   ]
  },
  {
   "cell_type": "code",
   "execution_count": null,
   "metadata": {},
   "outputs": [],
   "source": [
    "sd_scan = sensitivity_plot2(sd72, sd73, given_size = (300,180))\n",
    "plot!(ytickfontsize = 12, xtickfontsize = 12)\n",
    "plot!(xlims=(0,0.5))\n",
    "\n",
    "\n",
    "savefig(sd_scan, \"Plots\\\\sd_scan7.svg\")\n",
    "\n",
    "sd_scan"
   ]
  },
  {
   "cell_type": "markdown",
   "metadata": {},
   "source": [
    "## (Unintended) fitness cost of X-Shredder activity parameter scan"
   ]
  },
  {
   "cell_type": "code",
   "execution_count": null,
   "metadata": {},
   "outputs": [],
   "source": [
    "se_scan = sensitivity_plot2(se72, se73, given_size = (300,180))\n",
    "plot!(ytickfontsize = 12, xtickfontsize = 12)\n",
    "plot!(xlims=(0,0.5))\n",
    "\n",
    "savefig(se_scan, \"Plots\\\\se_scan7.svg\")\n",
    "\n",
    "se_scan"
   ]
  },
  {
   "cell_type": "markdown",
   "metadata": {},
   "source": [
    "## Homing mutation rate (m1) parameter scan"
   ]
  },
  {
   "cell_type": "code",
   "execution_count": null,
   "metadata": {},
   "outputs": [],
   "source": [
    "# m1 values are stored as exponent to base 10 values, so we first transform values\n",
    "\n",
    "for i in 2:length(m172[:,1])\n",
    "    m172[i,1] = 10^(m172[i,1])\n",
    "end\n",
    "\n",
    "for i in 2:length(m173[:,1])\n",
    "    m173[i,1] = 10^(m173[i,1])\n",
    "end"
   ]
  },
  {
   "cell_type": "code",
   "execution_count": null,
   "metadata": {},
   "outputs": [],
   "source": [
    "#then we plot \n",
    "\n",
    "m1_scan = sensitivity_plot2(m172, m173, given_size = (300,180))\n",
    "plot!(ytickfontsize = 12, xtickfontsize = 12)\n",
    "plot!(xaxis=:log, xlims = (1e-3,1))\n",
    "\n",
    "\n",
    "savefig(m1_scan, \"Plots\\\\m1_scan7.svg\")\n",
    "\n",
    "m1_scan"
   ]
  },
  {
   "cell_type": "markdown",
   "metadata": {},
   "source": [
    "## Background mutation rate (m2) parameter scan"
   ]
  },
  {
   "cell_type": "code",
   "execution_count": null,
   "metadata": {},
   "outputs": [],
   "source": [
    "# m2 values are also stored as exponent to base 10 values, so we first transform values\n",
    "\n",
    "for i in 2:length(m272[:,1])\n",
    "    m272[i,1] = 10^(m272[i,1])\n",
    "end\n",
    "\n",
    "for i in 2:length(m273[:,1])\n",
    "    m273[i,1] = 10^(m273[i,1])\n",
    "end"
   ]
  },
  {
   "cell_type": "code",
   "execution_count": null,
   "metadata": {},
   "outputs": [],
   "source": [
    "#then we plot \n",
    "\n",
    "m2_scan = sensitivity_plot2(m272, m273, given_size =(300,180))\n",
    "plot!(ytickfontsize = 12, xtickfontsize = 12)\n",
    "plot!(xaxis=:log, xlims = (1e-3,1))\n",
    "\n",
    "savefig(m2_scan, \"Plots\\\\m2_scan7.svg\")\n",
    "\n",
    "\n",
    "m2_scan"
   ]
  },
  {
   "cell_type": "markdown",
   "metadata": {},
   "source": [
    "## Intrinsic rate of population growth (Rm) parameter scan"
   ]
  },
  {
   "cell_type": "code",
   "execution_count": null,
   "metadata": {},
   "outputs": [],
   "source": [
    "Rm_scan = sensitivity_plot2(Rm72, Rm73, given_size = (300,180))\n",
    "plot!(ytickfontsize = 12, xtickfontsize = 12)\n",
    "\n",
    "savefig(Rm_scan, \"Plots\\\\Rm_scan7.svg\")\n",
    "\n",
    "Rm_scan"
   ]
  },
  {
   "cell_type": "markdown",
   "metadata": {},
   "source": [
    "## Pre-existing restiance (Figure 5)"
   ]
  },
  {
   "cell_type": "markdown",
   "metadata": {},
   "source": [
    "Next we investigate which effect pre-existing resistances have on the suppression effect.\n",
    "\n",
    "For this we perfom simulations of populations with varying levels of pre-existing resistances, either for the low or high HDR case. Since computations are demanding, results are again pre-computed and saved as csv files. The original code is this:"
   ]
  },
  {
   "cell_type": "code",
   "execution_count": null,
   "metadata": {},
   "outputs": [],
   "source": [
    "\n",
    "\n",
    "\n",
    "# shredding_a = Any[\"value\" \"max_sup\" \"t_max_sup\" \"t_1e_2\" \"t_1e_3\" \"t_1e_4\" \"t_1e_5\" \"t_1e_6\" \"t_1e_7\" \"t_1e_8\" \"t_1e_9\" \"t_1e_10\" \"dur\" \"Y\" \"S\"]\n",
    "# homing_a = Any[\"value\" \"max_sup\" \"t_max_sup\" \"t_1e_2\" \"t_1e_3\" \"t_1e_4\" \"t_1e_5\" \"t_1e_6\" \"t_1e_7\" \"t_1e_8\" \"t_1e_9\" \"t_1e_10\" \"dur\" \"Y\" \"S\"]\n",
    "# shredding_b =Any[\"value\" \"max_sup\" \"t_max_sup\" \"t_1e_2\" \"t_1e_3\" \"t_1e_4\" \"t_1e_5\" \"t_1e_6\" \"t_1e_7\" \"t_1e_8\" \"t_1e_9\" \"t_1e_10\" \"dur\" \"Y\" \"S\"]\n",
    "# homing_b = Any[\"value\" \"max_sup\" \"t_max_sup\" \"t_1e_2\" \"t_1e_3\" \"t_1e_4\" \"t_1e_5\" \"t_1e_6\" \"t_1e_7\" \"t_1e_8\" \"t_1e_9\" \"t_1e_10\" \"dur\" \"Y\" \"S\"]\n",
    "\n",
    "\n",
    "# apply_parameters_set(Parameters_set_sensitivity2)\n",
    "# save_current_matrices = deepcopy(current_matrices)\n",
    "# save_current_Parameters = deepcopy(Parameters_set_sensitivity2)\n",
    "\n",
    "# current_matrices = deepcopy(save_current_matrices)\n",
    "# current_Parameters = deepcopy(save_current_Parameters)\n",
    "\n",
    "\n",
    "# for i in 0:0.01:1\n",
    "#     global shredding_a\n",
    "\n",
    "#     release_pop = generate_population(r2=i)\n",
    "#     release_pop[return_i([\"AB\" \"ef\" \"CD\" \"cd\"], genotypes_detailed)] = BigFloat(\"0.001\")\n",
    "\n",
    "#     sup,t_max,e_2,e_3,e_4,e_5,e_6,e_7,e_8,e_9,e_10,dur,Y,S = timecourse_parameterscan_preexisting_resistance(1000, release_pop)\n",
    "#     add = [i sup t_max e_2 e_3 e_4 e_5 e_6 e_7 e_8 e_9 e_10 dur Y S]\n",
    "#     shredding_a = vcat(shredding_a, add)\n",
    "\n",
    "# end\n",
    "\n",
    "# writedlm(\"shredding_005_1000_generations\",  shredding_a, ',')\n",
    "\n",
    "\n",
    "# for i in 0:0.01:1\n",
    "#     global homing_a\n",
    "\n",
    "#     release_pop = generate_population(r3=i)\n",
    "#     release_pop[return_i([\"AB\" \"ef\" \"CD\" \"cd\"], genotypes_detailed)] = BigFloat(\"0.001\")\n",
    "\n",
    "\n",
    "#     sup,t_max,e_2,e_3,e_4,e_5,e_6,e_7,e_8,e_9,e_10,dur,Y,S = timecourse_parameterscan_preexisting_resistance(1000, release_pop)\n",
    "#     add = [i sup t_max e_2 e_3 e_4 e_5 e_6 e_7 e_8 e_9 e_10 dur Y S]\n",
    "#     homing_a = vcat(homing_a, add)\n",
    "\n",
    "# end\n",
    "\n",
    "# writedlm(\"homing_005_1000_generations\",  homing_a, ',')\n",
    "\n",
    "\n",
    "# apply_parameters_set(Parameters_set_sensitivity3)\n",
    "# save_current_matrices = deepcopy(current_matrices)\n",
    "# save_current_Parameters = deepcopy(Parameters_set_sensitivity3)\n",
    "\n",
    "# current_matrices = deepcopy(save_current_matrices)\n",
    "# current_Parameters = deepcopy(save_current_Parameters)\n",
    "\n",
    "\n",
    "# for i in 0:0.01:1\n",
    "#     global shredding_b\n",
    "\n",
    "#     release_pop = generate_population(r2=i)\n",
    "#     release_pop[return_i([\"AB\" \"ef\" \"CD\" \"cd\"], genotypes_detailed)] = BigFloat(\"0.001\")\n",
    "\n",
    "#     sup,t_max,e_2,e_3,e_4,e_5,e_6,e_7,e_8,e_9,e_10,dur,Y,S = timecourse_parameterscan_preexisting_resistance(1000, release_pop)\n",
    "#     add = [i sup t_max e_2 e_3 e_4 e_5 e_6 e_7 e_8 e_9 e_10 dur Y S]\n",
    "#     shredding_b = vcat(shredding_b, add)\n",
    "\n",
    "# end\n",
    "\n",
    "# writedlm(\"shredding_060_1000_generations\",  shredding_b, ',')\n",
    "\n",
    "\n",
    "# for i in 0:0.01:1\n",
    "#     global homing_b\n",
    "#     release_pop = generate_population(r3=i)\n",
    "#     release_pop[return_i([\"AB\" \"ef\" \"CD\" \"cd\"], genotypes_detailed)] = BigFloat(\"0.001\")\n",
    "\n",
    "#     sup,t_max,e_2,e_3,e_4,e_5,e_6,e_7,e_8,e_9,e_10,dur,Y,S = timecourse_parameterscan_preexisting_resistance(1000, release_pop)\n",
    "#     add = [i sup t_max e_2 e_3 e_4 e_5 e_6 e_7 e_8 e_9 e_10 dur Y S]\n",
    "#     homing_b = vcat(homing_b, add)\n",
    "\n",
    "# end\n",
    "\n",
    "# writedlm(\"homing_060_1000_generations\",  homing_b, ',')\n",
    "\n"
   ]
  },
  {
   "cell_type": "markdown",
   "metadata": {},
   "source": [
    "Results can be loaded from csv files:"
   ]
  },
  {
   "cell_type": "code",
   "execution_count": null,
   "metadata": {},
   "outputs": [],
   "source": [
    "homing_060 = readdlm(\"Simulation results//homing_060_1000_generations\", ',')\n",
    "homing_005 = readdlm(\"Simulation results//homing_005_1000_generations\", ',')\n",
    "shredding_060 = readdlm(\"Simulation results//shredding_060_1000_generations\", ',')\n",
    "shredding_005 = readdlm(\"Simulation results//shredding_005_1000_generations\", ',')"
   ]
  },
  {
   "cell_type": "markdown",
   "metadata": {},
   "source": [
    "## Homing resistance in low EJR case (Figure 5a)"
   ]
  },
  {
   "cell_type": "markdown",
   "metadata": {},
   "source": [
    "We check at which frequency of pre-existing resitances population suppression does not occur anymore below 1e-6 (lower border) or where it starts to suppress the population to less than 95% of its initial value (upper border):"
   ]
  },
  {
   "cell_type": "code",
   "execution_count": null,
   "metadata": {},
   "outputs": [],
   "source": [
    "return_stats(homing_005, lower_sup = 1e-6, upper_sup = 0.95, max_transgenic = 0.1)"
   ]
  },
  {
   "cell_type": "code",
   "execution_count": null,
   "metadata": {},
   "outputs": [],
   "source": [
    "figure_5a = plot_resistance_scan(homing_005, 0.84, 0.87, second_lower_lim = 0.64)\n",
    "\n",
    "savefig(figure_5a , \"Plots\\\\home resistance 005.svg\")\n",
    "\n",
    "figure_5a"
   ]
  },
  {
   "cell_type": "markdown",
   "metadata": {},
   "source": [
    "## Homing resistance in high EJR case (Figure 5b)"
   ]
  },
  {
   "cell_type": "code",
   "execution_count": null,
   "metadata": {},
   "outputs": [],
   "source": [
    "return_stats(homing_060, lower_sup = 1e-6, upper_sup = 0.95, max_transgenic = 0.1)"
   ]
  },
  {
   "cell_type": "code",
   "execution_count": null,
   "metadata": {},
   "outputs": [],
   "source": [
    "figure_5b = plot_resistance_scan(homing_060, 0.63, 0.67, second_lower_lim = 0.12)\n",
    "\n",
    "savefig(figure_5b, \"Plots\\\\home resistance 060.svg\")\n",
    "\n",
    "figure_5b"
   ]
  },
  {
   "cell_type": "markdown",
   "metadata": {},
   "source": [
    "## Shredding resistance in low EJR case (Figure 5c)"
   ]
  },
  {
   "cell_type": "code",
   "execution_count": null,
   "metadata": {},
   "outputs": [],
   "source": [
    "return_stats(shredding_005, lower_sup = 1e-6, upper_sup = 0.95, max_transgenic = 0.1)"
   ]
  },
  {
   "cell_type": "code",
   "execution_count": null,
   "metadata": {},
   "outputs": [],
   "source": [
    "figure_5c = plot_resistance_scan(shredding_005, 0.49, 0.89, second_lower_lim = 0.59)\n",
    "\n",
    "savefig(figure_5c, \"Plots\\\\shred resistance 005.svg\")\n",
    "\n",
    "figure_5c"
   ]
  },
  {
   "cell_type": "markdown",
   "metadata": {},
   "source": [
    "## Shredding resistance in high EJR case (Figure 5d)"
   ]
  },
  {
   "cell_type": "code",
   "execution_count": null,
   "metadata": {},
   "outputs": [],
   "source": [
    "return_stats(shredding_060, lower_sup = 1e-6, upper_sup = 0.95, max_transgenic = 0.1)"
   ]
  },
  {
   "cell_type": "code",
   "execution_count": null,
   "metadata": {},
   "outputs": [],
   "source": [
    "figure_5d = plot_resistance_scan(shredding_060, 0.28, 0.41, second_lower_lim = 0.07)\n",
    "\n",
    "savefig(figure_5d, \"Plots\\\\shred resistance 060.svg\")\n",
    "\n",
    "figure_5d"
   ]
  },
  {
   "cell_type": "code",
   "execution_count": null,
   "metadata": {},
   "outputs": [],
   "source": []
  },
  {
   "cell_type": "markdown",
   "metadata": {},
   "source": [
    "-------------------------------------------------------------------------------------------------------------------------------\n",
    "-------------------------------------------------------------------------------------------------------------------------------\n",
    "-------------------------------------------------------------------------------------------------------------------------------\n",
    "-------------------------------------------------------------------------------------------------------------------------------"
   ]
  },
  {
   "cell_type": "markdown",
   "metadata": {},
   "source": [
    "# Supplementary figures"
   ]
  },
  {
   "cell_type": "markdown",
   "metadata": {},
   "source": [
    "# Examples of time courses for populations with pre-existing resistances"
   ]
  },
  {
   "cell_type": "markdown",
   "metadata": {},
   "source": [
    "## Homing resistance; in low EJR (5%) scenario"
   ]
  },
  {
   "cell_type": "code",
   "execution_count": null,
   "metadata": {},
   "outputs": [],
   "source": [
    "apply_parameters_set(Parameters_set_sensitivity2)"
   ]
  },
  {
   "cell_type": "code",
   "execution_count": null,
   "metadata": {},
   "outputs": [],
   "source": [
    "finalplot = []\n",
    "\n",
    "for i in 0:0.2:1\n",
    "    population_scan = generate_population(r3 = i);\n",
    "    population_scan[return_i([\"AB\" \"ef\" \"CD\" \"cd\"], genotypes_detailed)] = BigFloat(\"0.001\");\n",
    "    \n",
    "    simulation = timecourse(150, population_scan)\n",
    "    \n",
    "    plot_result = plot_run_comprehensive(simulation, yle_total_bool = true, shredder_total_male_bool = true, correlation_bool = true,\n",
    "            given_dpi = 300, given_size = (325,150), dCas9_bool = true, dgRNA1_bool = true, dgRNA2_bool = true, \n",
    "            dshredder_bool = true, res3_bool = true, sexratio_bool = true, load_zygotes_bool2 = true)\n",
    "    plot!(legend=false, ytickfontsize = 10, xtickfontsize = 10)\n",
    "\n",
    "    savefig(plot_result, string(\"Plots\\\\homing resistance low EJR \", i*100, \"% .svg\"))\n",
    "    \n",
    "    push!(finalplot, plot_result)\n",
    "end"
   ]
  },
  {
   "cell_type": "code",
   "execution_count": null,
   "metadata": {},
   "outputs": [],
   "source": [
    "finalplot[1]"
   ]
  },
  {
   "cell_type": "code",
   "execution_count": null,
   "metadata": {},
   "outputs": [],
   "source": [
    "finalplot[2]"
   ]
  },
  {
   "cell_type": "code",
   "execution_count": null,
   "metadata": {},
   "outputs": [],
   "source": [
    "finalplot[3]"
   ]
  },
  {
   "cell_type": "code",
   "execution_count": null,
   "metadata": {},
   "outputs": [],
   "source": [
    "finalplot[4]"
   ]
  },
  {
   "cell_type": "code",
   "execution_count": null,
   "metadata": {},
   "outputs": [],
   "source": [
    "finalplot[5]"
   ]
  },
  {
   "cell_type": "code",
   "execution_count": null,
   "metadata": {},
   "outputs": [],
   "source": [
    "finalplot[6]"
   ]
  },
  {
   "cell_type": "markdown",
   "metadata": {},
   "source": [
    "## Shredding resistance, in low EJR (5%) scenario"
   ]
  },
  {
   "cell_type": "code",
   "execution_count": null,
   "metadata": {},
   "outputs": [],
   "source": [
    "finalplot = []\n",
    "\n",
    "for i in 0:0.2:1\n",
    "    population_scan = generate_population(r2 = i);\n",
    "    population_scan[return_i([\"AB\" \"ef\" \"CD\" \"cd\"], genotypes_detailed)] = BigFloat(\"0.001\");\n",
    "    \n",
    "    simulation = timecourse(150, population_scan)\n",
    "    \n",
    "    plot_result = plot_run_comprehensive(simulation, yle_total_bool = true, shredder_total_male_bool = true, correlation_bool = true,\n",
    "            given_dpi = 300, given_size = (325,150), dCas9_bool = true, dgRNA1_bool = true, dgRNA2_bool = true, \n",
    "            dshredder_bool = true, res2_bool = true, sexratio_bool = true, load_zygotes_bool2 = true)\n",
    "    plot!(legend=false, ytickfontsize = 10, xtickfontsize = 10)\n",
    "\n",
    "    savefig(plot_result, string(\"Plots\\\\shredding resistance low EJR \", i*100, \"% .svg\"))\n",
    "    \n",
    "    push!(finalplot, plot_result)\n",
    "    \n",
    "end"
   ]
  },
  {
   "cell_type": "code",
   "execution_count": null,
   "metadata": {},
   "outputs": [],
   "source": [
    "finalplot[1]"
   ]
  },
  {
   "cell_type": "code",
   "execution_count": null,
   "metadata": {},
   "outputs": [],
   "source": [
    "finalplot[2]"
   ]
  },
  {
   "cell_type": "code",
   "execution_count": null,
   "metadata": {},
   "outputs": [],
   "source": [
    "finalplot[3]"
   ]
  },
  {
   "cell_type": "code",
   "execution_count": null,
   "metadata": {},
   "outputs": [],
   "source": [
    "finalplot[4]"
   ]
  },
  {
   "cell_type": "code",
   "execution_count": null,
   "metadata": {},
   "outputs": [],
   "source": [
    "finalplot[5]"
   ]
  },
  {
   "cell_type": "code",
   "execution_count": null,
   "metadata": {
    "scrolled": true
   },
   "outputs": [],
   "source": [
    "finalplot[6]"
   ]
  },
  {
   "cell_type": "code",
   "execution_count": null,
   "metadata": {},
   "outputs": [],
   "source": []
  },
  {
   "cell_type": "code",
   "execution_count": null,
   "metadata": {},
   "outputs": [],
   "source": []
  },
  {
   "cell_type": "code",
   "execution_count": null,
   "metadata": {},
   "outputs": [],
   "source": [
    "apply_parameters_set(Parameters_set_sensitivity3)"
   ]
  },
  {
   "cell_type": "markdown",
   "metadata": {},
   "source": [
    "## Homing resistance, in high EJR (60%) scenario"
   ]
  },
  {
   "cell_type": "code",
   "execution_count": null,
   "metadata": {},
   "outputs": [],
   "source": [
    "finalplot = []\n",
    "\n",
    "for i in 0:0.2:1\n",
    "    population_scan = generate_population(r3 = i);\n",
    "    population_scan[return_i([\"AB\" \"ef\" \"CD\" \"cd\"], genotypes_detailed)] = BigFloat(\"0.001\");\n",
    "    \n",
    "    simulation = timecourse(150, population_scan)\n",
    "    \n",
    "    plot_result = plot_run_comprehensive(simulation, yle_total_bool = true, shredder_total_male_bool = true, correlation_bool = true,\n",
    "            given_dpi = 300, given_size = (325,150), dCas9_bool = true, dgRNA1_bool = true, dgRNA2_bool = true, \n",
    "            dshredder_bool = true, res3_bool = true, sexratio_bool = true, load_zygotes_bool2 = true)\n",
    "    plot!(legend=false, ytickfontsize = 10, xtickfontsize = 10)\n",
    "\n",
    "    savefig(plot_result, string(\"Plots\\\\homing resistance high EJR \", i*100, \"% .svg\"))\n",
    "    \n",
    "    push!(finalplot, plot_result)\n",
    "    \n",
    "end"
   ]
  },
  {
   "cell_type": "code",
   "execution_count": null,
   "metadata": {},
   "outputs": [],
   "source": [
    "finalplot[1]"
   ]
  },
  {
   "cell_type": "code",
   "execution_count": null,
   "metadata": {},
   "outputs": [],
   "source": [
    "finalplot[2]"
   ]
  },
  {
   "cell_type": "code",
   "execution_count": null,
   "metadata": {},
   "outputs": [],
   "source": [
    "finalplot[3]"
   ]
  },
  {
   "cell_type": "code",
   "execution_count": null,
   "metadata": {},
   "outputs": [],
   "source": [
    "finalplot[4]"
   ]
  },
  {
   "cell_type": "code",
   "execution_count": null,
   "metadata": {},
   "outputs": [],
   "source": [
    "finalplot[5]"
   ]
  },
  {
   "cell_type": "code",
   "execution_count": null,
   "metadata": {},
   "outputs": [],
   "source": [
    "finalplot[6]"
   ]
  },
  {
   "cell_type": "markdown",
   "metadata": {},
   "source": [
    "## Shredding resistance, in high EJR (60%) scenario"
   ]
  },
  {
   "cell_type": "code",
   "execution_count": null,
   "metadata": {},
   "outputs": [],
   "source": [
    "finalplot = []\n",
    "\n",
    "for i in 0:0.2:1\n",
    "    population_scan = generate_population(r2 = i);\n",
    "    population_scan[return_i([\"AB\" \"ef\" \"CD\" \"cd\"], genotypes_detailed)] = BigFloat(\"0.001\");\n",
    "    \n",
    "    simulation = timecourse(150, population_scan)\n",
    "    \n",
    "    plot_result = plot_run_comprehensive(simulation, yle_total_bool = true, shredder_total_male_bool = true, correlation_bool = true,\n",
    "            given_dpi = 300, given_size = (325,150), dCas9_bool = true, dgRNA1_bool = true, dgRNA2_bool = true, \n",
    "            dshredder_bool = true, res2_bool = true, sexratio_bool = true, load_zygotes_bool2 = true)\n",
    "    plot!(legend=false, ytickfontsize = 10, xtickfontsize = 10)\n",
    "\n",
    "    savefig(plot_result, string(\"Plots\\\\shredding resistance high EJR \", i*100, \"% .svg\"))\n",
    "    \n",
    "    push!(finalplot, plot_result)\n",
    "    \n",
    "end"
   ]
  },
  {
   "cell_type": "code",
   "execution_count": null,
   "metadata": {},
   "outputs": [],
   "source": [
    "finalplot[1]"
   ]
  },
  {
   "cell_type": "code",
   "execution_count": null,
   "metadata": {},
   "outputs": [],
   "source": [
    "finalplot[2]"
   ]
  },
  {
   "cell_type": "code",
   "execution_count": null,
   "metadata": {},
   "outputs": [],
   "source": [
    "finalplot[3]"
   ]
  },
  {
   "cell_type": "code",
   "execution_count": null,
   "metadata": {},
   "outputs": [],
   "source": [
    "finalplot[4]"
   ]
  },
  {
   "cell_type": "code",
   "execution_count": null,
   "metadata": {},
   "outputs": [],
   "source": [
    "finalplot[5]"
   ]
  },
  {
   "cell_type": "code",
   "execution_count": null,
   "metadata": {},
   "outputs": [],
   "source": [
    "finalplot[6]"
   ]
  },
  {
   "cell_type": "markdown",
   "metadata": {},
   "source": [
    "# Supplementary Figure XXX"
   ]
  },
  {
   "cell_type": "markdown",
   "metadata": {},
   "source": [
    "To reproduce what is shown in Burt and Deredec 2018, we set the same parameters as they used.\n",
    "Further, we will simulate releases of males homozygous for ASD, as done in mentioned publication."
   ]
  },
  {
   "cell_type": "code",
   "execution_count": null,
   "metadata": {},
   "outputs": [],
   "source": [
    "Burt_Deredec_2018_parameters = deepcopy(Parameters_set_standard);\n",
    "\n",
    "\n",
    "#editing efficiency\n",
    "Burt_Deredec_2018_parameters[\"e_e\"] = 1.0;\n",
    "\n",
    "#shredding efficiency\n",
    "Burt_Deredec_2018_parameters[\"e_s\"] = 1.0;\n",
    "\n",
    "#shredding activity is perfectly dominant\n",
    "Burt_Deredec_2018_parameters[\"h_e2\"] = 1.0;\n",
    "\n",
    "#homing efficiency\n",
    "Burt_Deredec_2018_parameters[\"e_h\"] = 0.0;\n",
    "\n",
    "\n",
    "\n",
    "#no resistance occuring at target sites\n",
    "Burt_Deredec_2018_parameters[\"er_1\"] = 0.0;\n",
    "Burt_Deredec_2018_parameters[\"er_2\"] = 0.0;\n",
    "Burt_Deredec_2018_parameters[\"er_3\"] = 0.0;\n",
    "\n",
    "\n",
    "#no loss of function mutations\n",
    "Burt_Deredec_2018_parameters[\"m_1\"] = 0.0;\n",
    "Burt_Deredec_2018_parameters[\"m_2\"] = 0.0;\n",
    "\n",
    "\n",
    "#ideal intended fitness costs are perfect\n",
    "Burt_Deredec_2018_parameters[\"s_f\"] = 1.0;\n",
    "Burt_Deredec_2018_parameters[\"h_f\"] = 1.0;\n",
    "\n",
    "\n",
    "#no unintended fitness costs\n",
    "Burt_Deredec_2018_parameters[\"s_a\"] = 0.0;\n",
    "Burt_Deredec_2018_parameters[\"s_b\"] = 0.0;\n",
    "Burt_Deredec_2018_parameters[\"s_c\"] = 0.0;\n",
    "Burt_Deredec_2018_parameters[\"s_d\"] = 0.0;\n",
    "Burt_Deredec_2018_parameters[\"s_e\"] = 0.0;\n",
    "Burt_Deredec_2018_parameters[\"h_e\"] = 0.0;\n",
    "Burt_Deredec_2018_parameters[\"s_m\"] = 0.0;\n",
    "\n",
    "#intrinsic rate of population increase of 6\n",
    "Burt_Deredec_2018_parameters[\"Rm\"] = 6\n",
    "\n",
    "apply_parameters_set(Burt_Deredec_2018_parameters);"
   ]
  },
  {
   "cell_type": "markdown",
   "metadata": {},
   "source": [
    "## Recurrent releases of YLE alone at 10% of initial population"
   ]
  },
  {
   "cell_type": "code",
   "execution_count": null,
   "metadata": {},
   "outputs": [],
   "source": [
    "YLE_alone_recurrent_10_percent = timecourse(30, generate_population(), number_of_releases = 30, release_genotype = [\"AB\" \"ef\" \"cd\" \"cd\"], release_size = BigFloat(\"0.1\"));"
   ]
  },
  {
   "cell_type": "code",
   "execution_count": null,
   "metadata": {},
   "outputs": [],
   "source": [
    "SI_figure_YLE_alone_recurrent_10_percent = plot_run_comprehensive(YLE_alone_recurrent_10_percent, yle_total_bool = true, shredder_total_male_bool = true, correlation_bool = true,\n",
    "            given_dpi = 300, given_size = (325,150))\n",
    "plot!(legend=false, ytickfontsize = 10, xtickfontsize = 10)\n",
    "\n",
    "savefig(SI_figure_YLE_alone_recurrent_10_percent, \"Plots\\\\SI_figure_YLE_alone_recurrent_10_percent_Burt_Deredec_Params.svg\")\n",
    "\n",
    "SI_figure_YLE_alone_recurrent_10_percent"
   ]
  },
  {
   "cell_type": "markdown",
   "metadata": {},
   "source": [
    "## Single release of YLE alone at 10% of initial population"
   ]
  },
  {
   "cell_type": "code",
   "execution_count": null,
   "metadata": {},
   "outputs": [],
   "source": [
    "YLE_alone_single_10_percent_population = generate_population();\n",
    "YLE_alone_single_10_percent_population[return_i([\"AB\" \"ef\" \"cd\" \"cd\"], genotypes_detailed)] = BigFloat(\"0.1\");\n",
    "\n",
    "\n",
    "YLE_alone_single_10_percent = timecourse(30, YLE_alone_single_10_percent_population);"
   ]
  },
  {
   "cell_type": "code",
   "execution_count": null,
   "metadata": {},
   "outputs": [],
   "source": [
    "SI_figure_YLE_alone_single_10_percent = plot_run_comprehensive(YLE_alone_single_10_percent, yle_total_bool = true, shredder_total_male_bool = true, correlation_bool = true,\n",
    "            given_dpi = 300, given_size = (325,150))\n",
    "plot!(legend=false, ytickfontsize = 10, xtickfontsize = 10)\n",
    "\n",
    "\n",
    "savefig(SI_figure_YLE_alone_single_10_percent, \"Plots\\\\SI_figure_YLE_alone_single_10_percent_Burt_Deredec_Params.svg\")\n",
    "\n",
    "SI_figure_YLE_alone_single_10_percent"
   ]
  },
  {
   "cell_type": "markdown",
   "metadata": {},
   "source": [
    "## Single release of YLE + non-homing ASD at 10% of initial population"
   ]
  },
  {
   "cell_type": "code",
   "execution_count": null,
   "metadata": {},
   "outputs": [],
   "source": [
    "genotype_YLE_ASD_10_percent = generate_population();\n",
    "genotype_YLE_ASD_10_percent[return_i([\"AB\" \"ef\" \"CD\" \"CD\"], genotypes_detailed)] = BigFloat(\"0.1\");\n",
    "\n",
    "\n",
    "YLE_ASD_single_10_percent_Burt_Deredec_Params = timecourse(50, genotype_YLE_ASD_10_percent);"
   ]
  },
  {
   "cell_type": "code",
   "execution_count": null,
   "metadata": {},
   "outputs": [],
   "source": [
    "SI_figure_YLE_ASD_single_10_percent_Burt_Deredec_Params = plot_run_comprehensive(YLE_ASD_single_10_percent_Burt_Deredec_Params, yle_total_bool = true, shredder_total_male_bool = true,\n",
    "            given_dpi = 300, given_size = (325,150))\n",
    "plot!(legend=false, ytickfontsize = 10, xtickfontsize = 10)\n",
    "\n",
    "\n",
    "savefig(SI_figure_YLE_ASD_single_10_percent_Burt_Deredec_Params, \"Plots\\\\SI_figure_YLE_ASD_single_10_percent_Burt_Deredec_Params.svg\")\n",
    "\n",
    "SI_figure_YLE_ASD_single_10_percent_Burt_Deredec_Params"
   ]
  },
  {
   "cell_type": "markdown",
   "metadata": {},
   "source": [
    "## Single release of YLE + non-homing ASD at 0.1% of initial population"
   ]
  },
  {
   "cell_type": "code",
   "execution_count": null,
   "metadata": {},
   "outputs": [],
   "source": [
    "genotype_YLE_ASD_0_1_percent = generate_population();\n",
    "genotype_YLE_ASD_0_1_percent[return_i([\"AB\" \"ef\" \"CD\" \"CD\"], genotypes_detailed)] = BigFloat(\"0.001\");\n",
    "\n",
    "\n",
    "YLE_ASD_single_0_1_percent_Burt_Deredec_Params = timecourse(50, genotype_YLE_ASD_0_1_percent);"
   ]
  },
  {
   "cell_type": "code",
   "execution_count": null,
   "metadata": {},
   "outputs": [],
   "source": [
    "SI_figure_YLE_ASD_single_0_1_percent_Burt_Deredec_Params = plot_run_comprehensive(YLE_ASD_single_0_1_percent_Burt_Deredec_Params, yle_total_bool = true, shredder_total_male_bool = true,\n",
    "            given_dpi = 300, given_size = (325,150))\n",
    "plot!(legend=false, ytickfontsize = 10, xtickfontsize = 10)\n",
    "\n",
    "\n",
    "savefig(SI_figure_YLE_ASD_single_0_1_percent_Burt_Deredec_Params, \"Plots\\\\SI_figure_YLE_ASD_single_0_1_percent_Burt_Deredec_Params.svg\")\n",
    "\n",
    "SI_figure_YLE_ASD_single_0_1_percent_Burt_Deredec_Params"
   ]
  },
  {
   "cell_type": "markdown",
   "metadata": {},
   "source": [
    "## Single release of YLE + homing ASD at 0.1% of initial population\n",
    "### (Same as Figure 2a)\n",
    "\n",
    "Mind that we are\n",
    "\n",
    "I) also now again using our own baseline parameter values where editing efficiency and shredding are efficiency are not 1 but 0.95 and 0.9, respectively\n",
    "\n",
    "II) we are simulating releases of heterozygous (ASD/wildtype autosome) releases\n",
    "\n",
    "both decreases suppressive power compared to the Burt & Deredec 2018 assumptions\n"
   ]
  },
  {
   "cell_type": "code",
   "execution_count": null,
   "metadata": {},
   "outputs": [],
   "source": [
    "apply_parameters_set(new_baseline_parameters);"
   ]
  },
  {
   "cell_type": "code",
   "execution_count": null,
   "metadata": {},
   "outputs": [],
   "source": [
    "genotype_YLE_ASD_0_1_percent_heterozygous = generate_population();\n",
    "genotype_YLE_ASD_0_1_percent_heterozygous[return_i([\"AB\" \"ef\" \"CD\" \"cd\"], genotypes_detailed)] = BigFloat(\"0.001\");\n",
    "\n",
    "\n",
    "YLE_ASD_single_0_1_percent_Geci_Params = timecourse(50, genotype_YLE_ASD_0_1_percent_heterozygous);"
   ]
  },
  {
   "cell_type": "code",
   "execution_count": null,
   "metadata": {},
   "outputs": [],
   "source": [
    "SI_figure_YLE_ASD_single_0_1_percent_Geci_Params = plot_run_comprehensive(YLE_ASD_single_0_1_percent_Geci_Params, yle_total_bool = true, shredder_total_male_bool = true,\n",
    "            given_dpi = 300, given_size = (325,150))\n",
    "plot!(legend=false, ytickfontsize = 10, xtickfontsize = 10)\n",
    "\n",
    "\n",
    "savefig(SI_figure_YLE_ASD_single_0_1_percent_Geci_Params, \"Plots\\\\SI_figure_YLE_ASD_single_0_1_percent_Geci_Params.svg\")\n",
    "\n",
    "SI_figure_YLE_ASD_single_0_1_percent_Geci_Params"
   ]
  },
  {
   "cell_type": "markdown",
   "metadata": {},
   "source": [
    "# Supplementary Figure XXX\n",
    "\n",
    "Sensitivity plots (same as figure 4) that also include lines for Rm of 2 and Rm of 12"
   ]
  },
  {
   "cell_type": "code",
   "execution_count": null,
   "metadata": {},
   "outputs": [],
   "source": [
    "\n",
    "function sensitivity_plot3(scan1, scan2, scan3, scan4, scan5, scan6;\n",
    "            given_size = (300,180), ymin = 1e-10, kwargs...)\n",
    "\n",
    "\n",
    "    plot(scan1[2:end,1], (scan1[2:end,2]), lw = 4, label = \"min pop size\", colour= colorant\"#000000\",\n",
    "        linestyle=:dot,\n",
    "        dpi = 300, size = given_size, legend = false, ylims = (ymin, 5), yaxis =:log)\n",
    "    plot!(ytickfontsize = 10, xtickfontsize = 10, grid = false)\n",
    "    plot!(scan1[2:end,1], (scan2[2:end,2]), lw = 4, colour= colorant\"#000000\", dpi = 300, legend = false, ylims = (ymin, 5), yaxis =:log, linestyle=:dash)\n",
    "    plot!(scan1[2:end,1], (scan3[2:end,2]), lw = 4, colour= colorant\"#E38512\", dpi = 300, legend = false, ylims = (ymin, 5), yaxis =:log, linestyle=:dot)\n",
    "    plot!(scan1[2:end,1], (scan4[2:end,2]), lw = 4, colour= colorant\"#E38512\", dpi = 300, legend = false, ylims = (ymin, 5), yaxis =:log, linestyle=:dash)\n",
    "    plot!(scan1[2:end,1], (scan5[2:end,2]), lw = 4, colour= colorant\"#7A4C8F\", dpi = 300, legend = false, ylims = (ymin, 5), yaxis =:log, linestyle=:dot)\n",
    "    plot!(scan1[2:end,1], (scan6[2:end,2]), lw = 4, colour= colorant\"#7A4C8F\", dpi = 300, legend = false, ylims = (ymin, 5), yaxis =:log, linestyle=:dash)\n",
    "    plot!(ytickfontsize = 12, xtickfontsize = 12, dpi = 300, size = given_size)\n",
    "\n",
    "end\n",
    "\n"
   ]
  },
  {
   "cell_type": "code",
   "execution_count": null,
   "metadata": {},
   "outputs": [],
   "source": [
    "sf72 = readdlm(\"Simulation results//sf_scan72\", ',')\n",
    "sf73 = readdlm(\"Simulation results//sf_scan73\", ',')\n",
    "sf_lowRm78 =  readdlm(\"Simulation results//sf_scan78_veryLowRmOf2\", ',')\n",
    "sf_lowRm79 =  readdlm(\"Simulation results//sf_scan79_veryLowRmOf2\", ',')\n",
    "sf_highRm710 =  readdlm(\"Simulation results//sf_scan710_veryHighRmOf12\", ',')\n",
    "sf_highRm711  =  readdlm(\"Simulation results//sf_scan711_veryHighRmOf12\", ',')\n",
    "\n",
    "sf_scan = sensitivity_plot3(sf72, sf73, sf_lowRm78, sf_lowRm79, sf_highRm710, sf_highRm711)\n",
    "savefig(sf_scan, \"Plots\\\\sf_scan_extreme.svg\")\n",
    "\n",
    "sf_scan"
   ]
  },
  {
   "cell_type": "code",
   "execution_count": null,
   "metadata": {},
   "outputs": [],
   "source": [
    "hf72 = readdlm(\"Simulation results//hf_scan72\", ',')\n",
    "hf73 = readdlm(\"Simulation results//hf_scan73\", ',')\n",
    "hf_lowRm78 =  readdlm(\"Simulation results//hf_scan78_veryLowRmOf2\", ',')\n",
    "hf_lowRm79 =  readdlm(\"Simulation results//hf_scan79_veryLowRmOf2\", ',')\n",
    "hf_highRm710 =  readdlm(\"Simulation results//hf_scan710_veryHighRmOf12\", ',')\n",
    "hf_highRm711  =  readdlm(\"Simulation results//hf_scan711_veryHighRmOf12\", ',')\n",
    "\n",
    "hf_scan = sensitivity_plot3(hf72, hf73, hf_lowRm78, hf_lowRm79, hf_highRm710, hf_highRm711)\n",
    "savefig(hf_scan, \"Plots\\\\hf_scan_extreme.svg\")\n",
    "\n",
    "hf_scan\n",
    "\n",
    "#one line is below ymin\n",
    "# proof: plot(hf72[2:end,1], (hf_lowRm78[2:end,2]), colour=:grey, dpi = 300, legend = false, yaxis =:log, ylims = (1e-40,20))"
   ]
  },
  {
   "cell_type": "code",
   "execution_count": null,
   "metadata": {},
   "outputs": [],
   "source": [
    "sa72 = readdlm(\"Simulation results//sa_scan72\", ',')\n",
    "sa73 = readdlm(\"Simulation results//sa_scan73\", ',')\n",
    "\n",
    "sa_lowRm78 =  readdlm(\"Simulation results//sa_scan78_veryLowRmOf2\", ',')\n",
    "sa_lowRm79 =  readdlm(\"Simulation results//sa_scan79_veryLowRmOf2\", ',')\n",
    "sa_highRm710 =  readdlm(\"Simulation results//sa_scan710_veryHighRmOf12\", ',')\n",
    "sa_highRm711  =  readdlm(\"Simulation results//sa_scan711_veryHighRmOf12\", ',')\n",
    "\n",
    "sa_scan = sensitivity_plot3(sa72, sa73, sa_lowRm78, sa_lowRm79, sa_highRm710, sa_highRm711)\n",
    "plot!(xlims=(0,0.5))\n",
    "savefig(sa_scan, \"Plots\\\\sa_scan_extreme.svg\")\n",
    "sa_scan"
   ]
  },
  {
   "cell_type": "code",
   "execution_count": null,
   "metadata": {},
   "outputs": [],
   "source": [
    "sb72 = readdlm(\"Simulation results//sb_scan72\", ',')\n",
    "sb73 = readdlm(\"Simulation results//sb_scan73\", ',')\n",
    "\n",
    "\n",
    "sb_lowRm78 =  readdlm(\"Simulation results//sb_scan78_veryLowRmOf2\", ',')\n",
    "sb_lowRm79 =  readdlm(\"Simulation results//sb_scan79_veryLowRmOf2\", ',')\n",
    "sb_highRm710 =  readdlm(\"Simulation results//sb_scan710_veryHighRmOf12\", ',')\n",
    "sb_highRm711  =  readdlm(\"Simulation results//sb_scan711_veryHighRmOf12\", ',')\n",
    "\n",
    "sb_scan = sensitivity_plot3(sb72, sb73, sb_lowRm78, sb_lowRm79, sb_highRm710, sb_highRm711)\n",
    "plot!(xlims=(0,0.5))\n",
    "savefig(sb_scan, \"Plots\\\\sb_scan_extreme.svg\")\n",
    "sb_scan"
   ]
  },
  {
   "cell_type": "code",
   "execution_count": null,
   "metadata": {},
   "outputs": [],
   "source": [
    "sc72 = readdlm(\"Simulation results//sc_scan72\", ',')\n",
    "sc73 = readdlm(\"Simulation results//sc_scan73\", ',')\n",
    "\n",
    "\n",
    "sc_lowRm78 =  readdlm(\"Simulation results//sc_scan78_veryLowRmOf2\", ',')\n",
    "sc_lowRm79 =  readdlm(\"Simulation results//sc_scan79_veryLowRmOf2\", ',')\n",
    "sc_highRm710 =  readdlm(\"Simulation results//sc_scan710_veryHighRmOf12\", ',')\n",
    "sc_highRm711  =  readdlm(\"Simulation results//sc_scan711_veryHighRmOf12\", ',')\n",
    "\n",
    "sc_scan = sensitivity_plot3(sc72, sc73, sc_lowRm78, sc_lowRm79, sc_highRm710, sc_highRm711)\n",
    "plot!(xlims=(0,0.5))\n",
    "savefig(sc_scan, \"Plots\\\\sc_scan_extreme.svg\")\n",
    "sc_scan"
   ]
  },
  {
   "cell_type": "code",
   "execution_count": null,
   "metadata": {},
   "outputs": [],
   "source": [
    "sd72 = readdlm(\"Simulation results//sd_scan72\", ',')\n",
    "sd73 = readdlm(\"Simulation results//sd_scan73\", ',')\n",
    "\n",
    "\n",
    "sd_lowRm78 =  readdlm(\"Simulation results//sd_scan78_veryLowRmOf2\", ',')\n",
    "sd_lowRm79 =  readdlm(\"Simulation results//sd_scan79_veryLowRmOf2\", ',')\n",
    "sd_highRm710 =  readdlm(\"Simulation results//sd_scan710_veryHighRmOf12\", ',')\n",
    "sd_highRm711  =  readdlm(\"Simulation results//sd_scan711_veryHighRmOf12\", ',')\n",
    "\n",
    "sd_scan = sensitivity_plot3(sd72, sd73, sd_lowRm78, sd_lowRm79, sd_highRm710, sd_highRm711)\n",
    "plot!(xlims=(0,0.5))\n",
    "savefig(sd_scan, \"Plots\\\\sd_scan_extreme.svg\")\n",
    "sd_scan"
   ]
  },
  {
   "cell_type": "code",
   "execution_count": null,
   "metadata": {},
   "outputs": [],
   "source": [
    "se72 = readdlm(\"Simulation results//se_scan72\", ',')\n",
    "se73 = readdlm(\"Simulation results//se_scan73\", ',')\n",
    "\n",
    "\n",
    "se_lowRm78 =  readdlm(\"Simulation results//se_scan78_veryLowRmOf2\", ',')\n",
    "se_lowRm79 =  readdlm(\"Simulation results//se_scan79_veryLowRmOf2\", ',')\n",
    "se_highRm710 =  readdlm(\"Simulation results//se_scan710_veryHighRmOf12\", ',')\n",
    "se_highRm711  =  readdlm(\"Simulation results//se_scan711_veryHighRmOf12\", ',')\n",
    "\n",
    "se_scan = sensitivity_plot3(se72, se73, se_lowRm78, se_lowRm79, se_highRm710, se_highRm711)\n",
    "plot!(xlims=(0,0.5))\n",
    "savefig(se_scan, \"Plots\\\\se_scan_extreme.svg\")\n",
    "se_scan"
   ]
  },
  {
   "cell_type": "code",
   "execution_count": null,
   "metadata": {},
   "outputs": [],
   "source": [
    "ee72 = readdlm(\"Simulation results//ee_scan72\", ',')\n",
    "ee72[2,2] = NaN\n",
    "ee73 = readdlm(\"Simulation results//ee_scan73\", ',')\n",
    "\n",
    "\n",
    "ee_lowRm78 =  readdlm(\"Simulation results//ee_scan78_veryLowRmOf2\", ',')\n",
    "ee_lowRm79 =  readdlm(\"Simulation results//ee_scan79_veryLowRmOf2\", ',')\n",
    "ee_highRm710 =  readdlm(\"Simulation results//ee_scan710_veryHighRmOf12\", ',')\n",
    "ee_highRm711  =  readdlm(\"Simulation results//ee_scan711_veryHighRmOf12\", ',')\n",
    "\n",
    "ee_lowRm78[2,2] = NaN\n",
    "ee_lowRm79[2,2] = NaN\n",
    "ee_highRm710[2,2] = NaN\n",
    "\n",
    "ee_scan = sensitivity_plot3(ee72, ee73, ee_lowRm78, ee_lowRm79, ee_highRm710, ee_highRm711)\n",
    "\n",
    "savefig(ee_scan, \"Plots\\\\ee_scan_extreme.svg\")\n",
    "ee_scan"
   ]
  },
  {
   "cell_type": "code",
   "execution_count": null,
   "metadata": {},
   "outputs": [],
   "source": [
    "es72 = readdlm(\"Simulation results//es_scan72\", ',')\n",
    "es73 = readdlm(\"Simulation results//es_scan73\", ',')\n",
    "\n",
    "es_lowRm78 =  readdlm(\"Simulation results//es_scan78_veryLowRmOf2\", ',')\n",
    "es_lowRm79 =  readdlm(\"Simulation results//es_scan79_veryLowRmOf2\", ',')\n",
    "es_highRm710 =  readdlm(\"Simulation results//es_scan710_veryHighRmOf12\", ',')\n",
    "es_highRm711  =  readdlm(\"Simulation results//es_scan711_veryHighRmOf12\", ',')\n",
    "\n",
    "es_scan = sensitivity_plot3(es72, es73, es_lowRm78, es_lowRm79, es_highRm710, es_highRm711)\n",
    "\n",
    "savefig(es_scan, \"Plots\\\\es_scan_extreme.svg\")\n",
    "es_scan"
   ]
  },
  {
   "cell_type": "code",
   "execution_count": null,
   "metadata": {},
   "outputs": [],
   "source": [
    "eh72 = readdlm(\"Simulation results//eh_scan72\", ',')\n",
    "eh73 = readdlm(\"Simulation results//eh_scan73\", ',')\n",
    "\n",
    "\n",
    "eh_lowRm78 =  readdlm(\"Simulation results//eh_scan78_veryLowRmOf2\", ',')\n",
    "eh_lowRm79 =  readdlm(\"Simulation results//eh_scan79_veryLowRmOf2\", ',')\n",
    "eh_highRm710 =  readdlm(\"Simulation results//eh_scan710_veryHighRmOf12\", ',')\n",
    "eh_highRm711  =  readdlm(\"Simulation results//eh_scan711_veryHighRmOf12\", ',')\n",
    "\n",
    "eh_scan = sensitivity_plot3(eh72, eh73, eh_lowRm78, eh_lowRm79, eh_highRm710, eh_highRm711)\n",
    "savefig(eh_scan, \"Plots\\\\eh_scan_extreme.svg\")\n",
    "eh_scan"
   ]
  },
  {
   "cell_type": "code",
   "execution_count": null,
   "metadata": {},
   "outputs": [],
   "source": [
    "m172 = readdlm(\"Simulation results//m1_scan72\", ',')\n",
    "m173 = readdlm(\"Simulation results//m1_scan73\", ',')\n",
    "\n",
    "m1_lowRm78 =  readdlm(\"Simulation results//m1_scan78_veryLowRmOf2\", ',')\n",
    "m1_lowRm79 =  readdlm(\"Simulation results//m1_scan79_veryLowRmOf2\", ',')\n",
    "m1_highRm710 =  readdlm(\"Simulation results//m1_scan710_veryHighRmOf12\", ',')\n",
    "m1_highRm711  =  readdlm(\"Simulation results//m1_scan711_veryHighRmOf12\", ',')\n",
    "\n",
    "# m1 values are stored as exponent to base 10 values, so we first transform values\n",
    "\n",
    "for i in 2:length(m172[:,1])\n",
    "    m172[i,1] = 10^(m172[i,1])\n",
    "    m173[i,1] = 10^(m173[i,1])\n",
    "    m1_lowRm78[i,1] = 10^(m1_lowRm78[i,1])\n",
    "    m1_lowRm79[i,1] = 10^(m1_lowRm79[i,1])\n",
    "    m1_highRm710[i,1] = 10^(m1_highRm710[i,1])\n",
    "    m1_highRm711[i,1]  = 10^(m1_highRm711[i,1])\n",
    "\n",
    "end\n",
    "\n",
    "m1_scan = sensitivity_plot3(m172, m173, m1_lowRm78, m1_lowRm79, m1_highRm710, m1_highRm711)\n",
    "plot!(xaxis=:log, xlims = (1e-3,1), ytickfontsize = 14, xtickfontsize = 14)\n",
    "savefig(m1_scan, \"Plots\\\\m1_scan_extreme.svg\")\n",
    "m1_scan"
   ]
  },
  {
   "cell_type": "code",
   "execution_count": null,
   "metadata": {
    "scrolled": true
   },
   "outputs": [],
   "source": [
    "m272 = readdlm(\"Simulation results//m2_scan72\", ',')\n",
    "m273 = readdlm(\"Simulation results//m2_scan73\", ',')\n",
    "\n",
    "\n",
    "m2_lowRm78 =  readdlm(\"Simulation results//m2_scan78_veryLowRmOf2\", ',')\n",
    "m2_lowRm79 =  readdlm(\"Simulation results//m2_scan79_veryLowRmOf2\", ',')\n",
    "m2_highRm710 =  readdlm(\"Simulation results//m2_scan710_veryHighRmOf12\", ',')\n",
    "m2_highRm711  =  readdlm(\"Simulation results//m2_scan711_veryHighRmOf12\", ',')\n",
    "\n",
    "# m1 values are stored as exponent to base 10 values, so we first transform values\n",
    "\n",
    "for i in 2:length(m272[:,1])\n",
    "    m272[i,1] = 10^(m272[i,1])\n",
    "    m273[i,1] = 10^(m273[i,1])\n",
    "    m2_lowRm78[i,1] = 10^(m2_lowRm78[i,1])\n",
    "    m2_lowRm79[i,1] = 10^(m2_lowRm79[i,1])\n",
    "    m2_highRm710[i,1] = 10^(m2_highRm710[i,1])\n",
    "    m2_highRm711[i,1]  = 10^(m2_highRm711[i,1])\n",
    "\n",
    "end\n",
    "\n",
    "m2_scan = sensitivity_plot3(m272, m273, m2_lowRm78, m2_lowRm79, m2_highRm710, m2_highRm711)\n",
    "plot!(xaxis=:log, xlims = (1e-3,1), ytickfontsize = 14, xtickfontsize = 14)\n",
    "savefig(m2_scan, \"Plots\\\\m2_scan_extreme.svg\")\n",
    "\n",
    "m2_scan"
   ]
  }
 ],
 "metadata": {
  "kernelspec": {
   "display_name": "Julia 1.7.1",
   "language": "julia",
   "name": "julia-1.7"
  },
  "language_info": {
   "file_extension": ".jl",
   "mimetype": "application/julia",
   "name": "julia",
   "version": "1.7.1"
  },
  "varInspector": {
   "cols": {
    "lenName": 16,
    "lenType": 16,
    "lenVar": 40
   },
   "kernels_config": {
    "python": {
     "delete_cmd_postfix": "",
     "delete_cmd_prefix": "del ",
     "library": "var_list.py",
     "varRefreshCmd": "print(var_dic_list())"
    },
    "r": {
     "delete_cmd_postfix": ") ",
     "delete_cmd_prefix": "rm(",
     "library": "var_list.r",
     "varRefreshCmd": "cat(var_dic_list()) "
    }
   },
   "types_to_exclude": [
    "module",
    "function",
    "builtin_function_or_method",
    "instance",
    "_Feature"
   ],
   "window_display": false
  }
 },
 "nbformat": 4,
 "nbformat_minor": 4
}
