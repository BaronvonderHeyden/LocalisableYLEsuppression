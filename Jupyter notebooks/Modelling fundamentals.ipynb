{
 "cells": [
  {
   "cell_type": "markdown",
   "id": "4b86a823",
   "metadata": {},
   "source": [
    "## Setup\n",
    "\n",
    "First we need to load all the functions and data types that make up the model:"
   ]
  },
  {
   "cell_type": "code",
   "execution_count": 13,
   "id": "7c804966",
   "metadata": {},
   "outputs": [
    {
     "name": "stdout",
     "output_type": "stream",
     "text": [
      "Plausibility check ok? true\n",
      "Plausibility check ok? true\n",
      "Plausibility check ok? true\n",
      "Plausibility check ok? true\n",
      "Plausibility check ok? true\n",
      "Plausibility check ok? true\n"
     ]
    }
   ],
   "source": [
    "cd(dirname(pwd()))\n",
    "include(\"Code\\\\new model v9.jl\");"
   ]
  },
  {
   "cell_type": "markdown",
   "id": "5d4b73c4",
   "metadata": {},
   "source": [
    "## Introduction\n",
    "\n",
    "The central "
   ]
  },
  {
   "cell_type": "markdown",
   "id": "670dded6",
   "metadata": {},
   "source": [
    "## 1. Defining parameter values\n",
    "\n",
    "Parameters are saved in the form of a dictionary (for more information see the Julia Documentation: https://docs.julialang.org/en/v1/base/collections/#Base.Dict) where every parameter has a name and an assigned value.\n",
    "\n",
    "To make it easier, we pre-defined a few standard parameter sets. For example, under the name *Parameters_set_standard*.\n",
    "\n",
    "It looks like this:"
   ]
  },
  {
   "cell_type": "markdown",
   "id": "63006415",
   "metadata": {},
   "source": [
    "## Summary"
   ]
  },
  {
   "cell_type": "markdown",
   "id": "ea3aa53e",
   "metadata": {},
   "source": [
    "These 4 main steps (parameter setting, population creation, time course simulation and plotting) are the main steps for using the model. There are a few more advanced functionalities for example for sensitivity analysis but these go beyond an introduction. Feel free to explore the model code to learn more about those."
   ]
  }
 ],
 "metadata": {
  "kernelspec": {
   "display_name": "Julia 1.7.1",
   "language": "julia",
   "name": "julia-1.7"
  },
  "language_info": {
   "file_extension": ".jl",
   "mimetype": "application/julia",
   "name": "julia",
   "version": "1.7.1"
  },
  "varInspector": {
   "cols": {
    "lenName": 16,
    "lenType": 16,
    "lenVar": 40
   },
   "kernels_config": {
    "python": {
     "delete_cmd_postfix": "",
     "delete_cmd_prefix": "del ",
     "library": "var_list.py",
     "varRefreshCmd": "print(var_dic_list())"
    },
    "r": {
     "delete_cmd_postfix": ") ",
     "delete_cmd_prefix": "rm(",
     "library": "var_list.r",
     "varRefreshCmd": "cat(var_dic_list()) "
    }
   },
   "types_to_exclude": [
    "module",
    "function",
    "builtin_function_or_method",
    "instance",
    "_Feature"
   ],
   "window_display": false
  }
 },
 "nbformat": 4,
 "nbformat_minor": 5
}
