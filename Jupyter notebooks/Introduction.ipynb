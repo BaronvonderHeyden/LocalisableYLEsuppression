{
 "cells": [
  {
   "cell_type": "markdown",
   "id": "4b86a823",
   "metadata": {},
   "source": [
    "## Setup\n",
    "\n",
    "First we need to load all the functions and data types that make up the model:"
   ]
  },
  {
   "cell_type": "code",
   "execution_count": null,
   "id": "7c804966",
   "metadata": {},
   "outputs": [],
   "source": [
    "cd(dirname(pwd()))\n",
    "include(\"Code\\\\new model v9.jl\");"
   ]
  },
  {
   "cell_type": "markdown",
   "id": "5d4b73c4",
   "metadata": {},
   "source": [
    "## Introduction\n",
    "\n",
    "The two central functions in the model are the timecourse() and the plot_run_comprehensive() functions.\n",
    "\n",
    "timecourse(t, genotype_vector...) allows you to simulate timecourses for a provided number of generations t.\n",
    "plot_run_comprehensive(run...) then allows you to plot the results of the simulation.\n",
    "\n",
    "However, to be able"
   ]
  },
  {
   "cell_type": "code",
   "execution_count": null,
   "id": "c67630bc",
   "metadata": {},
   "outputs": [],
   "source": []
  },
  {
   "cell_type": "code",
   "execution_count": null,
   "id": "7595eef1",
   "metadata": {},
   "outputs": [],
   "source": []
  },
  {
   "cell_type": "code",
   "execution_count": null,
   "id": "85810cdd",
   "metadata": {},
   "outputs": [],
   "source": []
  }
 ],
 "metadata": {
  "kernelspec": {
   "display_name": "Julia 1.7.1",
   "language": "julia",
   "name": "julia-1.7"
  },
  "language_info": {
   "file_extension": ".jl",
   "mimetype": "application/julia",
   "name": "julia",
   "version": "1.7.1"
  },
  "varInspector": {
   "cols": {
    "lenName": 16,
    "lenType": 16,
    "lenVar": 40
   },
   "kernels_config": {
    "python": {
     "delete_cmd_postfix": "",
     "delete_cmd_prefix": "del ",
     "library": "var_list.py",
     "varRefreshCmd": "print(var_dic_list())"
    },
    "r": {
     "delete_cmd_postfix": ") ",
     "delete_cmd_prefix": "rm(",
     "library": "var_list.r",
     "varRefreshCmd": "cat(var_dic_list()) "
    }
   },
   "types_to_exclude": [
    "module",
    "function",
    "builtin_function_or_method",
    "instance",
    "_Feature"
   ],
   "window_display": false
  }
 },
 "nbformat": 4,
 "nbformat_minor": 5
}
